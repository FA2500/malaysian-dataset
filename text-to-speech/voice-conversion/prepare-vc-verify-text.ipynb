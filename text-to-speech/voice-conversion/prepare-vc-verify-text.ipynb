{
 "cells": [
  {
   "cell_type": "code",
   "execution_count": 1,
   "id": "5dac39b9",
   "metadata": {},
   "outputs": [],
   "source": [
    "from glob import glob\n",
    "from tqdm import tqdm\n",
    "from sklearn.feature_extraction.text import CountVectorizer\n",
    "import json\n",
    "import os\n",
    "import mp\n",
    "import re"
   ]
  },
  {
   "cell_type": "code",
   "execution_count": 2,
   "id": "7c614bdc",
   "metadata": {},
   "outputs": [
    {
     "data": {
      "text/plain": [
       "129198"
      ]
     },
     "execution_count": 2,
     "metadata": {},
     "output_type": "execute_result"
    }
   ],
   "source": [
    "files = glob('malaysian-podcast_processed/**/*/*.json', recursive = True)\n",
    "files.extend(glob('sg-podcast_processed/**/*/*.json', recursive = True))\n",
    "files.extend(glob('filtered-24k_processed/**/*/*.json', recursive = True))\n",
    "files.extend(glob('parlimen-24k-chunk_processed/**/*/*.json', recursive = True))\n",
    "\n",
    "len(files)"
   ]
  },
  {
   "cell_type": "code",
   "execution_count": 3,
   "id": "e0378019",
   "metadata": {},
   "outputs": [],
   "source": [
    "rejected = [\n",
    "    'terima kasih kerana menonton',\n",
    "    'terima kasih',\n",
    "    'thank you for watching',\n",
    "]"
   ]
  },
  {
   "cell_type": "code",
   "execution_count": 4,
   "id": "3332d699",
   "metadata": {},
   "outputs": [],
   "source": [
    "def loop(files):\n",
    "    files, _ = files\n",
    "    data = []\n",
    "    for file in tqdm(files):\n",
    "        folder = os.path.split(file)[0]\n",
    "        folder_folder = os.path.split(folder)[1]\n",
    "        filename = file.replace('.json', '')\n",
    "\n",
    "        try:\n",
    "            with open(file) as fopen:\n",
    "                d = json.load(fopen)\n",
    "        except:\n",
    "            continue\n",
    "\n",
    "        for no, obj in enumerate(d):\n",
    "            text = obj[\"text\"].strip()\n",
    "            \n",
    "            rt_ = re.sub('[^a-z ]+', '', text.lower()).strip()\n",
    "            if any([s == rt_ for s in rejected]):\n",
    "                continue\n",
    "            \n",
    "            try:\n",
    "                dense = CountVectorizer(ngram_range = (3,3)).fit_transform([text]).todense()\n",
    "                repeat = (dense > 3).sum() >= 1\n",
    "                if repeat:\n",
    "                    continue\n",
    "            except:\n",
    "                continue\n",
    "            \n",
    "            audio_path = os.path.join(folder, f'{folder_folder}_{no}.mp3')\n",
    "            new_audio_path = audio_path.replace('processed/', 'processed_24k/')\n",
    "            if os.path.exists(new_audio_path):\n",
    "                audio_path = new_audio_path\n",
    "\n",
    "            data.append({\n",
    "                'audio': audio_path,\n",
    "                'transcription': text,\n",
    "            })\n",
    "    \n",
    "    return data"
   ]
  },
  {
   "cell_type": "code",
   "execution_count": 5,
   "id": "e054b55a",
   "metadata": {},
   "outputs": [
    {
     "name": "stderr",
     "output_type": "stream",
     "text": [
      "100%|████████████████████████████████████| 12919/12919 [00:53<00:00, 242.41it/s]\n",
      "100%|████████████████████████████████████| 12919/12919 [00:53<00:00, 242.35it/s]\n",
      "100%|████████████████████████████████████| 12919/12919 [00:53<00:00, 241.10it/s]\n",
      "100%|████████████████████████████████████| 12919/12919 [00:53<00:00, 241.38it/s]\n",
      "100%|████████████████████████████████████| 12919/12919 [00:53<00:00, 239.81it/s]\n",
      "100%|████████████████████████████████████| 12919/12919 [00:54<00:00, 237.35it/s]\n",
      "100%|████████████████████████████████████| 12919/12919 [00:54<00:00, 236.72it/s]\n",
      "100%|████████████████████████████████████| 12919/12919 [00:54<00:00, 236.41it/s]\n",
      "100%|█████████████████████████████████████████████| 8/8 [00:00<00:00, 10.23it/s]\n",
      "100%|████████████████████████████████████| 12919/12919 [00:58<00:00, 221.15it/s]\n",
      "100%|█████████████████████████████████████| 12919/12919 [03:36<00:00, 59.62it/s]\n"
     ]
    }
   ],
   "source": [
    "data = mp.multiprocessing(files, loop, cores = 10)"
   ]
  },
  {
   "cell_type": "code",
   "execution_count": 6,
   "id": "ca489109",
   "metadata": {},
   "outputs": [
    {
     "data": {
      "text/plain": [
       "2438225"
      ]
     },
     "execution_count": 6,
     "metadata": {},
     "output_type": "execute_result"
    }
   ],
   "source": [
    "len(data)"
   ]
  },
  {
   "cell_type": "code",
   "execution_count": 10,
   "id": "d71c236b",
   "metadata": {},
   "outputs": [
    {
     "data": {
      "text/plain": [
       "{'audio': 'parlimen-24k-chunk_processed/parlimen-24k-LANGSUNG ： Persidangan Dewan Negara 21 MAC 2022 ｜ Sesi Petang [72fMZM9Rrek]_000/parlimen-24k-LANGSUNG ： Persidangan Dewan Negara 21 MAC 2022 ｜ Sesi Petang [72fMZM9Rrek]_000_435.mp3',\n",
       " 'transcription': 'oleh Kementerian Sumber Manusia selari dengan realiti sebenar yang dihadapi oleh rakyat berbagai segmen.'}"
      ]
     },
     "execution_count": 10,
     "metadata": {},
     "output_type": "execute_result"
    }
   ],
   "source": [
    "data[-1]"
   ]
  },
  {
   "cell_type": "code",
   "execution_count": 11,
   "id": "c5191d6e",
   "metadata": {},
   "outputs": [
    {
     "data": {
      "text/html": [
       "\n",
       "                <audio  controls=\"controls\" >\n",
       "                    <source src=\"data:audio/mpeg;base64,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\" type=\"audio/mpeg\" />\n",
       "                    Your browser does not support the audio element.\n",
       "                </audio>\n",
       "              "
      ],
      "text/plain": [
       "<IPython.lib.display.Audio object>"
      ]
     },
     "execution_count": 11,
     "metadata": {},
     "output_type": "execute_result"
    }
   ],
   "source": [
    "import IPython.display as ipd\n",
    "ipd.Audio(data[-1]['audio'])"
   ]
  },
  {
   "cell_type": "code",
   "execution_count": 12,
   "id": "951ef540",
   "metadata": {},
   "outputs": [],
   "source": [
    "with open('verify-text.jsonl', 'w') as fopen:\n",
    "    for d in data:\n",
    "        fopen.write(f'{json.dumps(d)}\\n')\n",
    "        fopen.flush()"
   ]
  },
  {
   "cell_type": "code",
   "execution_count": 13,
   "id": "7fe583e0",
   "metadata": {},
   "outputs": [
    {
     "data": {
      "application/vnd.jupyter.widget-view+json": {
       "model_id": "22309bbdfa784df18e88820f4ef1b0e8",
       "version_major": 2,
       "version_minor": 0
      },
      "text/plain": [
       "verify-text.jsonl:   0%|          | 0.00/862M [00:00<?, ?B/s]"
      ]
     },
     "metadata": {},
     "output_type": "display_data"
    },
    {
     "data": {
      "text/plain": [
       "CommitInfo(commit_url='https://huggingface.co/datasets/mesolitica/Malaysian-Voice-Conversion/commit/43c1e706c60dc209b23b9e4d3bf8543296e976a3', commit_message='Upload verify-text.jsonl with huggingface_hub', commit_description='', oid='43c1e706c60dc209b23b9e4d3bf8543296e976a3', pr_url=None, pr_revision=None, pr_num=None)"
      ]
     },
     "execution_count": 13,
     "metadata": {},
     "output_type": "execute_result"
    }
   ],
   "source": [
    "from huggingface_hub import HfApi\n",
    "api = HfApi()\n",
    "api.upload_file(\n",
    "    path_or_fileobj=\"verify-text.jsonl\",\n",
    "    path_in_repo=\"verify-text.jsonl\",\n",
    "    repo_id=\"mesolitica/Malaysian-Voice-Conversion\",\n",
    "    repo_type=\"dataset\",\n",
    ")"
   ]
  },
  {
   "cell_type": "code",
   "execution_count": null,
   "id": "1f696c0e",
   "metadata": {},
   "outputs": [],
   "source": []
  }
 ],
 "metadata": {
  "kernelspec": {
   "display_name": "python3.10",
   "language": "python",
   "name": "python3.10"
  },
  "language_info": {
   "codemirror_mode": {
    "name": "ipython",
    "version": 3
   },
   "file_extension": ".py",
   "mimetype": "text/x-python",
   "name": "python",
   "nbconvert_exporter": "python",
   "pygments_lexer": "ipython3",
   "version": "3.10.15"
  }
 },
 "nbformat": 4,
 "nbformat_minor": 5
}
