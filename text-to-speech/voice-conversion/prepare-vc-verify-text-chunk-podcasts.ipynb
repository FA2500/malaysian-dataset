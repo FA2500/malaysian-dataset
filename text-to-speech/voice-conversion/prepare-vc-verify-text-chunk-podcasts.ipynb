{
 "cells": [
  {
   "cell_type": "code",
   "execution_count": 1,
   "id": "5dac39b9",
   "metadata": {},
   "outputs": [],
   "source": [
    "from glob import glob\n",
    "from tqdm import tqdm\n",
    "from sklearn.feature_extraction.text import CountVectorizer\n",
    "import json\n",
    "import os\n",
    "import mp\n",
    "import re\n",
    "import subprocess\n",
    "import soundfile as sf"
   ]
  },
  {
   "cell_type": "code",
   "execution_count": 2,
   "id": "7c614bdc",
   "metadata": {
    "scrolled": true
   },
   "outputs": [
    {
     "data": {
      "text/plain": [
       "22492"
      ]
     },
     "execution_count": 2,
     "metadata": {},
     "output_type": "execute_result"
    }
   ],
   "source": [
    "files = glob('malaysian-podcast_processed/**/*/*.json', recursive = True)\n",
    "files.extend(glob('/home/husein/ssd3/sg-podcast_processed/**/*/*.json', recursive = True))\n",
    "\n",
    "len(files)"
   ]
  },
  {
   "cell_type": "code",
   "execution_count": 3,
   "id": "e0378019",
   "metadata": {},
   "outputs": [],
   "source": [
    "rejected = [\n",
    "    'terima kasih kerana menonton',\n",
    "    'terima kasih',\n",
    "    'thank you for watching',\n",
    "]"
   ]
  },
  {
   "cell_type": "code",
   "execution_count": 4,
   "id": "ab370ff3",
   "metadata": {},
   "outputs": [],
   "source": [
    "# !rm -rf new_chunk\n",
    "!mkdir new_chunk"
   ]
  },
  {
   "cell_type": "code",
   "execution_count": 5,
   "id": "09d4fb11",
   "metadata": {},
   "outputs": [
    {
     "data": {
      "text/plain": [
       "0"
      ]
     },
     "execution_count": 5,
     "metadata": {},
     "output_type": "execute_result"
    }
   ],
   "source": [
    "len(glob('new_chunk/*.mp3'))"
   ]
  },
  {
   "cell_type": "code",
   "execution_count": 6,
   "id": "3332d699",
   "metadata": {},
   "outputs": [],
   "source": [
    "def new_path(f):\n",
    "    f = f.replace('.mp3', '.alignment')\n",
    "    f = f.replace('_processed/', '_processed_alignment/')\n",
    "    return f\n",
    "\n",
    "def new_path_lang(f):\n",
    "    f = f.replace('.mp3', '.language')\n",
    "    f = f.replace('_processed/', '_processed_language/')\n",
    "    return f\n",
    "\n",
    "def chunk(alignment, reject = -15, minimum_length = 3.0):\n",
    "    alls, temp = [], []\n",
    "    for a in alignment:\n",
    "        if a['score'] <= reject:\n",
    "            if len(temp):\n",
    "                temp[-1]['end'] = a['start']\n",
    "                if (temp[-1]['end'] - temp[0]['start']) >= minimum_length:\n",
    "                    alls.append(temp)\n",
    "                temp = []\n",
    "        else:\n",
    "            temp.append(a)\n",
    "            \n",
    "    if len(temp):\n",
    "        if (temp[-1]['end'] - temp[0]['start']) >= minimum_length:\n",
    "            alls.append(temp)\n",
    "    return alls\n",
    "        \n",
    "def loop(files):\n",
    "    files, _ = files\n",
    "    data = []\n",
    "    for file in tqdm(files):\n",
    "        folder = os.path.split(file)[0]\n",
    "        folder_folder = os.path.split(folder)[1]\n",
    "        filename = file.replace('.json', '')\n",
    "\n",
    "        try:\n",
    "            with open(file) as fopen:\n",
    "                d = json.load(fopen)\n",
    "        except:\n",
    "            continue\n",
    "\n",
    "        for no, obj in enumerate(d):\n",
    "            text = obj[\"text\"].strip()\n",
    "            \n",
    "            rt_ = re.sub('[^a-z ]+', '', text.lower()).strip()\n",
    "            if any([s == rt_ for s in rejected]):\n",
    "                continue\n",
    "            \n",
    "            try:\n",
    "                dense = CountVectorizer(ngram_range = (3,3)).fit_transform([text]).todense()\n",
    "                repeat = (dense > 3).sum() >= 1\n",
    "                if repeat:\n",
    "                    continue\n",
    "            except:\n",
    "                continue\n",
    "            \n",
    "            audio_path = os.path.join(folder, f'{folder_folder}_{no}.mp3')\n",
    "            \n",
    "            if not os.path.exists(audio_path):\n",
    "                continue\n",
    "                \n",
    "            align_path = new_path(audio_path)\n",
    "            \n",
    "            if not os.path.exists(align_path):\n",
    "                continue\n",
    "                \n",
    "            with open(align_path) as fopen:\n",
    "                align = json.load(fopen)\n",
    "                \n",
    "            scores = [a for a in align if a['score'] <= -15]\n",
    "            if not len(scores):\n",
    "                continue\n",
    "            \n",
    "            chunks = chunk(align)\n",
    "            if len(chunks):\n",
    "                y, sr = sf.read(audio_path)\n",
    "                for no, c in enumerate(chunks):\n",
    "                    try:\n",
    "                        t = ' '.join([c_['text'] for c_ in c])\n",
    "                        start = c[0]['start']\n",
    "                        end = c[-1]['end']\n",
    "                        a = audio_path.replace('/', '_').replace('.mp3', '') \n",
    "                        a = os.path.join('new_chunk', f'{a}_{no}.mp3')\n",
    "                        if not os.path.exists(a):\n",
    "                            sf.write(a, y[int(sr * start): int(sr * end)], sr)\n",
    "\n",
    "                        data.append({\n",
    "                            'audio': a,\n",
    "                            'transcription': t,\n",
    "                        })\n",
    "                    except:\n",
    "                        pass\n",
    "    \n",
    "    return data"
   ]
  },
  {
   "cell_type": "code",
   "execution_count": 7,
   "id": "96b87089",
   "metadata": {},
   "outputs": [
    {
     "name": "stderr",
     "output_type": "stream",
     "text": [
      "100%|███████████████████████████████████████████████████████████████████████████████████████| 100/100 [00:19<00:00,  5.16it/s]\n"
     ]
    }
   ],
   "source": [
    "d = loop((files[-100:], 0))"
   ]
  },
  {
   "cell_type": "code",
   "execution_count": 9,
   "id": "f1f345b3",
   "metadata": {},
   "outputs": [
    {
     "data": {
      "text/plain": [
       "509"
      ]
     },
     "execution_count": 9,
     "metadata": {},
     "output_type": "execute_result"
    }
   ],
   "source": [
    "len(d)"
   ]
  },
  {
   "cell_type": "code",
   "execution_count": 11,
   "id": "cb7b2172",
   "metadata": {},
   "outputs": [
    {
     "data": {
      "text/plain": [
       "{'audio': 'new_chunk/_home_husein_ssd3_sg-podcast_processed_What To Do And Eat In Sydney, Australia [H4y5ydsnMuk]_What To Do And Eat In Sydney, Australia [H4y5ydsnMuk]_0_1.mp3',\n",
       " 'transcription': 'take a look up and look into the sky. The sky is so'}"
      ]
     },
     "execution_count": 11,
     "metadata": {},
     "output_type": "execute_result"
    }
   ],
   "source": [
    "d[-1]"
   ]
  },
  {
   "cell_type": "code",
   "execution_count": 12,
   "id": "3b91abda",
   "metadata": {},
   "outputs": [
    {
     "data": {
      "text/html": [
       "\n",
       "                <audio  controls=\"controls\" >\n",
       "                    <source src=\"data:audio/mpeg;base64,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\" type=\"audio/mpeg\" />\n",
       "                    Your browser does not support the audio element.\n",
       "                </audio>\n",
       "              "
      ],
      "text/plain": [
       "<IPython.lib.display.Audio object>"
      ]
     },
     "execution_count": 12,
     "metadata": {},
     "output_type": "execute_result"
    }
   ],
   "source": [
    "import IPython.display as ipd\n",
    "ipd.Audio(d[-1]['audio'])"
   ]
  },
  {
   "cell_type": "code",
   "execution_count": 13,
   "id": "e054b55a",
   "metadata": {
    "scrolled": true
   },
   "outputs": [
    {
     "name": "stderr",
     "output_type": "stream",
     "text": [
      "100%|█████████████████████████████████████████████████████████████████████████████████████| 1499/1499 [12:36<00:00,  1.98it/s]\n",
      "100%|█████████████████████████████████████████████████████████████████████████████████████| 1499/1499 [12:37<00:00,  1.98it/s]\n",
      "100%|██████████████████████████████████████████████████████████████████████████████████████████| 7/7 [00:00<00:00, 341.29it/s]\n",
      "100%|█████████████████████████████████████████████████████████████████████████████████████| 1499/1499 [12:42<00:00,  1.97it/s]\n",
      "100%|█████████████████████████████████████████████████████████████████████████████████████| 1499/1499 [12:45<00:00,  1.96it/s]\n",
      "100%|█████████████████████████████████████████████████████████████████████████████████████| 1499/1499 [12:48<00:00,  1.95it/s]\n",
      "100%|█████████████████████████████████████████████████████████████████████████████████████| 1499/1499 [13:07<00:00,  1.90it/s]\n",
      "100%|█████████████████████████████████████████████████████████████████████████████████████| 1499/1499 [13:10<00:00,  1.90it/s]\n",
      "100%|█████████████████████████████████████████████████████████████████████████████████████| 1499/1499 [13:23<00:00,  1.87it/s]\n",
      "100%|█████████████████████████████████████████████████████████████████████████████████████| 1499/1499 [13:27<00:00,  1.86it/s]\n",
      "100%|█████████████████████████████████████████████████████████████████████████████████████| 1499/1499 [13:30<00:00,  1.85it/s]\n",
      "100%|█████████████████████████████████████████████████████████████████████████████████████| 1499/1499 [13:52<00:00,  1.80it/s]\n",
      "100%|█████████████████████████████████████████████████████████████████████████████████████| 1499/1499 [14:15<00:00,  1.75it/s]\n",
      "100%|█████████████████████████████████████████████████████████████████████████████████████| 1499/1499 [14:24<00:00,  1.73it/s]\n",
      "100%|█████████████████████████████████████████████████████████████████████████████████████| 1499/1499 [15:02<00:00,  1.66it/s]\n",
      "100%|█████████████████████████████████████████████████████████████████████████████████████| 1499/1499 [15:25<00:00,  1.62it/s]\n"
     ]
    }
   ],
   "source": [
    "data = mp.multiprocessing(files, loop, cores = 15)"
   ]
  },
  {
   "cell_type": "code",
   "execution_count": 18,
   "id": "1859ae50",
   "metadata": {},
   "outputs": [
    {
     "data": {
      "text/plain": [
       "192679"
      ]
     },
     "execution_count": 18,
     "metadata": {},
     "output_type": "execute_result"
    }
   ],
   "source": [
    "len(data)"
   ]
  },
  {
   "cell_type": "code",
   "execution_count": 15,
   "id": "8d711233",
   "metadata": {},
   "outputs": [
    {
     "name": "stderr",
     "output_type": "stream",
     "text": [
      "100%|████████████████████████████████████████████████████████████████████████████| 192679/192679 [00:00<00:00, 3202665.87it/s]\n"
     ]
    },
    {
     "data": {
      "text/plain": [
       "defaultdict(int,\n",
       "            {'new_chunk/malaysian-podcast': 157210,\n",
       "             'new_chunk/_home_husein_ssd3_sg-podcast': 35469})"
      ]
     },
     "execution_count": 15,
     "metadata": {},
     "output_type": "execute_result"
    }
   ],
   "source": [
    "from collections import defaultdict\n",
    "\n",
    "uniques = defaultdict(int)\n",
    "for d in tqdm(data):\n",
    "    uniques[d['audio'].split('_processed')[0]] += 1\n",
    "    \n",
    "uniques"
   ]
  },
  {
   "cell_type": "code",
   "execution_count": 16,
   "id": "5e5a20a6",
   "metadata": {},
   "outputs": [
    {
     "data": {
      "text/html": [
       "<div>\n",
       "<style scoped>\n",
       "    .dataframe tbody tr th:only-of-type {\n",
       "        vertical-align: middle;\n",
       "    }\n",
       "\n",
       "    .dataframe tbody tr th {\n",
       "        vertical-align: top;\n",
       "    }\n",
       "\n",
       "    .dataframe thead th {\n",
       "        text-align: right;\n",
       "    }\n",
       "</style>\n",
       "<table border=\"1\" class=\"dataframe\">\n",
       "  <thead>\n",
       "    <tr style=\"text-align: right;\">\n",
       "      <th></th>\n",
       "      <th>audio</th>\n",
       "      <th>transcription</th>\n",
       "    </tr>\n",
       "  </thead>\n",
       "  <tbody>\n",
       "    <tr>\n",
       "      <th>0</th>\n",
       "      <td>new_chunk/malaysian-podcast_processed_3 Teknik...</td>\n",
       "      <td>Ada satu pepatah dalam MMA ni kata, don't give...</td>\n",
       "    </tr>\n",
       "    <tr>\n",
       "      <th>1</th>\n",
       "      <td>new_chunk/malaysian-podcast_processed_3 Teknik...</td>\n",
       "      <td>di dalam, you know, sukan grappling ataupun MM...</td>\n",
       "    </tr>\n",
       "    <tr>\n",
       "      <th>2</th>\n",
       "      <td>new_chunk/malaysian-podcast_processed_3 Teknik...</td>\n",
       "      <td>Tapi yang common orang buat ni biasa, rear nak...</td>\n",
       "    </tr>\n",
       "    <tr>\n",
       "      <th>3</th>\n",
       "      <td>new_chunk/malaysian-podcast_processed_3 Teknik...</td>\n",
       "      <td>tu berada di belakang apa, posisi, maksudnya b...</td>\n",
       "    </tr>\n",
       "    <tr>\n",
       "      <th>4</th>\n",
       "      <td>new_chunk/malaysian-podcast_processed_3 Teknik...</td>\n",
       "      <td>lock. So, memang, bahaya lah. Okay, nombor sat...</td>\n",
       "    </tr>\n",
       "  </tbody>\n",
       "</table>\n",
       "</div>"
      ],
      "text/plain": [
       "                                               audio  \\\n",
       "0  new_chunk/malaysian-podcast_processed_3 Teknik...   \n",
       "1  new_chunk/malaysian-podcast_processed_3 Teknik...   \n",
       "2  new_chunk/malaysian-podcast_processed_3 Teknik...   \n",
       "3  new_chunk/malaysian-podcast_processed_3 Teknik...   \n",
       "4  new_chunk/malaysian-podcast_processed_3 Teknik...   \n",
       "\n",
       "                                       transcription  \n",
       "0  Ada satu pepatah dalam MMA ni kata, don't give...  \n",
       "1  di dalam, you know, sukan grappling ataupun MM...  \n",
       "2  Tapi yang common orang buat ni biasa, rear nak...  \n",
       "3  tu berada di belakang apa, posisi, maksudnya b...  \n",
       "4  lock. So, memang, bahaya lah. Okay, nombor sat...  "
      ]
     },
     "execution_count": 16,
     "metadata": {},
     "output_type": "execute_result"
    }
   ],
   "source": [
    "import pandas as pd\n",
    "\n",
    "df = pd.DataFrame(data)\n",
    "df.head()"
   ]
  },
  {
   "cell_type": "code",
   "execution_count": 17,
   "id": "8f4993ac",
   "metadata": {},
   "outputs": [],
   "source": [
    "df.to_parquet('verify-text-chunk-podcasts.parquet')"
   ]
  },
  {
   "cell_type": "code",
   "execution_count": 19,
   "id": "c5e26898",
   "metadata": {},
   "outputs": [
    {
     "name": "stdout",
     "output_type": "stream",
     "text": [
      "8.1G\tnew_chunk\r\n"
     ]
    }
   ],
   "source": [
    "!du -hs new_chunk"
   ]
  },
  {
   "cell_type": "code",
   "execution_count": 20,
   "id": "07408598",
   "metadata": {},
   "outputs": [],
   "source": [
    "!zip -rq text-chunk-podcasts.zip new_chunk"
   ]
  }
 ],
 "metadata": {
  "kernelspec": {
   "display_name": "python3.10",
   "language": "python",
   "name": "python3.10"
  },
  "language_info": {
   "codemirror_mode": {
    "name": "ipython",
    "version": 3
   },
   "file_extension": ".py",
   "mimetype": "text/x-python",
   "name": "python",
   "nbconvert_exporter": "python",
   "pygments_lexer": "ipython3",
   "version": "3.10.15"
  }
 },
 "nbformat": 4,
 "nbformat_minor": 5
}
