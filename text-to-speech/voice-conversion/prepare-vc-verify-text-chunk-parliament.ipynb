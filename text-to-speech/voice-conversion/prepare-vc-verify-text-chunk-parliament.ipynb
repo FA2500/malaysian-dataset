{
 "cells": [
  {
   "cell_type": "code",
   "execution_count": 1,
   "id": "5dac39b9",
   "metadata": {},
   "outputs": [],
   "source": [
    "from glob import glob\n",
    "from tqdm import tqdm\n",
    "from sklearn.feature_extraction.text import CountVectorizer\n",
    "import json\n",
    "import os\n",
    "import mp\n",
    "import re\n",
    "import subprocess\n",
    "import soundfile as sf"
   ]
  },
  {
   "cell_type": "code",
   "execution_count": 2,
   "id": "7c614bdc",
   "metadata": {
    "scrolled": true
   },
   "outputs": [
    {
     "data": {
      "text/plain": [
       "3399"
      ]
     },
     "execution_count": 2,
     "metadata": {},
     "output_type": "execute_result"
    }
   ],
   "source": [
    "files = glob('parlimen-24k-chunk_processed/**/*/*.json', recursive = True)\n",
    "\n",
    "len(files)"
   ]
  },
  {
   "cell_type": "code",
   "execution_count": 3,
   "id": "e0378019",
   "metadata": {},
   "outputs": [],
   "source": [
    "rejected = [\n",
    "    'terima kasih kerana menonton',\n",
    "    'terima kasih',\n",
    "    'thank you for watching',\n",
    "]"
   ]
  },
  {
   "cell_type": "code",
   "execution_count": 4,
   "id": "ab370ff3",
   "metadata": {},
   "outputs": [],
   "source": [
    "!rm -rf parliament-chunk\n",
    "!mkdir parliament-chunk"
   ]
  },
  {
   "cell_type": "code",
   "execution_count": 5,
   "id": "3332d699",
   "metadata": {},
   "outputs": [],
   "source": [
    "def new_path(f):\n",
    "    f = f.replace('.mp3', '.alignment')\n",
    "    f = f.replace('_processed/', '_processed_alignment/')\n",
    "    return f\n",
    "\n",
    "def new_path_lang(f):\n",
    "    f = f.replace('.mp3', '.language')\n",
    "    f = f.replace('_processed/', '_processed_language/')\n",
    "    return f\n",
    "\n",
    "def chunk(alignment, reject = -10, minimum_length = 5.0):\n",
    "    alls, temp = [], []\n",
    "    for a in alignment:\n",
    "        if a['score'] <= reject:\n",
    "            if len(temp):\n",
    "                temp[-1]['end'] = a['start']\n",
    "                if (temp[-1]['end'] - temp[0]['start']) >= minimum_length:\n",
    "                    alls.append(temp)\n",
    "                temp = []\n",
    "        else:\n",
    "            temp.append(a)\n",
    "            \n",
    "    if len(temp):\n",
    "        if (temp[-1]['end'] - temp[0]['start']) >= minimum_length:\n",
    "            alls.append(temp)\n",
    "    return alls\n",
    "        \n",
    "def loop(files):\n",
    "    files, _ = files\n",
    "    data = []\n",
    "    for file in tqdm(files):\n",
    "        folder = os.path.split(file)[0]\n",
    "        folder_folder = os.path.split(folder)[1]\n",
    "        filename = file.replace('.json', '')\n",
    "\n",
    "        try:\n",
    "            with open(file) as fopen:\n",
    "                d = json.load(fopen)\n",
    "        except:\n",
    "            continue\n",
    "\n",
    "        for no, obj in enumerate(d):\n",
    "            text = obj[\"text\"].strip()\n",
    "            \n",
    "            rt_ = re.sub('[^a-z ]+', '', text.lower()).strip()\n",
    "            if any([s == rt_ for s in rejected]):\n",
    "                continue\n",
    "            \n",
    "            try:\n",
    "                dense = CountVectorizer(ngram_range = (3,3)).fit_transform([text]).todense()\n",
    "                repeat = (dense > 3).sum() >= 1\n",
    "                if repeat:\n",
    "                    continue\n",
    "            except:\n",
    "                continue\n",
    "            \n",
    "            audio_path = os.path.join(folder, f'{folder_folder}_{no}.mp3')\n",
    "            \n",
    "            if not os.path.exists(audio_path):\n",
    "                continue\n",
    "                \n",
    "            align_path = new_path(audio_path)\n",
    "            \n",
    "            if not os.path.exists(align_path):\n",
    "                continue\n",
    "                \n",
    "            with open(align_path) as fopen:\n",
    "                align = json.load(fopen)\n",
    "                \n",
    "            scores = [a for a in align if a['score'] <= -15]\n",
    "            if not len(scores):\n",
    "                continue\n",
    "            \n",
    "            chunks = chunk(align)\n",
    "            if len(chunks):\n",
    "                y, sr = sf.read(audio_path)\n",
    "                for no, c in enumerate(chunks):\n",
    "                    try:\n",
    "                        t = ' '.join([c_['text'] for c_ in c])\n",
    "                        start = c[0]['start']\n",
    "                        end = c[-1]['end']\n",
    "                        a = audio_path.replace('/', '_').replace('.mp3', '') \n",
    "                        a = os.path.join('parliament-chunk', f'{a}_{no}.mp3')\n",
    "                        if not os.path.exists(a):\n",
    "                            sf.write(a, y[int(sr * start): int(sr * end)], sr)\n",
    "\n",
    "                        data.append({\n",
    "                            'audio': a,\n",
    "                            'transcription': t,\n",
    "                        })\n",
    "                    except:\n",
    "                        pass\n",
    "    \n",
    "    return data"
   ]
  },
  {
   "cell_type": "code",
   "execution_count": null,
   "id": "96b87089",
   "metadata": {},
   "outputs": [],
   "source": [
    "d = loop((files[-100:], 0))"
   ]
  },
  {
   "cell_type": "code",
   "execution_count": null,
   "id": "7605643e",
   "metadata": {},
   "outputs": [],
   "source": [
    "len(d)"
   ]
  },
  {
   "cell_type": "code",
   "execution_count": null,
   "id": "49968a9c",
   "metadata": {},
   "outputs": [],
   "source": [
    "d[-1]"
   ]
  },
  {
   "cell_type": "code",
   "execution_count": null,
   "id": "3b91abda",
   "metadata": {},
   "outputs": [],
   "source": [
    "import IPython.display as ipd\n",
    "ipd.Audio(d[-1]['audio'])"
   ]
  },
  {
   "cell_type": "code",
   "execution_count": 6,
   "id": "e054b55a",
   "metadata": {
    "scrolled": true
   },
   "outputs": [
    {
     "name": "stderr",
     "output_type": "stream",
     "text": [
      "100%|███████████████████████████████████████████████████████████████████████████████████████| 226/226 [28:13<00:00,  7.49s/it]\n",
      "100%|███████████████████████████████████████████████████████████████████████████████████████████| 9/9 [01:47<00:00, 11.92s/it]\n",
      "100%|███████████████████████████████████████████████████████████████████████████████████████| 226/226 [30:30<00:00,  8.10s/it]\n",
      "100%|███████████████████████████████████████████████████████████████████████████████████████| 226/226 [30:46<00:00,  8.17s/it]\n",
      "100%|███████████████████████████████████████████████████████████████████████████████████████| 226/226 [31:44<00:00,  8.43s/it]\n",
      "100%|███████████████████████████████████████████████████████████████████████████████████████| 226/226 [32:35<00:00,  8.65s/it]\n",
      "100%|███████████████████████████████████████████████████████████████████████████████████████| 226/226 [33:03<00:00,  8.78s/it]\n",
      "100%|███████████████████████████████████████████████████████████████████████████████████████| 226/226 [33:31<00:00,  8.90s/it]\n",
      "100%|███████████████████████████████████████████████████████████████████████████████████████| 226/226 [33:58<00:00,  9.02s/it]\n",
      "100%|███████████████████████████████████████████████████████████████████████████████████████| 226/226 [34:20<00:00,  9.12s/it]\n",
      "100%|███████████████████████████████████████████████████████████████████████████████████████| 226/226 [34:25<00:00,  9.14s/it]\n",
      "100%|███████████████████████████████████████████████████████████████████████████████████████| 226/226 [34:35<00:00,  9.18s/it]\n",
      "100%|███████████████████████████████████████████████████████████████████████████████████████| 226/226 [34:42<00:00,  9.21s/it]\n",
      "100%|███████████████████████████████████████████████████████████████████████████████████████| 226/226 [34:52<00:00,  9.26s/it]\n",
      "100%|███████████████████████████████████████████████████████████████████████████████████████| 226/226 [35:18<00:00,  9.37s/it]\n",
      "100%|███████████████████████████████████████████████████████████████████████████████████████| 226/226 [35:56<00:00,  9.54s/it]\n"
     ]
    }
   ],
   "source": [
    "data = mp.multiprocessing(files, loop, cores = 15)"
   ]
  },
  {
   "cell_type": "code",
   "execution_count": 8,
   "id": "7efac780",
   "metadata": {},
   "outputs": [
    {
     "data": {
      "text/plain": [
       "191545"
      ]
     },
     "execution_count": 8,
     "metadata": {},
     "output_type": "execute_result"
    }
   ],
   "source": [
    "len(data)"
   ]
  },
  {
   "cell_type": "code",
   "execution_count": 9,
   "id": "8d711233",
   "metadata": {},
   "outputs": [
    {
     "name": "stderr",
     "output_type": "stream",
     "text": [
      "100%|████████████████████████████████████████████████████████████████████████████| 191545/191545 [00:00<00:00, 2483678.47it/s]\n"
     ]
    },
    {
     "data": {
      "text/plain": [
       "defaultdict(int, {'parliament-chunk/parlimen-24k-chunk': 191545})"
      ]
     },
     "execution_count": 9,
     "metadata": {},
     "output_type": "execute_result"
    }
   ],
   "source": [
    "from collections import defaultdict\n",
    "\n",
    "uniques = defaultdict(int)\n",
    "for d in tqdm(data):\n",
    "    uniques[d['audio'].split('_processed')[0]] += 1\n",
    "    \n",
    "uniques"
   ]
  },
  {
   "cell_type": "code",
   "execution_count": 10,
   "id": "5e5a20a6",
   "metadata": {},
   "outputs": [
    {
     "data": {
      "text/html": [
       "<div>\n",
       "<style scoped>\n",
       "    .dataframe tbody tr th:only-of-type {\n",
       "        vertical-align: middle;\n",
       "    }\n",
       "\n",
       "    .dataframe tbody tr th {\n",
       "        vertical-align: top;\n",
       "    }\n",
       "\n",
       "    .dataframe thead th {\n",
       "        text-align: right;\n",
       "    }\n",
       "</style>\n",
       "<table border=\"1\" class=\"dataframe\">\n",
       "  <thead>\n",
       "    <tr style=\"text-align: right;\">\n",
       "      <th></th>\n",
       "      <th>audio</th>\n",
       "      <th>transcription</th>\n",
       "    </tr>\n",
       "  </thead>\n",
       "  <tbody>\n",
       "    <tr>\n",
       "      <th>0</th>\n",
       "      <td>parliament-chunk/parlimen-24k-chunk_processed_...</td>\n",
       "      <td>dewan rakyat dengan menyebut nama Allah Yang M...</td>\n",
       "    </tr>\n",
       "    <tr>\n",
       "      <th>1</th>\n",
       "      <td>parliament-chunk/parlimen-24k-chunk_processed_...</td>\n",
       "      <td>yang bersifat maha hikmat, limpah keadilan, ya...</td>\n",
       "    </tr>\n",
       "    <tr>\n",
       "      <th>2</th>\n",
       "      <td>parliament-chunk/parlimen-24k-chunk_processed_...</td>\n",
       "      <td>permesyuaratan bagi mentadbir maslahat masyara...</td>\n",
       "    </tr>\n",
       "    <tr>\n",
       "      <th>3</th>\n",
       "      <td>parliament-chunk/parlimen-24k-chunk_processed_...</td>\n",
       "      <td>saya ingin menarik perhatian pihak lembaga pem...</td>\n",
       "    </tr>\n",
       "    <tr>\n",
       "      <th>4</th>\n",
       "      <td>parliament-chunk/parlimen-24k-chunk_processed_...</td>\n",
       "      <td>satu sistem pendidikan yang mempunyai aliran y...</td>\n",
       "    </tr>\n",
       "  </tbody>\n",
       "</table>\n",
       "</div>"
      ],
      "text/plain": [
       "                                               audio  \\\n",
       "0  parliament-chunk/parlimen-24k-chunk_processed_...   \n",
       "1  parliament-chunk/parlimen-24k-chunk_processed_...   \n",
       "2  parliament-chunk/parlimen-24k-chunk_processed_...   \n",
       "3  parliament-chunk/parlimen-24k-chunk_processed_...   \n",
       "4  parliament-chunk/parlimen-24k-chunk_processed_...   \n",
       "\n",
       "                                       transcription  \n",
       "0  dewan rakyat dengan menyebut nama Allah Yang M...  \n",
       "1  yang bersifat maha hikmat, limpah keadilan, ya...  \n",
       "2  permesyuaratan bagi mentadbir maslahat masyara...  \n",
       "3  saya ingin menarik perhatian pihak lembaga pem...  \n",
       "4  satu sistem pendidikan yang mempunyai aliran y...  "
      ]
     },
     "execution_count": 10,
     "metadata": {},
     "output_type": "execute_result"
    }
   ],
   "source": [
    "import pandas as pd\n",
    "\n",
    "df = pd.DataFrame(data)\n",
    "df.head()"
   ]
  },
  {
   "cell_type": "code",
   "execution_count": 11,
   "id": "8f4993ac",
   "metadata": {},
   "outputs": [],
   "source": [
    "df.to_parquet('verify-text-chunk-parliament.parquet')"
   ]
  },
  {
   "cell_type": "code",
   "execution_count": 12,
   "id": "a0dff8da",
   "metadata": {},
   "outputs": [
    {
     "name": "stdout",
     "output_type": "stream",
     "text": [
      "11G\tparliament-chunk\r\n"
     ]
    }
   ],
   "source": [
    "!du -hs parliament-chunk"
   ]
  },
  {
   "cell_type": "code",
   "execution_count": 14,
   "id": "9b4ff018",
   "metadata": {},
   "outputs": [],
   "source": [
    "!zip -q -r -s 10000m parliament-chunk.zip parliament-chunk"
   ]
  },
  {
   "cell_type": "code",
   "execution_count": 15,
   "id": "bec50cac",
   "metadata": {},
   "outputs": [
    {
     "name": "stdout",
     "output_type": "stream",
     "text": [
      "parliament-chunk.zip\r\n"
     ]
    }
   ],
   "source": [
    "!ls parliament-chunk.z*"
   ]
  },
  {
   "cell_type": "code",
   "execution_count": 13,
   "id": "5774ef42",
   "metadata": {},
   "outputs": [
    {
     "data": {
      "application/vnd.jupyter.widget-view+json": {
       "model_id": "1fad61c8db38408e8b384cab65b110e4",
       "version_major": 2,
       "version_minor": 0
      },
      "text/plain": [
       "verify-text-chunk-parliament.parquet:   0%|          | 0.00/16.9M [00:00<?, ?B/s]"
      ]
     },
     "metadata": {},
     "output_type": "display_data"
    },
    {
     "data": {
      "text/plain": [
       "CommitInfo(commit_url='https://huggingface.co/datasets/mesolitica/Malaysian-Voice-Conversion/commit/49022a2f3c2d58a303015445d0772fac573c9a27', commit_message='Upload data/parliament_chunk-00000-of-00001.parquet with huggingface_hub', commit_description='', oid='49022a2f3c2d58a303015445d0772fac573c9a27', pr_url=None, repo_url=RepoUrl('https://huggingface.co/datasets/mesolitica/Malaysian-Voice-Conversion', endpoint='https://huggingface.co', repo_type='dataset', repo_id='mesolitica/Malaysian-Voice-Conversion'), pr_revision=None, pr_num=None)"
      ]
     },
     "execution_count": 13,
     "metadata": {},
     "output_type": "execute_result"
    }
   ],
   "source": [
    "from huggingface_hub import HfApi\n",
    "api = HfApi()\n",
    "api.upload_file(\n",
    "    path_or_fileobj=\"verify-text-chunk-parliament.parquet\",\n",
    "    path_in_repo=\"data/parliament_chunk-00000-of-00001.parquet\",\n",
    "    repo_id=\"mesolitica/Malaysian-Voice-Conversion\",\n",
    "    repo_type=\"dataset\",\n",
    ")\n"
   ]
  },
  {
   "cell_type": "code",
   "execution_count": 16,
   "id": "5685936a",
   "metadata": {},
   "outputs": [
    {
     "data": {
      "application/vnd.jupyter.widget-view+json": {
       "model_id": "339f484173774669a650fca84003b60a",
       "version_major": 2,
       "version_minor": 0
      },
      "text/plain": [
       "parliament-chunk.zip:   0%|          | 0.00/10.3G [00:00<?, ?B/s]"
      ]
     },
     "metadata": {},
     "output_type": "display_data"
    },
    {
     "data": {
      "text/plain": [
       "CommitInfo(commit_url='https://huggingface.co/datasets/mesolitica/Malaysian-Voice-Conversion/commit/2aa6e9ada6d9cb2630b41cea23cb459efed6545a', commit_message='Upload data/parliament-chunk.zip with huggingface_hub', commit_description='', oid='2aa6e9ada6d9cb2630b41cea23cb459efed6545a', pr_url=None, repo_url=RepoUrl('https://huggingface.co/datasets/mesolitica/Malaysian-Voice-Conversion', endpoint='https://huggingface.co', repo_type='dataset', repo_id='mesolitica/Malaysian-Voice-Conversion'), pr_revision=None, pr_num=None)"
      ]
     },
     "execution_count": 16,
     "metadata": {},
     "output_type": "execute_result"
    }
   ],
   "source": [
    "api.upload_file(\n",
    "    path_or_fileobj=\"parliament-chunk.zip\",\n",
    "    path_in_repo=\"data/parliament-chunk.zip\",\n",
    "    repo_id=\"mesolitica/Malaysian-Voice-Conversion\",\n",
    "    repo_type=\"dataset\",\n",
    ")"
   ]
  }
 ],
 "metadata": {
  "kernelspec": {
   "display_name": "python3.10",
   "language": "python",
   "name": "python3.10"
  },
  "language_info": {
   "codemirror_mode": {
    "name": "ipython",
    "version": 3
   },
   "file_extension": ".py",
   "mimetype": "text/x-python",
   "name": "python",
   "nbconvert_exporter": "python",
   "pygments_lexer": "ipython3",
   "version": "3.10.15"
  }
 },
 "nbformat": 4,
 "nbformat_minor": 5
}
