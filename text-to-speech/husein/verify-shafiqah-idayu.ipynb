{
 "cells": [
  {
   "cell_type": "code",
   "execution_count": 1,
   "id": "8507af7e",
   "metadata": {},
   "outputs": [],
   "source": [
    "import os\n",
    "\n",
    "os.environ['CUDA_VISIBLE_DEVICES'] = '1'"
   ]
  },
  {
   "cell_type": "code",
   "execution_count": 2,
   "id": "889697c4",
   "metadata": {},
   "outputs": [
    {
     "name": "stderr",
     "output_type": "stream",
     "text": [
      "You are attempting to use Flash Attention 2.0 with a model not initialized on GPU. Make sure to move the model to GPU after initializing it on CPU with `model.to('cuda')`.\n"
     ]
    }
   ],
   "source": [
    "from ctc_forced_aligner import (\n",
    "    load_audio,\n",
    "    load_alignment_model,\n",
    "    generate_emissions,\n",
    "    preprocess_text,\n",
    "    get_alignments,\n",
    "    get_spans,\n",
    "    postprocess_results,\n",
    ")\n",
    "import torch\n",
    "import torchaudio\n",
    "\n",
    "language = \"ms\"\n",
    "device = \"cuda\" if torch.cuda.is_available() else \"cpu\"\n",
    "batch_size = 16\n",
    "\n",
    "alignment_model, alignment_tokenizer = load_alignment_model(\n",
    "    device,\n",
    "    dtype=torch.float16 if device == \"cuda\" else torch.float32,\n",
    ")"
   ]
  },
  {
   "cell_type": "code",
   "execution_count": 3,
   "id": "c1439470",
   "metadata": {
    "scrolled": true
   },
   "outputs": [
    {
     "data": {
      "text/plain": [
       "{'original': 'Tidak bukan saya. Saya ialah program komputer yang direka bentuk untuk mensimulasikan perbualan dan membantu menjawab soalan.',\n",
       " 'normalized': 'Tidak bukan saya . Saya ialah program komputer yang direka bentuk untuk mensimulasikan perbualan dan membantu menjawab soalan .',\n",
       " 'audio_filename': 'shafiqah-idayu-chatbot-normalized/0.mp3'}"
      ]
     },
     "execution_count": 3,
     "metadata": {},
     "output_type": "execute_result"
    }
   ],
   "source": [
    "import pandas as pd\n",
    "\n",
    "df = pd.read_parquet('shafiqah_idayu_chatbot-00000-of-00001.parquet').to_dict(orient = 'records')\n",
    "df[0]"
   ]
  },
  {
   "cell_type": "code",
   "execution_count": 5,
   "id": "d641b01f",
   "metadata": {},
   "outputs": [
    {
     "name": "stdout",
     "output_type": "stream",
     "text": [
      "mkdir: cannot create directory ‘verify-shafiqah-idayu’: File exists\r\n"
     ]
    }
   ],
   "source": [
    "# !rm -rf verify-shafiqah-idayu\n",
    "!mkdir verify-shafiqah-idayu"
   ]
  },
  {
   "cell_type": "code",
   "execution_count": 7,
   "id": "566793a9",
   "metadata": {},
   "outputs": [
    {
     "name": "stderr",
     "output_type": "stream",
     "text": [
      "100%|████████████████████████████████████| 70248/70248 [02:24<00:00, 487.05it/s]\n"
     ]
    }
   ],
   "source": [
    "from tqdm import tqdm\n",
    "import json\n",
    "import os\n",
    "\n",
    "for i in tqdm(range(len(df))):\n",
    "    filename = os.path.join('verify-shafiqah-idayu', f'{i}.json')\n",
    "    if os.path.exists(filename):\n",
    "        continue\n",
    "    \n",
    "    audio_filename = df[i]['audio_filename'].replace('normalized/', 'normalized-enhanced/')\n",
    "    if not os.path.exists(audio_filename):\n",
    "        continue\n",
    "    t = df[i]['normalized']\n",
    "    new_wav, sr = torchaudio.load(audio_filename)\n",
    "    audio_waveform = torchaudio.functional.resample(\n",
    "        new_wav[0], orig_freq=sr, new_freq=16000\n",
    "    ).type(torch.float16).cuda()\n",
    "    emissions, stride = generate_emissions(\n",
    "        alignment_model, audio_waveform, batch_size=1\n",
    "    )\n",
    "    tokens_starred, text_starred = preprocess_text(\n",
    "        t,\n",
    "        romanize=True,\n",
    "        language=language,\n",
    "    )\n",
    "    segments, scores, blank_token = get_alignments(\n",
    "        emissions,\n",
    "        tokens_starred,\n",
    "        alignment_tokenizer,\n",
    "    )\n",
    "    spans = get_spans(tokens_starred, segments, blank_token)\n",
    "    word_timestamps = postprocess_results(text_starred, spans, stride, scores)\n",
    "    with open(filename, 'w') as fopen:\n",
    "        json.dump(word_timestamps, fopen)"
   ]
  },
  {
   "cell_type": "code",
   "execution_count": null,
   "id": "4a970100",
   "metadata": {},
   "outputs": [],
   "source": []
  }
 ],
 "metadata": {
  "kernelspec": {
   "display_name": "python3.10",
   "language": "python",
   "name": "python3.10"
  },
  "language_info": {
   "codemirror_mode": {
    "name": "ipython",
    "version": 3
   },
   "file_extension": ".py",
   "mimetype": "text/x-python",
   "name": "python",
   "nbconvert_exporter": "python",
   "pygments_lexer": "ipython3",
   "version": "3.10.15"
  }
 },
 "nbformat": 4,
 "nbformat_minor": 5
}
