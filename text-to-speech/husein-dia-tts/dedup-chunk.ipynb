{
 "cells": [
  {
   "cell_type": "code",
   "execution_count": 20,
   "id": "703c31dd-7a84-4a26-979d-4f0638b788a2",
   "metadata": {},
   "outputs": [],
   "source": [
    "import json\n",
    "from glob import glob\n",
    "import re\n",
    "import mp\n",
    "import os\n",
    "\n",
    "def clean(string):\n",
    "    string = re.sub('[^A-Za-z ]+', ' ', string)\n",
    "    string = re.sub(r'[ ]+', ' ', string).strip()\n",
    "    return string.lower()"
   ]
  },
  {
   "cell_type": "code",
   "execution_count": null,
   "id": "1b634e7a-712f-4106-abf1-30d7b5b6b03f",
   "metadata": {},
   "outputs": [],
   "source": [
    "files = glob('tts-filtered-chunk-rows/*.json')\n",
    "len(files)"
   ]
  },
  {
   "cell_type": "code",
   "execution_count": 10,
   "id": "9607d1c3-d7d5-406b-b9b7-45216d9cca06",
   "metadata": {},
   "outputs": [
    {
     "data": {
      "text/plain": [
       "4442999"
      ]
     },
     "execution_count": 10,
     "metadata": {},
     "output_type": "execute_result"
    }
   ],
   "source": [
    "len(files)"
   ]
  },
  {
   "cell_type": "code",
   "execution_count": 2,
   "id": "b17a272b-f140-4941-8d65-97447cb31655",
   "metadata": {},
   "outputs": [],
   "source": [
    "with open(files[0]) as fopen:\n",
    "    d = json.load(fopen)"
   ]
  },
  {
   "cell_type": "code",
   "execution_count": 11,
   "id": "69b2d3a0-5534-403d-bb42-98ad2f06ee7b",
   "metadata": {},
   "outputs": [
    {
     "name": "stderr",
     "output_type": "stream",
     "text": [
      "100%|██████████| 4442999/4442999 [03:22<00:00, 21892.50it/s]\n"
     ]
    }
   ],
   "source": [
    "from tqdm import tqdm\n",
    "\n",
    "already = set()\n",
    "filtered = []\n",
    "for f in tqdm(files):\n",
    "    with open(f) as fopen:\n",
    "        d = json.load(fopen)\n",
    "    t = [d_['text'] for d_ in d['alignment']]\n",
    "    t = clean(' '.join(t))\n",
    "    if t in already:\n",
    "        continue\n",
    "\n",
    "    filtered.append(f)\n",
    "    already.add(t)"
   ]
  },
  {
   "cell_type": "code",
   "execution_count": 12,
   "id": "1019bba4-0341-49bc-9eca-283b89e9ef25",
   "metadata": {},
   "outputs": [
    {
     "data": {
      "text/plain": [
       "2378184"
      ]
     },
     "execution_count": 12,
     "metadata": {},
     "output_type": "execute_result"
    }
   ],
   "source": [
    "len(filtered)"
   ]
  },
  {
   "cell_type": "code",
   "execution_count": 14,
   "id": "08e1a945-82d3-4d2b-bd94-b1efb2c515a5",
   "metadata": {},
   "outputs": [],
   "source": [
    "!mkdir tts-filtered-chunk-rows-audio-dedup"
   ]
  },
  {
   "cell_type": "code",
   "execution_count": 13,
   "id": "d9a87325-a9a2-46d8-9ee8-18b72d20bae8",
   "metadata": {},
   "outputs": [
    {
     "data": {
      "text/plain": [
       "'tts-filtered-chunk-rows/175589-1.json'"
      ]
     },
     "execution_count": 13,
     "metadata": {},
     "output_type": "execute_result"
    }
   ],
   "source": [
    "filtered[0]"
   ]
  },
  {
   "cell_type": "code",
   "execution_count": 15,
   "id": "69093879-6034-42b7-824c-2451823285d1",
   "metadata": {},
   "outputs": [],
   "source": [
    "import shutil\n",
    "\n",
    "# shutil.copyfile(src, dst)"
   ]
  },
  {
   "cell_type": "code",
   "execution_count": 26,
   "id": "6bd0d76e-01d1-489a-990f-a878914dea2d",
   "metadata": {},
   "outputs": [],
   "source": [
    "def loop(files):\n",
    "    files, _ = files\n",
    "    for f in tqdm(files):\n",
    "        with open(f) as fopen:\n",
    "            d = json.load(fopen)\n",
    "        f = d['filename_audio']\n",
    "        new_f = os.path.join('tts-filtered-chunk-rows-audio-dedup', os.path.split(f)[1])\n",
    "        shutil.copyfile(f, new_f)"
   ]
  },
  {
   "cell_type": "code",
   "execution_count": 27,
   "id": "817ea8f6-1c6d-4dc7-afd6-21c6932cf1cd",
   "metadata": {},
   "outputs": [
    {
     "name": "stderr",
     "output_type": "stream",
     "text": [
      "100%|██████████| 237818/237818 [01:53<00:00, 2101.58it/s]\n",
      "100%|██████████| 4/4 [00:00<00:00, 2504.44it/s]\n",
      "100%|██████████| 237818/237818 [01:55<00:00, 2059.18it/s]\n",
      "100%|██████████| 237818/237818 [01:56<00:00, 2038.53it/s]\n",
      "100%|██████████| 237818/237818 [01:58<00:00, 2013.56it/s]\n",
      "100%|██████████| 237818/237818 [01:57<00:00, 2029.16it/s]\n",
      "100%|██████████| 237818/237818 [01:58<00:00, 2000.40it/s]\n",
      "100%|██████████| 237818/237818 [01:58<00:00, 2011.65it/s]\n",
      "100%|██████████| 237818/237818 [01:57<00:00, 2015.44it/s]\n",
      "100%|██████████| 237818/237818 [01:57<00:00, 2030.03it/s]\n",
      "100%|██████████| 237818/237818 [01:58<00:00, 2006.80it/s]\n"
     ]
    }
   ],
   "source": [
    "mp.multiprocessing(filtered, loop, cores = 10, returned = False)"
   ]
  },
  {
   "cell_type": "code",
   "execution_count": 29,
   "id": "d64804e1-ce39-4834-8f8c-c314ff8295c8",
   "metadata": {},
   "outputs": [
    {
     "name": "stderr",
     "output_type": "stream",
     "text": [
      "100%|██████████| 2378184/2378184 [01:37<00:00, 24505.97it/s]\n"
     ]
    }
   ],
   "source": [
    "data = []\n",
    "for f in tqdm(filtered):\n",
    "    with open(f) as fopen:\n",
    "        d = json.load(fopen)\n",
    "    f = d['filename_audio']\n",
    "    new_f = os.path.join('tts-filtered-chunk-rows-audio-dedup', os.path.split(f)[1])\n",
    "    if os.path.exists(new_f):\n",
    "        d['filename_audio'] = new_f\n",
    "        data.append(d)"
   ]
  },
  {
   "cell_type": "code",
   "execution_count": 30,
   "id": "d1514334-50d3-4a3b-865f-477a6d0ac886",
   "metadata": {},
   "outputs": [
    {
     "name": "stdout",
     "output_type": "stream",
     "text": [
      "Requirement already satisfied: pandas in /opt/conda/lib/python3.11/site-packages (2.1.1)\n",
      "Requirement already satisfied: pyarrow in /opt/conda/lib/python3.11/site-packages (13.0.0)\n",
      "Requirement already satisfied: numpy>=1.23.2 in /opt/conda/lib/python3.11/site-packages (from pandas) (1.24.4)\n",
      "Requirement already satisfied: python-dateutil>=2.8.2 in /opt/conda/lib/python3.11/site-packages (from pandas) (2.8.2)\n",
      "Requirement already satisfied: pytz>=2020.1 in /opt/conda/lib/python3.11/site-packages (from pandas) (2023.3.post1)\n",
      "Requirement already satisfied: tzdata>=2022.1 in /opt/conda/lib/python3.11/site-packages (from pandas) (2023.3)\n",
      "Requirement already satisfied: six>=1.5 in /opt/conda/lib/python3.11/site-packages (from python-dateutil>=2.8.2->pandas) (1.16.0)\n"
     ]
    }
   ],
   "source": [
    "!pip3 install pandas pyarrow"
   ]
  },
  {
   "cell_type": "code",
   "execution_count": 31,
   "id": "5ca1dbd3-e6de-497c-9573-7f560920adab",
   "metadata": {},
   "outputs": [],
   "source": [
    "import pandas as pd"
   ]
  },
  {
   "cell_type": "code",
   "execution_count": 32,
   "id": "9a879ad0-811f-4860-b61d-db11795db343",
   "metadata": {},
   "outputs": [],
   "source": [
    "pd.DataFrame(data).to_parquet('chunk.parquet')"
   ]
  },
  {
   "cell_type": "code",
   "execution_count": 33,
   "id": "b575a30d-b682-4f6c-aa2e-44e7b72c3f90",
   "metadata": {},
   "outputs": [
    {
     "name": "stdout",
     "output_type": "stream",
     "text": [
      "Uploading...: 100%|█████████████████████████▉| 357M/358M [00:18<00:00, 19.6MB/s]\n",
      "https://huggingface.co/datasets/mesolitica/Malaysian-TTS-v2/blob/main/chunk.parquet\n"
     ]
    }
   ],
   "source": [
    "!huggingface-cli upload mesolitica/Malaysian-TTS-v2 chunk.parquet --repo-type=dataset"
   ]
  },
  {
   "cell_type": "code",
   "execution_count": 34,
   "id": "9adfd8a0-7cfa-4f9d-8b4f-a0ff1aec39d1",
   "metadata": {},
   "outputs": [
    {
     "data": {
      "text/plain": [
       "{'filename_audio': 'tts-filtered-chunk-rows-audio-dedup/175589-1.mp3',\n",
       " 'speaker': 'idayu',\n",
       " 'alignment': [{'end': 4.02, 'score': -1.938, 'start': 3.88, 'text': 'nama'},\n",
       "  {'end': 4.18, 'score': -1.632, 'start': 4.08, 'text': 'saya'},\n",
       "  {'end': 4.34, 'score': -7.421, 'start': 4.22, 'text': 'Imran'},\n",
       "  {'end': 4.66, 'score': -2.791, 'start': 4.38, 'text': 'Ibaad,'}],\n",
       " 'averaged_pitch': [223.581, 209.382, 191.263, 193.948],\n",
       " 'distances': [0.015, 0.01, 0.008, 0.063]}"
      ]
     },
     "execution_count": 34,
     "metadata": {},
     "output_type": "execute_result"
    }
   ],
   "source": [
    "data[0]"
   ]
  },
  {
   "cell_type": "code",
   "execution_count": null,
   "id": "51c5a7a2-9855-4686-b8f3-1d567fdd1088",
   "metadata": {},
   "outputs": [],
   "source": []
  }
 ],
 "metadata": {
  "kernelspec": {
   "display_name": "Python 3 (ipykernel)",
   "language": "python",
   "name": "python3"
  },
  "language_info": {
   "codemirror_mode": {
    "name": "ipython",
    "version": 3
   },
   "file_extension": ".py",
   "mimetype": "text/x-python",
   "name": "python",
   "nbconvert_exporter": "python",
   "pygments_lexer": "ipython3",
   "version": "3.11.6"
  }
 },
 "nbformat": 4,
 "nbformat_minor": 5
}
