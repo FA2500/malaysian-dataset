{
 "cells": [
  {
   "cell_type": "code",
   "execution_count": 1,
   "id": "abf19503-06b2-4521-93db-9bd28a049025",
   "metadata": {},
   "outputs": [],
   "source": [
    "from glob import glob\n",
    "import json\n",
    "import soundfile as sf\n",
    "import IPython.display as ipd\n",
    "import mp"
   ]
  },
  {
   "cell_type": "code",
   "execution_count": 2,
   "id": "d62a02b0-6f76-482b-91bd-161c86aad6a9",
   "metadata": {},
   "outputs": [
    {
     "name": "stdout",
     "output_type": "stream",
     "text": [
      "Requirement already satisfied: soundfile in /opt/conda/lib/python3.11/site-packages (0.13.1)\n",
      "Requirement already satisfied: cffi>=1.0 in /opt/conda/lib/python3.11/site-packages (from soundfile) (1.16.0)\n",
      "Requirement already satisfied: numpy in /opt/conda/lib/python3.11/site-packages (from soundfile) (1.24.4)\n",
      "Requirement already satisfied: pycparser in /opt/conda/lib/python3.11/site-packages (from cffi>=1.0->soundfile) (2.21)\n"
     ]
    }
   ],
   "source": [
    "!pip3 install soundfile"
   ]
  },
  {
   "cell_type": "code",
   "execution_count": 3,
   "id": "5c69d929-2d84-46ed-8876-e477e0b8d08f",
   "metadata": {},
   "outputs": [
    {
     "data": {
      "text/plain": [
       "1645455"
      ]
     },
     "execution_count": 3,
     "metadata": {},
     "output_type": "execute_result"
    }
   ],
   "source": [
    "filtered = glob('tts-filtered/*.json')\n",
    "len(filtered)"
   ]
  },
  {
   "cell_type": "code",
   "execution_count": 4,
   "id": "09e99c42-fa56-435c-9331-bc85ca7ee252",
   "metadata": {},
   "outputs": [],
   "source": [
    "!rm -rf tts-filtered-chunk tts-filtered-chunk-rows tts-filtered-chunk-rows-audio\n",
    "!mkdir tts-filtered-chunk tts-filtered-chunk-rows tts-filtered-chunk-rows-audio"
   ]
  },
  {
   "cell_type": "code",
   "execution_count": 5,
   "id": "5cb090cf-22bd-4ec7-b7aa-52e00627f822",
   "metadata": {},
   "outputs": [],
   "source": [
    "import random\n",
    "import soundfile as sf\n",
    "from tqdm import tqdm\n",
    "\n",
    "def loop(files):\n",
    "    files, _ = files\n",
    "    for f in tqdm(files):\n",
    "        with open(f) as fopen:\n",
    "            d = json.load(fopen)\n",
    "        index = d['index']\n",
    "        speaker = d['speaker']\n",
    "        \n",
    "        filename_done = f'tts-filtered-chunk/{index}.json'\n",
    "        \n",
    "        c = d['alignment']\n",
    "        pitch = d['averaged_pitch']\n",
    "        speed = d['distances']\n",
    "        segments = []\n",
    "        segments_pitch = []\n",
    "        segments_speed = []\n",
    "        temp = [c[0]]\n",
    "        temp_pitch = [pitch[0]]\n",
    "        temp_speed = [speed[0]]\n",
    "        last_t = c[0]['end']\n",
    "        total = 0\n",
    "        for i in range(1, len(c), 1):\n",
    "            c_ = c[i]\n",
    "            if (c_['start'] - last_t) >= 0.17:\n",
    "                total += 1\n",
    "                t = ' '.join([t_['text'] for t_ in temp])\n",
    "                if len(t) > 2 and t != 'uhm,':\n",
    "                    segments.append(temp)\n",
    "                    segments_pitch.append(temp_pitch)\n",
    "                    segments_speed.append(temp_speed)\n",
    "                temp = []\n",
    "                temp_pitch = []\n",
    "                temp_speed = []\n",
    "\n",
    "            last_t = c_['end']\n",
    "            temp.append(c_)\n",
    "            temp_pitch.append(pitch[i])\n",
    "            temp_speed.append(speed[i])\n",
    "\n",
    "\n",
    "        if len(temp):\n",
    "            total += 1\n",
    "            t = ' '.join([t_['text'] for t_ in temp])\n",
    "            if len(t) > 2:\n",
    "                segments.append(temp)\n",
    "                segments_pitch.append(temp_pitch)\n",
    "                segments_speed.append(temp_speed)\n",
    "                \n",
    "        if total > 1:\n",
    "            y, sr = sf.read(d['filename_audio'])\n",
    "            for k in range(len(segments)):\n",
    "                filename_audio = f'tts-filtered-chunk-rows-audio/{index}-{k}.mp3'\n",
    "                filename = f'tts-filtered-chunk-rows/{index}-{k}.json'\n",
    "                start = segments[k][0]['start']\n",
    "                end = segments[k][-1]['end'] + 0.15\n",
    "                y_ = y[int(start * sr): int(end * sr)]\n",
    "                sf.write(filename_audio, y_, sr)\n",
    "                \n",
    "                d_ = {\n",
    "                    'filename_audio': filename_audio,\n",
    "                    'speaker': speaker,\n",
    "                    'alignment': segments[k],\n",
    "                    'averaged_pitch': segments_pitch[k],\n",
    "                    'distances': segments_speed[k]\n",
    "                }\n",
    "                with open(filename, 'w') as fopen:\n",
    "                    json.dump(d_, fopen)\n",
    "        \n",
    "        with open(filename_done, 'w') as fopen:\n",
    "            json.dump('done', fopen)"
   ]
  },
  {
   "cell_type": "code",
   "execution_count": 6,
   "id": "09a5824f-ce33-49f5-9f75-a95251bc8726",
   "metadata": {},
   "outputs": [
    {
     "name": "stderr",
     "output_type": "stream",
     "text": [
      "100%|██████████| 10/10 [00:01<00:00,  8.46it/s]\n"
     ]
    }
   ],
   "source": [
    "loop((filtered[:10], 0))"
   ]
  },
  {
   "cell_type": "code",
   "execution_count": 7,
   "id": "e001e95c-e087-49d0-a084-a47f56516d92",
   "metadata": {},
   "outputs": [
    {
     "name": "stderr",
     "output_type": "stream",
     "text": [
      " 21%|██        | 1689/8227 [07:58<21:13,  5.13it/s]  IOPub message rate exceeded.\n",
      "The Jupyter server will temporarily stop sending output\n",
      "to the client in order to avoid crashing it.\n",
      "To change this limit, set the config variable\n",
      "`--ServerApp.iopub_msg_rate_limit`.\n",
      "\n",
      "Current values:\n",
      "ServerApp.iopub_msg_rate_limit=1000.0 (msgs/sec)\n",
      "ServerApp.rate_limit_window=3.0 (secs)\n",
      "\n",
      " 39%|███▉      | 3188/8227 [15:28<27:39,  3.04it/s]  IOPub message rate exceeded.\n",
      "The Jupyter server will temporarily stop sending output\n",
      "to the client in order to avoid crashing it.\n",
      "To change this limit, set the config variable\n",
      "`--ServerApp.iopub_msg_rate_limit`.\n",
      "\n",
      "Current values:\n",
      "ServerApp.iopub_msg_rate_limit=1000.0 (msgs/sec)\n",
      "ServerApp.rate_limit_window=3.0 (secs)\n",
      "\n",
      " 48%|████▊     | 3950/8227 [19:35<20:01,  3.56it/s]IOPub message rate exceeded.\n",
      "The Jupyter server will temporarily stop sending output\n",
      "to the client in order to avoid crashing it.\n",
      "To change this limit, set the config variable\n",
      "`--ServerApp.iopub_msg_rate_limit`.\n",
      "\n",
      "Current values:\n",
      "ServerApp.iopub_msg_rate_limit=1000.0 (msgs/sec)\n",
      "ServerApp.rate_limit_window=3.0 (secs)\n",
      "\n",
      " 55%|█████▌    | 4531/8227 [22:33<26:16,  2.34it/s]IOPub message rate exceeded.\n",
      "The Jupyter server will temporarily stop sending output\n",
      "to the client in order to avoid crashing it.\n",
      "To change this limit, set the config variable\n",
      "`--ServerApp.iopub_msg_rate_limit`.\n",
      "\n",
      "Current values:\n",
      "ServerApp.iopub_msg_rate_limit=1000.0 (msgs/sec)\n",
      "ServerApp.rate_limit_window=3.0 (secs)\n",
      "\n",
      " 57%|█████▋    | 4674/8227 [22:48<22:44,  2.60it/s]IOPub message rate exceeded.\n",
      "The Jupyter server will temporarily stop sending output\n",
      "to the client in order to avoid crashing it.\n",
      "To change this limit, set the config variable\n",
      "`--ServerApp.iopub_msg_rate_limit`.\n",
      "\n",
      "Current values:\n",
      "ServerApp.iopub_msg_rate_limit=1000.0 (msgs/sec)\n",
      "ServerApp.rate_limit_window=3.0 (secs)\n",
      "\n",
      " 56%|█████▌    | 4610/8227 [23:02<22:49,  2.64it/s]IOPub message rate exceeded.\n",
      "The Jupyter server will temporarily stop sending output\n",
      "to the client in order to avoid crashing it.\n",
      "To change this limit, set the config variable\n",
      "`--ServerApp.iopub_msg_rate_limit`.\n",
      "\n",
      "Current values:\n",
      "ServerApp.iopub_msg_rate_limit=1000.0 (msgs/sec)\n",
      "ServerApp.rate_limit_window=3.0 (secs)\n",
      "\n",
      " 60%|██████    | 4975/8227 [24:36<23:15,  2.33it/s]IOPub message rate exceeded.\n",
      "The Jupyter server will temporarily stop sending output\n",
      "to the client in order to avoid crashing it.\n",
      "To change this limit, set the config variable\n",
      "`--ServerApp.iopub_msg_rate_limit`.\n",
      "\n",
      "Current values:\n",
      "ServerApp.iopub_msg_rate_limit=1000.0 (msgs/sec)\n",
      "ServerApp.rate_limit_window=3.0 (secs)\n",
      "\n",
      " 68%|██████▊   | 5580/8227 [27:45<14:14,  3.10it/s]IOPub message rate exceeded.\n",
      "The Jupyter server will temporarily stop sending output\n",
      "to the client in order to avoid crashing it.\n",
      "To change this limit, set the config variable\n",
      "`--ServerApp.iopub_msg_rate_limit`.\n",
      "\n",
      "Current values:\n",
      "ServerApp.iopub_msg_rate_limit=1000.0 (msgs/sec)\n",
      "ServerApp.rate_limit_window=3.0 (secs)\n",
      "\n",
      " 72%|███████▏  | 5921/8227 [29:19<08:20,  4.61it/s]IOPub message rate exceeded.\n",
      "The Jupyter server will temporarily stop sending output\n",
      "to the client in order to avoid crashing it.\n",
      "To change this limit, set the config variable\n",
      "`--ServerApp.iopub_msg_rate_limit`.\n",
      "\n",
      "Current values:\n",
      "ServerApp.iopub_msg_rate_limit=1000.0 (msgs/sec)\n",
      "ServerApp.rate_limit_window=3.0 (secs)\n",
      "\n",
      " 78%|███████▊  | 6393/8227 [31:50<09:35,  3.19it/s]IOPub message rate exceeded.\n",
      "The Jupyter server will temporarily stop sending output\n",
      "to the client in order to avoid crashing it.\n",
      "To change this limit, set the config variable\n",
      "`--ServerApp.iopub_msg_rate_limit`.\n",
      "\n",
      "Current values:\n",
      "ServerApp.iopub_msg_rate_limit=1000.0 (msgs/sec)\n",
      "ServerApp.rate_limit_window=3.0 (secs)\n",
      "\n",
      " 82%|████████▏ | 6713/8227 [33:25<07:06,  3.55it/s]IOPub message rate exceeded.\n",
      "The Jupyter server will temporarily stop sending output\n",
      "to the client in order to avoid crashing it.\n",
      "To change this limit, set the config variable\n",
      "`--ServerApp.iopub_msg_rate_limit`.\n",
      "\n",
      "Current values:\n",
      "ServerApp.iopub_msg_rate_limit=1000.0 (msgs/sec)\n",
      "ServerApp.rate_limit_window=3.0 (secs)\n",
      "\n",
      " 90%|████████▉ | 7386/8227 [36:44<05:13,  2.68it/s]IOPub message rate exceeded.\n",
      "The Jupyter server will temporarily stop sending output\n",
      "to the client in order to avoid crashing it.\n",
      "To change this limit, set the config variable\n",
      "`--ServerApp.iopub_msg_rate_limit`.\n",
      "\n",
      "Current values:\n",
      "ServerApp.iopub_msg_rate_limit=1000.0 (msgs/sec)\n",
      "ServerApp.rate_limit_window=3.0 (secs)\n",
      "\n",
      " 89%|████████▉ | 7308/8227 [36:51<04:40,  3.28it/s]IOPub message rate exceeded.\n",
      "The Jupyter server will temporarily stop sending output\n",
      "to the client in order to avoid crashing it.\n",
      "To change this limit, set the config variable\n",
      "`--ServerApp.iopub_msg_rate_limit`.\n",
      "\n",
      "Current values:\n",
      "ServerApp.iopub_msg_rate_limit=1000.0 (msgs/sec)\n",
      "ServerApp.rate_limit_window=3.0 (secs)\n",
      "\n",
      " 94%|█████████▍| 7761/8227 [38:24<01:44,  4.46it/s]IOPub message rate exceeded.\n",
      "The Jupyter server will temporarily stop sending output\n",
      "to the client in order to avoid crashing it.\n",
      "To change this limit, set the config variable\n",
      "`--ServerApp.iopub_msg_rate_limit`.\n",
      "\n",
      "Current values:\n",
      "ServerApp.iopub_msg_rate_limit=1000.0 (msgs/sec)\n",
      "ServerApp.rate_limit_window=3.0 (secs)\n",
      "\n"
     ]
    }
   ],
   "source": [
    "mp.multiprocessing(filtered, loop, cores = 200)"
   ]
  },
  {
   "cell_type": "code",
   "execution_count": 11,
   "id": "d835118a-4d57-452e-b0f4-f37c3badcf04",
   "metadata": {},
   "outputs": [
    {
     "name": "stdout",
     "output_type": "stream",
     "text": [
      "112G\ttts-filtered-chunk-rows-audio\n"
     ]
    }
   ],
   "source": [
    "!du -hs tts-filtered-chunk-rows-audio"
   ]
  }
 ],
 "metadata": {
  "kernelspec": {
   "display_name": "Python 3 (ipykernel)",
   "language": "python",
   "name": "python3"
  },
  "language_info": {
   "codemirror_mode": {
    "name": "ipython",
    "version": 3
   },
   "file_extension": ".py",
   "mimetype": "text/x-python",
   "name": "python",
   "nbconvert_exporter": "python",
   "pygments_lexer": "ipython3",
   "version": "3.11.6"
  }
 },
 "nbformat": 4,
 "nbformat_minor": 5
}
