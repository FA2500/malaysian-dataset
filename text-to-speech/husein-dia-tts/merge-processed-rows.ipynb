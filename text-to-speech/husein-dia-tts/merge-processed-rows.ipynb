{
 "cells": [
  {
   "cell_type": "code",
   "execution_count": 3,
   "id": "92596e4a-7c5c-4e90-b0f9-4c73777112c0",
   "metadata": {},
   "outputs": [],
   "source": [
    "import pandas as pd\n",
    "import json\n",
    "from tqdm import tqdm\n",
    "from glob import glob"
   ]
  },
  {
   "cell_type": "code",
   "execution_count": 2,
   "id": "dffe46df-7052-4f37-ab2f-29cc420d6f3a",
   "metadata": {},
   "outputs": [
    {
     "data": {
      "text/plain": [
       "1645455"
      ]
     },
     "execution_count": 2,
     "metadata": {},
     "output_type": "execute_result"
    }
   ],
   "source": [
    "filtered = glob('tts-filtered/*.json')\n",
    "len(filtered)"
   ]
  },
  {
   "cell_type": "code",
   "execution_count": 6,
   "id": "ece22e25-0e1c-4c9f-8d38-50c48a035d88",
   "metadata": {},
   "outputs": [
    {
     "name": "stderr",
     "output_type": "stream",
     "text": [
      "100%|██████████| 1645455/1645455 [01:34<00:00, 17341.64it/s]\n"
     ]
    }
   ],
   "source": [
    "data = []\n",
    "for f in tqdm(filtered):\n",
    "    with open(f) as fopen:\n",
    "        d = json.load(fopen)\n",
    "    data.append(d)"
   ]
  },
  {
   "cell_type": "code",
   "execution_count": 7,
   "id": "bdfaba33-ecb4-4325-88d1-3574892fff84",
   "metadata": {},
   "outputs": [],
   "source": [
    "pd.DataFrame(data).to_parquet('processed.parquet')"
   ]
  },
  {
   "cell_type": "code",
   "execution_count": 8,
   "id": "9c576642-c8d0-4aae-a55d-edb83bcb6ba1",
   "metadata": {},
   "outputs": [
    {
     "name": "stdout",
     "output_type": "stream",
     "text": [
      "Uploading...: 100%|█████████████████████████▉| 850M/850M [00:22<00:00, 37.6MB/s]\n",
      "https://huggingface.co/datasets/mesolitica/Malaysian-TTS-v2/blob/main/processed.parquet\n"
     ]
    }
   ],
   "source": [
    "!huggingface-cli upload mesolitica/Malaysian-TTS-v2 processed.parquet --repo-type=dataset"
   ]
  },
  {
   "cell_type": "code",
   "execution_count": null,
   "id": "96a22477-9d9b-4da7-9868-0d22258d9da9",
   "metadata": {},
   "outputs": [],
   "source": []
  }
 ],
 "metadata": {
  "kernelspec": {
   "display_name": "Python 3 (ipykernel)",
   "language": "python",
   "name": "python3"
  },
  "language_info": {
   "codemirror_mode": {
    "name": "ipython",
    "version": 3
   },
   "file_extension": ".py",
   "mimetype": "text/x-python",
   "name": "python",
   "nbconvert_exporter": "python",
   "pygments_lexer": "ipython3",
   "version": "3.11.6"
  }
 },
 "nbformat": 4,
 "nbformat_minor": 5
}
