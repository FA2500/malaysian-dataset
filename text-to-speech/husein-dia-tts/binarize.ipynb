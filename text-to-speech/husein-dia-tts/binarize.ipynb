{
 "cells": [
  {
   "cell_type": "code",
   "execution_count": 14,
   "id": "110b899e-2589-4bd4-afc6-987981bc5477",
   "metadata": {},
   "outputs": [],
   "source": [
    "from glob import glob\n",
    "from tqdm import tqdm\n",
    "from collections import defaultdict\n",
    "import json\n",
    "import numpy as np"
   ]
  },
  {
   "cell_type": "code",
   "execution_count": 2,
   "id": "ace54b4d-d39e-4234-bd9f-05368902d313",
   "metadata": {},
   "outputs": [
    {
     "data": {
      "text/plain": [
       "1645455"
      ]
     },
     "execution_count": 2,
     "metadata": {},
     "output_type": "execute_result"
    }
   ],
   "source": [
    "filtered = glob('tts-filtered/*.json')\n",
    "len(filtered)"
   ]
  },
  {
   "cell_type": "code",
   "execution_count": 12,
   "id": "7ba0d91c-830f-446a-a8fb-2000bbf32e39",
   "metadata": {},
   "outputs": [
    {
     "name": "stderr",
     "output_type": "stream",
     "text": [
      "100%|██████████| 1645455/1645455 [00:59<00:00, 27722.52it/s]\n"
     ]
    }
   ],
   "source": [
    "pitches = defaultdict(list)\n",
    "distances = defaultdict(list)\n",
    "\n",
    "for f in tqdm(filtered):\n",
    "    with open(f) as fopen:\n",
    "        d = json.load(fopen)\n",
    "        pitches[d['speaker']].extend(d['averaged_pitch'])\n",
    "        distances[d['speaker']].extend(d['distances'])"
   ]
  },
  {
   "cell_type": "code",
   "execution_count": 80,
   "id": "c5674cad-a47a-4649-bf8b-90adcec24b0d",
   "metadata": {},
   "outputs": [],
   "source": [
    "speaker_rate_bins = {}\n",
    "\n",
    "for k in distances.keys():\n",
    "    rates = distances[k]\n",
    "    rates = [r for r in rates if 0 < r < 1]\n",
    "    _, bin_edges = pd.qcut(rates, q=5, retbins=True)\n",
    "    speaker_rate_bins[k] = bin_edges.tolist()"
   ]
  },
  {
   "cell_type": "code",
   "execution_count": 81,
   "id": "070ac746-8f1b-4ab2-898a-5fc82a0261ec",
   "metadata": {},
   "outputs": [
    {
     "data": {
      "text/plain": [
       "{'husein': [0.001, 0.008, 0.012, 0.02, 0.036, 0.98],\n",
       " 'idayu': [0.001, 0.009, 0.012, 0.02, 0.03, 0.98]}"
      ]
     },
     "execution_count": 81,
     "metadata": {},
     "output_type": "execute_result"
    }
   ],
   "source": [
    "speaker_rate_bins"
   ]
  },
  {
   "cell_type": "code",
   "execution_count": 82,
   "id": "c9de5c0d-3b0a-4721-9c64-890ef900c187",
   "metadata": {},
   "outputs": [
    {
     "data": {
      "text/plain": [
       "{'husein': [74.98, 106.661, 116.258, 128.275, 151.404, 599.721],\n",
       " 'idayu': [74.994, 194.709, 208.025, 222.457, 243.88, 599.999]}"
      ]
     },
     "execution_count": 82,
     "metadata": {},
     "output_type": "execute_result"
    }
   ],
   "source": [
    "pitch_bins = {}\n",
    "\n",
    "for k in pitches.keys():\n",
    "    rates = pitches[k]\n",
    "    _, bin_edges = pd.qcut(rates, q=5, retbins=True)\n",
    "    pitch_bins[k] = bin_edges.tolist()\n",
    "\n",
    "pitch_bins"
   ]
  },
  {
   "cell_type": "code",
   "execution_count": 83,
   "id": "08083349-dd9d-4114-b638-8e41bbbcec80",
   "metadata": {},
   "outputs": [],
   "source": [
    "def binarize_speaking_rate(samples, bin_edges):\n",
    "    min = bin_edges.min()\n",
    "    max = bin_edges.max()\n",
    "    samples[samples <= min] = min\n",
    "    samples[samples >= max] = max\n",
    "    labels = list(range(bin_edges.shape[0] - 1))\n",
    "    return pd.cut(samples, bins=bin_edges, labels=labels, include_lowest=True).tolist()"
   ]
  },
  {
   "cell_type": "code",
   "execution_count": 84,
   "id": "4ecd2c22-d0c0-4ba5-94ef-913174110c9c",
   "metadata": {},
   "outputs": [
    {
     "data": {
      "text/plain": [
       "[4, 3, 2, 4, 2, 3, 2, 1, 2, 1]"
      ]
     },
     "execution_count": 84,
     "metadata": {},
     "output_type": "execute_result"
    }
   ],
   "source": [
    "binarize_speaking_rate(np.array(rates[:10]), np.array(pitch_bins['idayu']))"
   ]
  },
  {
   "cell_type": "code",
   "execution_count": 85,
   "id": "3b13743d-ee41-4f4e-bf8e-1e8b4a48c80e",
   "metadata": {},
   "outputs": [],
   "source": [
    "with open('bins.json', 'w') as fopen:\n",
    "    json.dump({\n",
    "        'speaking_rate': speaker_rate_bins,\n",
    "        'pitch': pitch_bins,\n",
    "    }, fopen)"
   ]
  }
 ],
 "metadata": {
  "kernelspec": {
   "display_name": "Python 3 (ipykernel)",
   "language": "python",
   "name": "python3"
  },
  "language_info": {
   "codemirror_mode": {
    "name": "ipython",
    "version": 3
   },
   "file_extension": ".py",
   "mimetype": "text/x-python",
   "name": "python",
   "nbconvert_exporter": "python",
   "pygments_lexer": "ipython3",
   "version": "3.11.6"
  }
 },
 "nbformat": 4,
 "nbformat_minor": 5
}
