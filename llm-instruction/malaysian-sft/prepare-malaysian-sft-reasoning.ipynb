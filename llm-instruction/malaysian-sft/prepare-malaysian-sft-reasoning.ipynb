{
 "cells": [
  {
   "cell_type": "code",
   "execution_count": 1,
   "id": "65469bde",
   "metadata": {},
   "outputs": [],
   "source": [
    "from huggingface_hub import snapshot_download\n",
    "from glob import glob\n",
    "import pandas as pd"
   ]
  },
  {
   "cell_type": "code",
   "execution_count": 2,
   "id": "66acaff3",
   "metadata": {
    "scrolled": true
   },
   "outputs": [
    {
     "data": {
      "application/vnd.jupyter.widget-view+json": {
       "model_id": "08ecbd3d27cd457fad38c04bd4b07f62",
       "version_major": 2,
       "version_minor": 0
      },
      "text/plain": [
       "Fetching 4 files:   0%|          | 0/4 [00:00<?, ?it/s]"
      ]
     },
     "metadata": {},
     "output_type": "display_data"
    },
    {
     "data": {
      "text/plain": [
       "'/home/husein/ssd4/llama2/reasoning'"
      ]
     },
     "execution_count": 2,
     "metadata": {},
     "output_type": "execute_result"
    }
   ],
   "source": [
    "snapshot_download(repo_id=\"mesolitica/Malaysian-Reasoning\", allow_patterns=\"data/*\",\n",
    "                 repo_type ='dataset', local_dir = './reasoning')"
   ]
  },
  {
   "cell_type": "code",
   "execution_count": 3,
   "id": "7e8baf85",
   "metadata": {},
   "outputs": [],
   "source": [
    "# !wget https://huggingface.co/datasets/mesolitica/Malaysian-SFT/resolve/main/extra/qwq-magpie.json\n",
    "# !wget https://huggingface.co/datasets/mesolitica/Malaysian-SFT/resolve/main/extra/filter-qwq-500k-math.json"
   ]
  },
  {
   "cell_type": "code",
   "execution_count": 4,
   "id": "38720df1",
   "metadata": {},
   "outputs": [],
   "source": [
    "reasoning_en = 'You are going to enter reasoning mode, first you try to think step-by-step after that give the final answer.'\n",
    "reasoning_ms = 'You are going to enter reasoning mode, first you try to think step-by-step in malay after that give the final answer.'"
   ]
  },
  {
   "cell_type": "code",
   "execution_count": 5,
   "id": "cefec46f",
   "metadata": {},
   "outputs": [
    {
     "data": {
      "text/plain": [
       "7348"
      ]
     },
     "execution_count": 5,
     "metadata": {},
     "output_type": "execute_result"
    }
   ],
   "source": [
    "import json\n",
    "\n",
    "with open('qwq-magpie.json') as fopen:\n",
    "    d = json.load(fopen)\n",
    "    \n",
    "len(d)"
   ]
  },
  {
   "cell_type": "code",
   "execution_count": 6,
   "id": "0e1f8424",
   "metadata": {},
   "outputs": [],
   "source": [
    "instructions = []\n",
    "for d_ in d:\n",
    "    instructions.append([\n",
    "        {'role': 'system', 'content': reasoning_en},\n",
    "        {'role': 'user', 'content': d_['problem']},\n",
    "        {'role': 'assistant', 'content': d_['outputs']}\n",
    "    ])"
   ]
  },
  {
   "cell_type": "code",
   "execution_count": 7,
   "id": "ffd65fe2",
   "metadata": {
    "scrolled": true
   },
   "outputs": [
    {
     "data": {
      "text/plain": [
       "34805"
      ]
     },
     "execution_count": 7,
     "metadata": {},
     "output_type": "execute_result"
    }
   ],
   "source": [
    "with open('filter-qwq-500k-math.json') as fopen:\n",
    "    d = json.load(fopen)\n",
    "    \n",
    "len(d)"
   ]
  },
  {
   "cell_type": "code",
   "execution_count": 8,
   "id": "33e811c6",
   "metadata": {},
   "outputs": [
    {
     "data": {
      "text/plain": [
       "{'prompt': 'Derive the joint density function of the DE and SCF biases (f(DE, SCF)) using a Bayesian approach, assuming that the parameters α, β, λ, and θ follow normal distributions with known means and variances, and that the error terms ε and η follow normal distributions with zero means and unknown variances. Use the derived joint density function to compute the expected value of the portfolio return (E(S_t)) and the expected value of the portfolio volatility (E(σ)) across all investors.',\n",
       " 'response': \"So I've got this research problem here in behavioral finance, and it's all about how cognitive biases affect investment decisions. The researcher is looking at two main biases: the disposition effect (DE) and the sunk cost fallacy (SCF). She's got data on 1000 investors and their portfolios, which are modeled using a geometric Brownian motion (GBM).\\n\\nFirst, I need to understand what these biases are. The disposition effect is when investors sell their winning stocks too early and hold onto losing stocks too long. That seems counterintuitive because you'd think they'd want to cash in on gains and cut their losses. But no, they do the opposite. The sunk cost fallacy is when investors hold onto losing stocks because they don't want to realize the loss; it's like throwing good money after bad.\\n\\nNow, the researcher has modeled these biases with specific equations for each investor. For DE, it's DE_i = α_i * (1 - exp(-λ_i * (S_t - S_0))) + ε_i, and for SCF, it's SCF_i = β_i * (1 - exp(-θ_i * (S_0 - S_t))) + η_i. Here, S_t is the portfolio value at time t, S_0 is the initial value, and ε_i and η_i are error terms.\\n\\nThe parameters α_i, β_i, λ_i, and θ_i vary across investors, which makes sense because different people have different levels of these biases. The researcher wants to estimate the joint distribution of DE and SCF across all investors and see how this affects overall portfolio performance.\\n\\nThe task is to derive the joint density function of DE and SCF biases using a Bayesian approach. Bayesian statistics is all about updating probabilities based on evidence. Here, we're assuming that the parameters α, β, λ, and θ follow normal distributions with known means and variances. Also, the error terms ε and η are normally distributed with zero means and unknown variances.\\n\\nOkay, so to derive the joint density function f(DE, SCF), I need to consider the distributions of these biases given the parameters and error terms.\\n\\nFirst, let's consider the DE bias:\\n\\nDE_i = α_i * (1 - exp(-λ_i * (S_t - S_0))) + ε_i\\n\\nSimilarly for SCF:\\n\\nSCF_i = β_i * (1 - exp(-θ_i * (S_0 - S_t))) + η_i\\n\\nGiven that α_i, β_i, λ_i, and θ_i are normally distributed with known means and variances, and ε_i and η_i are normally distributed with zero means and unknown variances, I need to find the joint distribution of DE and SCF.\\n\\nThis seems a bit complicated because DE and SCF are functions of these parameters and error terms, which are random variables.\\n\\nIn Bayesian statistics, we deal with prior distributions and likelihood functions to get posterior distributions. Here, the parameters α, β, λ, θ are random variables with known prior distributions, and ε and η are error terms with their own distributions.\\n\\nTo find the joint density f(DE, SCF), I might need to integrate over the distributions of the parameters and error terms.\\n\\nWait, perhaps it's better to think of DE and SCF as random variables that are functions of other random variables, and find their joint distribution accordingly.\\n\\nLet me recall that if you have random variables X and Y, and you have functions Z = g(X,Y) and W = h(X,Y), you can find the joint density of Z and W using transformation techniques.\\n\\nBut in this case, DE and SCF are functions involving the parameters and error terms, which are all random variables.\\n\\nAlternatively, since DE and SCF are expressed as linear combinations of deterministic functions of S_t and S_0 plus error terms, and the error terms are normal, perhaps DE and SCF are jointly normal?\\n\\nWait, DE_i is α_i times a deterministic function plus ε_i, and SCF_i is β_i times another deterministic function plus η_i.\\n\\nGiven that α_i, β_i, λ_i, θ_i have normal distributions, and ε_i, η_i are normal, perhaps DE and SCF are jointly normal as well.\\n\\nIf that's the case, then to find their joint density, I need to find their means, variances, and covariance.\\n\\nSo, first, find E[DE], E[SCF], Var[DE], Var[SCF], and Cov[DE, SCF].\\n\\nLet's try to find E[DE].\\n\\nE[DE_i] = E[α_i * (1 - exp(-λ_i * (S_t - S_0))) + ε_i]\\n\\nSince α_i and λ_i are random variables, and S_t and S_0 are deterministic for a given investor, assuming that α_i and λ_i are independent, this becomes:\\n\\nE[α_i] * (1 - exp(-E[λ_i] * (S_t - S_0))) + E[ε_i]\\n\\nBut ε_i has mean zero, so E[DE_i] = E[α_i] * (1 - exp(-E[λ_i] * (S_t - S_0)))\\n\\nSimilarly, E[SCF_i] = E[β_i] * (1 - exp(-E[θ_i] * (S_0 - S_t)))\\n\\nNow, for Var[DE_i], it would be Var[α_i * (deterministic function) + ε_i]\\n\\nThis would be (deterministic function)^2 * Var[α_i] + Var[ε_i], assuming α_i and ε_i are independent.\\n\\nSimilarly for Var[SCF_i].\\n\\nAnd for Cov[DE_i, SCF_i], since DE_i and SCF_i are functions of different parameters and error terms, assuming independence between α_i, β_i, λ_i, θ_i, ε_i, and η_i, the covariance would be zero.\\n\\nBut is that a reasonable assumption? Probably not, because DE and SCF might be correlated through the portfolio values S_t and S_0.\\n\\nWait, actually, DE and SCF are both functions of S_t and S_0, so there might be some dependence there.\\n\\nAlternatively, perhaps the parameters α_i, β_i, λ_i, θ_i are correlated across investors.\\n\\nBut the problem says that these parameters vary across investors, so perhaps for a given investor, these parameters are fixed, and across investors, they vary according to their distributions.\\n\\nWait, no, for each investor, α_i, β_i, λ_i, θ_i are parameters specific to that investor, and they have their own distributions.\\n\\nSo for a given investor, these parameters are fixed, but across investors, they vary.\\n\\nBut in the equations for DE_i and SCF_i, S_t and S_0 are the portfolio values for investor i at times t and 0.\\n\\nSo, for each investor, DE_i and SCF_i are functions of their own S_t and S_0, and their own parameters plus error terms.\\n\\nSo, across investors, DE and SCF will vary due to variation in parameters and error terms.\\n\\nNow, to find the joint density f(DE, SCF), I need to consider the distributions across all investors.\\n\\nWait, perhaps it's better to think of DE and SCF as random variables that are specific to each investor, and then find the distribution across investors.\\n\\nSo, for each investor i, DE_i and SCF_i are random variables determined by their parameters and error terms.\\n\\nThen, across investors, DE and SCF are random variables with a joint distribution that I need to find.\\n\\nGiven that, perhaps I can consider DE and SCF as bivariate normal, since they are linear combinations of normal variables plus normal error terms.\\n\\nBut actually, DE_i is a linear function of α_i plus ε_i, where α_i is normal and ε_i is normal, so DE_i would be normal.\\n\\nSimilarly, SCF_i is a linear function of β_i plus η_i, both normal, so SCF_i is normal.\\n\\nThen, DE and SCF are both normal across investors, and their joint distribution would be bivariate normal, provided that their relationship is linear.\\n\\nBut is their relationship linear? Looking at the expressions for DE_i and SCF_i, they are nonlinear functions of S_t and S_0 due to the exponential terms.\\n\\nHowever, for a given S_t and S_0, the expressions are linear in α_i and β_i, respectively, plus error terms.\\n\\nBut across investors, S_t and S_0 vary, so the overall relationship might not be linear.\\n\\nAlternatively, if I condition on S_t and S_0, then DE_i and SCF_i are linear in the parameters plus error terms, which are normal, so conditional on S_t and S_0, DE and SCF are normal.\\n\\nBut marginally across investors, it's less clear.\\n\\nAlternatively, perhaps I can consider that for each investor, DE_i and SCF_i are functions of their parameters and portfolio values, and then across investors, DE and SCF are random variables with a joint distribution that I can characterize based on the distributions of the parameters and the portfolio values.\\n\\nThis seems complicated. Maybe I should try to find the joint density function f(DE, SCF) by considering the distributions of the parameters and error terms.\\n\\nAlternatively, perhaps I can treat DE and SCF as dependent variables in a structural equation model, where the parameters and portfolio values are exogenous variables.\\n\\nBut I'm not sure.\\n\\nWait, maybe it's easier to think in terms of Bayesian inference.\\n\\nGiven that the parameters α, β, λ, θ have known prior distributions, and the error terms ε and η have normal distributions with zero means and unknown variances, I can set up a hierarchical model.\\n\\nIn Bayesian statistics, hierarchical models allow me to model parameters at different levels, with hyperparameters governing the distributions of lower-level parameters.\\n\\nSo, in this case, the parameters α_i, β_i, λ_i, θ_i have prior distributions with known means and variances, and the error terms ε_i and η_i have normal distributions with zero means and unknown variances.\\n\\nThen, the observed variables are DE_i and SCF_i, which are functions of these parameters and error terms.\\n\\nTo find the joint density f(DE, SCF), I need to marginalize over the parameters and error terms.\\n\\nThis sounds like integrating out the parameters and error terms from the joint distribution of DE, SCF, α, β, λ, θ, ε, η.\\n\\nIn other words:\\n\\nf(DE, SCF) = ∫ f(DE, SCF | α, β, λ, θ, ε, η) * f(α, β, λ, θ, ε, η) dα dβ dλ dθ dε dη\\n\\nBut this seems too complicated to compute directly.\\n\\nPerhaps there's a smarter way to approach this.\\n\\nAlternatively, since DE and SCF are both linear in their respective parameters plus error terms, perhaps I can find their joint distribution by considering the distributions of the parameters and the error terms.\\n\\nWait, DE_i = α_i * (deterministic function) + ε_i\\n\\nSimilarly for SCF_i.\\n\\nIf I denote the deterministic function for DE as g(S_t, S_0), and for SCF as h(S_t, S_0), then DE_i = α_i * g + ε_i and SCF_i = β_i * h + η_i.\\n\\nThen, DE and SCF are linear in α_i and β_i, respectively, plus error terms.\\n\\nAssuming that α_i, β_i, ε_i, η_i are all normal, and independent across investors, then DE and SCF are also normal.\\n\\nThen, the joint distribution of DE and SCF would be bivariate normal, with means E[DE] and E[SCF], variances Var[DE] and Var[SCF], and covariance Cov[DE, SCF].\\n\\nSo, I need to find these moments.\\n\\nFirst, E[DE] = E[α * g + ε] = E[α] * g + E[ε] = E[α] * g\\n\\nSimilarly, E[SCF] = E[β * h + η] = E[β] * h + E[η] = E[β] * h\\n\\nAssuming E[ε] = 0 and E[η] = 0.\\n\\nThen, Var[DE] = Var[α * g + ε] = g^2 * Var[α] + Var[ε]\\n\\nSimilarly, Var[SCF] = h^2 * Var[β] + Var[η]\\n\\nAnd Cov[DE, SCF] = Cov[α * g + ε, β * h + η] = g * h * Cov[α, β] + Cov[ε, η]\\n\\nAssuming that α and β are correlated, and ε and η might be correlated as well.\\n\\nBut in the problem statement, it says that the parameters follow normal distributions with known means and variances, but it doesn't specify whether they are correlated or not.\\n\\nSimilarly, it says that ε and η are error terms with zero means and unknown variances, but again, no information on correlation.\\n\\nFor simplicity, perhaps I can assume that α and β are independent, and ε and η are independent.\\n\\nThen, Cov[α, β] = 0 and Cov[ε, η] = 0, so Cov[DE, SCF] = 0.\\n\\nBut that seems too strong an assumption, because DE and SCF might be related through the portfolio values S_t and S_0.\\n\\nWait, actually, g = 1 - exp(-λ * (S_t - S_0)), and h = 1 - exp(-θ * (S_0 - S_t)).\\n\\nSo, g and h are functions of S_t and S_0, which are portfolio values for each investor.\\n\\nTherefore, for a given investor, g and h are deterministic functions based on their S_t and S_0.\\n\\nSo, across investors, g and h vary based on their portfolio values.\\n\\nGiven that, even if α and β are independent, and ε and η are independent, DE and SCF might still be correlated through g and h, since g and h are functions of the same portfolio values S_t and S_0.\\n\\nTherefore, it's likely that DE and SCF are correlated across investors.\\n\\nHence, assuming Cov[DE, SCF] = 0 might not be accurate.\\n\\nAlternatively, perhaps I can express Cov[DE, SCF] in terms of the covariances of the parameters and error terms.\\n\\nGiven that DE = α * g + ε and SCF = β * h + η, then:\\n\\nCov[DE, SCF] = Cov[α * g, β * h] + Cov[α * g, η] + Cov[ε, β * h] + Cov[ε, η]\\n\\nAssuming independence between α and β, and between ε and η, then Cov[α * g, β * h] = 0.\\n\\nAlso, assuming independence between α and η, and between β and ε, then Cov[α * g, η] = 0 and Cov[ε, β * h] = 0.\\n\\nTherefore, Cov[DE, SCF] = Cov[ε, η]\\n\\nSo, the covariance between DE and SCF depends only on the covariance between ε and η.\\n\\nIf ε and η are independent, then Cov[ε, η] = 0, and hence Cov[DE, SCF] = 0.\\n\\nBut perhaps ε and η are correlated, especially if there are common factors affecting both biases.\\n\\nIn that case, Cov[ε, η] ≠ 0.\\n\\nGiven that, perhaps I should keep Cov[ε, η] as a parameter to be estimated.\\n\\nBut the problem says that ε_i and η_i are error terms with zero means and unknown variances, but doesn't specify their covariance.\\n\\nSo, perhaps for simplicity, I can assume that ε and η are uncorrelated, so Cov[ε, η] = 0.\\n\\nTherefore, Cov[DE, SCF] = 0.\\n\\nThen, the joint distribution of DE and SCF is bivariate normal with means E[DE] and E[SCF], variances Var[DE] and Var[SCF], and covariance zero.\\n\\nThat simplifies things.\\n\\nSo, f(DE, SCF) = f(DE) * f(SCF), since they are independent.\\n\\nNow, the next part is to use this joint density function to compute the expected value of the portfolio return E(S_t) and the expected value of the portfolio volatility E(σ) across all investors.\\n\\nWait a minute, the portfolio value S_t follows a geometric Brownian motion:\\n\\ndS_t = μ S_t dt + σ S_t dW_t\\n\\nWhere μ is the mean return, σ is the volatility, and W_t is a standard Wiener process.\\n\\nGiven that, S_t is log-normally distributed, with ln(S_t) ~ N(ln(S_0) + (μ - 0.5 σ^2) t, σ^2 t)\\n\\nTherefore, E[S_t] = S_0 * exp(μ t)\\n\\nAnd Var[S_t] = S_0^2 * exp(2 μ t) * (exp(σ^2 t) - 1)\\n\\nBut the problem is to compute E[S_t] and E[σ] across all investors, using the joint density function of DE and SCF.\\n\\nSo, I need to relate DE and SCF to μ and σ.\\n\\nHow do DE and SCF affect the portfolio return and volatility?\\n\\nFrom the definitions, DE causes investors to sell winning stocks too early and hold losing stocks too long, which might affect their portfolio returns and volatility.\\n\\nSimilarly, SCF causes investors to hold onto losing stocks due to the psychological cost of realizing a loss, which also affects portfolio performance.\\n\\nSo, presumably, higher DE and SCF lead to suboptimal portfolio choices, which in turn affect μ and σ.\\n\\nBut how to quantify this relationship?\\n\\nPerhaps the researcher has some model that links DE and SCF to μ and σ.\\n\\nAlternatively, perhaps μ and σ are functions of DE and SCF.\\n\\nIf that's the case, then I can express E[S_t] and E[σ] in terms of DE and SCF.\\n\\nBut the problem doesn't specify this relationship.\\n\\nWait, maybe I need to assume that μ and σ are constants across investors, unaffected by DE and SCF.\\n\\nBut that seems counterintuitive, because the biases should impact investment decisions and hence portfolio performance.\\n\\nAlternatively, perhaps DE and SCF affect the realized returns and volatilities of the portfolios.\\n\\nIn that case, perhaps μ and σ are random variables that depend on DE and SCF.\\n\\nIf that's the case, then I can model μ and σ as functions of DE and SCF.\\n\\nBut without specific functional forms, it's hard to proceed.\\n\\nAlternatively, perhaps I can assume that μ and σ are parameters that are influenced by DE and SCF in some way.\\n\\nFor example, maybe investors with higher DE tend to have lower μ and higher σ, while those with higher SCF have lower μ and higher σ as well.\\n\\nBut again, without specific relationships, it's difficult to proceed.\\n\\nAlternatively, perhaps I can consider that DE and SCF are explanatory variables that influence μ and σ.\\n\\nIf I had a model specifying how DE and SCF affect μ and σ, then I could incorporate that into the expectations.\\n\\nFor example, if μ = a + b * DE + c * SCF and σ = d + e * DE + f * SCF, then I could plug in the expected values of DE and SCF to get E[μ] and E[σ].\\n\\nBut since such a model isn't provided, I need to think differently.\\n\\nAlternatively, perhaps I can consider that DE and SCF are indicators of poor investment decisions, which lead to lower returns and higher volatility.\\n\\nIn that case, perhaps μ and σ are negatively correlated with DE and SCF.\\n\\nBut again, without specific functional forms, it's hard to make progress.\\n\\nAlternatively, perhaps I can consider that DE and SCF are sources of additional volatility in the portfolio returns.\\n\\nIf that's the case, then perhaps σ^2 = σ^2_base + σ^2_DE + σ^2_SCF\\n\\nWhere σ^2_base is the baseline volatility without biases, and σ^2_DE and σ^2_SCF are the additional volatilities due to DE and SCF.\\n\\nBut this is speculative.\\n\\nAlternatively, perhaps the biases affect the drift term μ.\\n\\nFor example, DE might lead to selling winners too early, capturing less of their potential returns, and holding losers too long, thereby enduring more losses.\\n\\nSimilarly, SCF leads to holding losers, which can exacerbate losses.\\n\\nTherefore, both biases might lead to lower μ and higher σ.\\n\\nBut again, without specific relationships, it's challenging to quantify this.\\n\\nAlternatively, perhaps I can consider that DE and SCF are correlated with μ and σ in some way, and use their joint distribution to compute E[S_t] and E[σ].\\n\\nGiven that S_t = S_0 * exp((μ - 0.5 σ^2) t + σ W_t), and assuming that μ and σ are random variables, then E[S_t] = E[ S_0 * exp((μ - 0.5 σ^2) t + σ W_t) ]\\n\\nThis seems complicated, but if μ and σ are independent of W_t, then E[S_t] = S_0 * E[ exp((μ - 0.5 σ^2) t) ] * E[ exp(σ W_t) ]\\n\\nBut exp(σ W_t) is log-normally distributed with mean exp(0.5 σ^2 t), assuming W_t ~ N(0,t).\\n\\nTherefore, E[S_t] = S_0 * E[ exp((μ - 0.5 σ^2) t) ] * exp(0.5 σ^2 t) = S_0 * E[ exp(μ t - 0.5 σ^2 t) ] * exp(0.5 σ^2 t) = S_0 * E[ exp(μ t) ] * exp(-0.5 σ^2 t) * exp(0.5 σ^2 t) = S_0 * E[ exp(μ t) ]\\n\\nSimilarly, E[σ] would just be the expected value of σ across investors.\\n\\nBut how to compute E[ exp(μ t) ]?\\n\\nWell, if μ is a random variable with some distribution, then E[ exp(μ t) ] depends on the distribution of μ.\\n\\nSimilarly, E[σ] depends on the distribution of σ.\\n\\nBut in our earlier approach, we have DE and SCF as random variables with known joint distribution, and μ and σ are somehow related to DE and SCF.\\n\\nBut without specifying this relationship, it's impossible to proceed further.\\n\\nAlternatively, perhaps the biases DE and SCF directly affect the parameters μ and σ.\\n\\nFor example, perhaps μ = μ_base - β_DE * DE - β_SCF * SCF\\n\\nAnd σ = σ_base + γ_DE * DE + γ_SCF * SCF\\n\\nWhere β_DE, β_SCF, γ_DE, γ_SCF are coefficients indicating how DE and SCF affect μ and σ.\\n\\nIf that's the case, then I can compute E[μ] and E[σ] by taking expectations.\\n\\nE[μ] = μ_base - β_DE * E[DE] - β_SCF * E[SCF]\\n\\nAnd E[σ] = σ_base + γ_DE * E[DE] + γ_SCF * E[SCF]\\n\\nThen, E[S_t] = S_0 * exp(E[μ] t)\\n\\nAssuming that μ is the expected return.\\n\\nWait, but actually, in the GBM model, E[S_t] = S_0 * exp(μ t), but if μ is itself a random variable, then E[S_t] = S_0 * E[ exp((μ - 0.5 σ^2) t) ] * exp(0.5 σ^2 t)\\n\\nThis is getting complicated.\\n\\nAlternatively, perhaps I can assume that μ and σ are constants across investors, and that DE and SCF affect the investors' choices but not the underlying portfolio properties.\\n\\nBut that seems counterintuitive.\\n\\nAlternatively, perhaps DE and SCF affect the realized returns and volatilities, meaning that μ and σ are functions of DE and SCF.\\n\\nIn that case, perhaps I can model μ and σ as linear functions of DE and SCF.\\n\\nFor example:\\n\\nμ = μ_0 + β_DE * DE + β_SCF * SCF\\n\\nσ = σ_0 + γ_DE * DE + γ_SCF * SCF\\n\\nThen, E[μ] = μ_0 + β_DE * E[DE] + β_SCF * E[SCF]\\n\\nSimilarly, E[σ] = σ_0 + γ_DE * E[DE] + γ_SCF * E[SCF]\\n\\nThen, E[S_t] = S_0 * exp(E[μ] t)\\n\\nBut this assumes that μ is the expected return, which might not be the case if μ is a random variable.\\n\\nThis is getting too tangled.\\n\\nPerhaps I need to make some simplifying assumptions.\\n\\nAssuming that DE and SCF are independent, as per the earlier assumption, then their joint density is the product of their individual densities.\\n\\nThen, E[S_t] and E[σ] can be computed by integrating over the joint density.\\n\\nBut without knowing how DE and SCF relate to μ and σ, it's impossible to proceed.\\n\\nAlternatively, perhaps the biases DE and SCF directly affect the portfolio returns and volatilities in a known way, which is specified elsewhere in the problem.\\n\\nBut from what's given, it's not clear.\\n\\nAlternatively, perhaps I can consider that DE and SCF are indicators of poor investment decisions, which lead to lower μ and higher σ, and model μ and σ as functions of DE and SCF.\\n\\nFor example, μ = μ_base - k_DE * DE - k_SCF * SCF\\n\\nAnd σ = σ_base + m_DE * DE + m_SCF * SCF\\n\\nWhere k_DE, k_SCF, m_DE, m_SCF are positive constants indicating the impact of DE and SCF on μ and σ.\\n\\nThen, E[μ] = μ_base - k_DE * E[DE] - k_SCF * E[SCF]\\n\\nAnd E[σ] = σ_base + m_DE * E[DE] + m_SCF * E[SCF]\\n\\nThen, E[S_t] = S_0 * exp(E[μ] t)\\n\\nBut this still leaves the problem of estimating E[DE] and E[SCF], which depend on the parameters α, β, λ, θ, and the portfolio values S_t and S_0.\\n\\nGiven that, perhaps I can express E[DE] and E[SCF] in terms of the parameters and portfolio values.\\n\\nFrom earlier, E[DE] = E[α] * g + E[ε], where g = 1 - exp(-λ * (S_t - S_0)), and E[ε] = 0.\\n\\nSimilarly, E[SCF] = E[β] * h + E[η], where h = 1 - exp(-θ * (S_0 - S_t)), and E[η] = 0.\\n\\nTherefore, E[DE] = E[α] * (1 - exp(-E[λ] * (S_t - S_0)))\\n\\nAnd E[SCF] = E[β] * (1 - exp(-E[θ] * (S_0 - S_t)))\\n\\nAssuming that λ and θ are independent of S_t and S_0, which might not be the case.\\n\\nAlternatively, perhaps λ and θ are parameters that modulate the sensitivity to portfolio gains and losses.\\n\\nGiven that, perhaps E[λ] and E[θ] are known constants.\\n\\nSimilarly, E[α] and E[β] are known constants, since the parameters are normally distributed with known means and variances.\\n\\nTherefore, E[DE] and E[SCF] can be computed based on these means and the portfolio values S_t and S_0.\\n\\nThen, plugging these into the expressions for E[μ] and E[σ], and then into E[S_t], I can get the expected portfolio value across investors.\\n\\nBut this still leaves the issue of estimating E[σ], which is needed for E[S_t].\\n\\nAlternatively, perhaps I can consider that σ is a constant across investors, and only μ is affected by DE and SCF.\\n\\nBut that seems like an oversimplification.\\n\\nAlternatively, perhaps I can consider that DE and SCF affect only the drift term μ, and not the volatility σ.\\n\\nIn that case, E[σ] = σ_base, and E[μ] = μ_base - k_DE * E[DE] - k_SCF * E[SCF]\\n\\nThen, E[S_t] = S_0 * exp(E[μ] t)\\n\\nBut I still need to specify the values of k_DE and k_SCF, which represent the impact of DE and SCF on μ.\\n\\nAlternatively, perhaps I can assume that DE and SCF have additive effects on μ, and no effect on σ.\\n\\nThen, μ = μ_base - k_DE * DE - k_SCF * SCF\\n\\nAnd σ = σ_base\\n\\nThen, E[μ] = μ_base - k_DE * E[DE] - k_SCF * E[SCF]\\n\\nAnd E[S_t] = S_0 * exp(E[μ] t)\\n\\nSimilarly, E[σ] = σ_base\\n\\nBut this seems too simplistic, as it's likely that biases affect both the mean return and the volatility.\\n\\nAlternatively, perhaps DE and SCF affect the volatility as well, so σ = σ_base + m_DE * DE + m_SCF * SCF\\n\\nThen, E[σ] = σ_base + m_DE * E[DE] + m_SCF * E[SCF]\\n\\nThen, E[S_t] = S_0 * exp((E[μ] - 0.5 E[σ^2]) t)\\n\\nWait, actually, in the GBM model, E[S_t] = S_0 * exp((μ - 0.5 σ^2) t)\\n\\nBut if σ is a random variable, then E[S_t] = S_0 * E[ exp((μ - 0.5 σ^2) t) ]\\n\\nWhich is more complicated.\\n\\nAlternatively, if σ is a random variable, then perhaps I need to consider its expectation and variance.\\n\\nThis is getting too involved.\\n\\nPerhaps I need to make the assumption that σ is constant across investors, and only μ is affected by DE and SCF.\\n\\nIn that case, E[S_t] = S_0 * exp(E[μ] t)\\n\\nAnd E[σ] = σ_base\\n\\nThen, using the earlier expressions for E[μ] in terms of E[DE] and E[SCF], I can plug in the values.\\n\\nBut to make this concrete, I need numerical values for E[α], E[β], E[λ], E[θ], Var[α], Var[β], Var[λ], Var[θ], Var[ε], Var[η], and the portfolio values S_t and S_0.\\n\\nBut the problem doesn't provide specific numerical values, so perhaps I need to leave the expressions in terms of these parameters.\\n\\nAlternatively, perhaps the researcher has data on DE and SCF for each investor, and can estimate the parameters empirically.\\n\\nBut again, the problem doesn't specify that.\\n\\nGiven that, perhaps I need to derive general expressions for E[S_t] and E[σ] in terms of the moments of DE and SCF.\\n\\nBut without specifying how DE and SCF relate to μ and σ, this is not possible.\\n\\nAlternatively, perhaps the biases DE and SCF directly affect the portfolio returns and volatilities in a multiplicative way.\\n\\nFor example, μ = μ_base * (1 - DE - SCF)\\n\\nAnd σ = σ_base * (1 + DE + SCF)\\n\\nBut this seems arbitrary.\\n\\nAlternatively, perhaps DE and SCF affect the portfolio weights, leading to different expected returns and volatilities.\\n\\nBut modeling that would require knowing how DE and SCF influence the investors' portfolio choices, which is not specified in the problem.\\n\\nGiven the time constraints, perhaps I need to make some simplifying assumptions to proceed.\\n\\nAssuming that DE and SCF have linear effects on μ and σ, as in:\\n\\nμ = μ_base - k_DE * DE - k_SCF * SCF\\n\\nσ = σ_base + m_DE * DE + m_SCF * SCF\\n\\nThen, E[μ] = μ_base - k_DE * E[DE] - k_SCF * E[SCF]\\n\\nAnd E[σ] = σ_base + m_DE * E[DE] + m_SCF * E[SCF]\\n\\nThen, E[S_t] = S_0 * exp(E[μ] t)\\n\\nAnd E[σ] = σ_base + m_DE * E[DE] + m_SCF * E[SCF]\\n\\nNow, to compute E[DE] and E[SCF], I need to know the distributions of α, β, λ, θ, ε, and η.\\n\\nGiven that α, β, λ, θ are normally distributed with known means and variances, and ε, η are normally distributed with zero means and unknown variances, I can proceed.\\n\\nFrom earlier, E[DE] = E[α] * g + E[ε] = E[α] * g\\n\\nSimilarly, E[SCF] = E[β] * h + E[η] = E[β] * h\\n\\nWhere g = 1 - exp(-λ * (S_t - S_0))\\n\\nAnd h = 1 - exp(-θ * (S_0 - S_t))\\n\\nBut since λ and θ are random variables, I need to take their expectations as well.\\n\\nWait, actually, g is a function of λ, which is random, so g itself is a random variable.\\n\\nTherefore, E[g] = E[1 - exp(-λ * (S_t - S_0))] = 1 - E[exp(-λ * (S_t - S_0))]\\n\\nSimilarly, E[h] = 1 - E[exp(-θ * (S_0 - S_t))]\\n\\nNow, since λ and θ are normally distributed, I need to compute the expectation of the exponential of a normal random variable.\\n\\nRecall that if X ~ N(μ, σ^2), then E[exp(X)] = exp(μ + 0.5 σ^2)\\n\\nSimilarly, E[exp(-λ * (S_t - S_0))] = exp( -E[λ] * (S_t - S_0) + 0.5 * Var[λ] * (S_t - S_0)^2 )\\n\\nAssuming that λ is normally distributed with mean μ_λ and variance σ_λ^2, then:\\n\\nE[exp(-λ * (S_t - S_0))] = exp( -μ_λ * (S_t - S_0) + 0.5 * σ_λ^2 * (S_t - S_0)^2 )\\n\\nSimilarly, E[exp(-θ * (S_0 - S_t))] = exp( -μ_θ * (S_0 - S_t) + 0.5 * σ_θ^2 * (S_0 - S_t)^2 )\\n\\nTherefore, E[g] = 1 - exp( -μ_λ * (S_t - S_0) + 0.5 * σ_λ^2 * (S_t - S_0)^2 )\\n\\nAnd E[h] = 1 - exp( -μ_θ * (S_0 - S_t) + 0.5 * σ_θ^2 * (S_0 - S_t)^2 )\\n\\nThen, E[DE] = E[α] * E[g]\\n\\nAnd E[SCF] = E[β] * E[h]\\n\\nAssuming that α and g are independent, which might not be the case, but for simplicity, I'll assume that.\\n\\nSimilarly for β and h.\\n\\nThen, plugging these into the expressions for E[μ] and E[σ], I can get E[S_t].\\n\\nBut this is still quite involved.\\n\\nAlternatively, perhaps I can linearize the exponential terms for small values of λ and θ.\\n\\nUsing the Taylor expansion, exp(x) ≈ 1 + x for small x.\\n\\nThen, exp(-λ * (S_t - S_0)) ≈ 1 - λ * (S_t - S_0)\\n\\nAnd exp(-θ * (S_0 - S_t)) ≈ 1 - θ * (S_0 - S_t)\\n\\nTherefore, g ≈ 1 - (1 - λ * (S_t - S_0)) = λ * (S_t - S_0)\\n\\nAnd h ≈ 1 - (1 - θ * (S_0 - S_t)) = θ * (S_0 - S_t)\\n\\nThen, E[g] ≈ E[λ] * (S_t - S_0)\\n\\nAnd E[h] ≈ E[θ] * (S_0 - S_t)\\n\\nTherefore, E[DE] ≈ E[α] * E[g] = E[α] * E[λ] * (S_t - S_0)\\n\\nSimilarly, E[SCF] ≈ E[β] * E[θ] * (S_0 - S_t)\\n\\nThen, plugging into E[μ] = μ_base - k_DE * E[DE] - k_SCF * E[SCF]\\n\\n= μ_base - k_DE * E[α] * E[λ] * (S_t - S_0) - k_SCF * E[β] * E[θ] * (S_0 - S_t)\\n\\nSimilarly, E[σ] = σ_base + m_DE * E[DE] + m_SCF * E[SCF]\\n\\n= σ_base + m_DE * E[α] * E[λ] * (S_t - S_0) + m_SCF * E[β] * E[θ] * (S_0 - S_t)\\n\\nThen, E[S_t] = S_0 * exp(E[μ] t)\\n\\nBut this still leaves E[S_t] in terms of S_t, which is circular.\\n\\nWait, no, S_t is the variable I'm trying to find the expectation of, so this doesn't make sense.\\n\\nActually, in the GBM model, S_t is a stochastic process, and E[S_t] = S_0 * exp(μ t), assuming μ is constant.\\n\\nBut in this case, μ is a function of DE and SCF, which are in turn functions of S_t.\\n\\nThis creates a circular dependency.\\n\\nAlternatively, perhaps I need to set up a system of equations where E[S_t] depends on E[μ], which depends on E[DE] and E[SCF], which depend on S_t.\\n\\nThis seems like a system of equations that needs to be solved simultaneously.\\n\\nThis is getting too complicated for my current level of understanding.\\n\\nPerhaps I need to make further simplifying assumptions.\\n\\nAlternatively, perhaps I should consider that the effects of DE and SCF are small, and can be approximated linearly.\\n\\nAlternatively, perhaps I need to consider that DE and SCF are endogenous variables that depend on the portfolio performance, which makes this a simultaneous equations model.\\n\\nBut this is beyond my current capabilities.\\n\\nGiven the time constraints, perhaps I should settle for the earlier expressions:\\n\\nE[μ] = μ_base - k_DE * E[DE] - k_SCF * E[SCF]\\n\\nE[σ] = σ_base + m_DE * E[DE] + m_SCF * E[SCF]\\n\\nThen, E[S_t] = S_0 * exp(E[μ] t)\\n\\nAnd E[σ] = σ_base + m_DE * E[DE] + m_SCF * E[SCF]\\n\\nWith E[DE] ≈ E[α] * E[λ] * (S_t - S_0)\\n\\nAnd E[SCF] ≈ E[β] * E[θ] * (S_0 - S_t)\\n\\nBut again, this creates a circular dependency because E[S_t] depends on E[μ], which depends on E[DE] and E[SCF], which depend on S_t.\\n\\nAlternatively, perhaps I can assume that S_t is known or can be estimated separately.\\n\\nBut without specific values, it's impossible to proceed further.\\n\\nGiven that, perhaps I should express E[S_t] in terms of the known parameters and S_t.\\n\\nAlternatively, perhaps the problem expects a different approach altogether.\\n\\nPerhaps I need to consider the joint density f(DE, SCF) and then compute E[S_t | DE, SCF] and E[σ | DE, SCF], and then take the expectation over DE and SCF.\\n\\nIn other words, E[S_t] = E[ E[S_t | DE, SCF] ]\\n\\nSimilarly, E[σ] = E[ E[σ | DE, SCF] ]\\n\\nBut again, without knowing the relationships between S_t, σ, DE, and SCF, this is not helpful.\\n\\nAlternatively, perhaps I can consider that DE and SCF are indicators of the investors' behavior, which affects their portfolio choices and hence the distribution of S_t and σ.\\n\\nBut this seems too vague.\\n\\nGiven the complexity of this problem and the time I've spent on it, I think I need to conclude my attempt here.\\n\\nIn summary, deriving the joint density function f(DE, SCF) using a Bayesian approach involves considering the distributions of the parameters α, β, λ, θ, and the error terms ε and η.\\n\\nAssuming these are normally distributed, DE and SCF are also normally distributed, and their joint distribution is bivariate normal.\\n\\nThen, to compute E[S_t] and E[σ], I need to relate DE and SCF to the portfolio return μ and volatility σ.\\n\\nHowever, without specific functional forms linking DE and SCF to μ and σ, it's challenging to proceed further.\\n\\nTherefore, I recommend making simplifying assumptions, such as linear relationships between DE, SCF, μ, and σ, and proceeding from there.\\n\\nBut ultimately, a more detailed model specifying these relationships is needed to obtain precise expressions for E[S_t] and E[σ].\"}"
      ]
     },
     "execution_count": 8,
     "metadata": {},
     "output_type": "execute_result"
    }
   ],
   "source": [
    "d[0]"
   ]
  },
  {
   "cell_type": "code",
   "execution_count": 9,
   "id": "1be10dfa",
   "metadata": {},
   "outputs": [],
   "source": [
    "for d_ in d:\n",
    "    instructions.append([\n",
    "        {'role': 'system', 'content': reasoning_en},\n",
    "        {'role': 'user', 'content': d_['prompt']},\n",
    "        {'role': 'assistant', 'content': d_['response']}\n",
    "    ])"
   ]
  },
  {
   "cell_type": "code",
   "execution_count": 10,
   "id": "3e3f4222",
   "metadata": {
    "scrolled": true
   },
   "outputs": [
    {
     "data": {
      "text/plain": [
       "['reasoning/data/leetcode_hard-00000-of-00001.parquet',\n",
       " 'reasoning/data/mallm-00000-of-00001.parquet',\n",
       " 'reasoning/data/tatabahasa-00000-of-00001.parquet',\n",
       " 'reasoning/data/maktabalbahri-00000-of-00001.parquet']"
      ]
     },
     "execution_count": 10,
     "metadata": {},
     "output_type": "execute_result"
    }
   ],
   "source": [
    "glob('reasoning/data/*.parquet')"
   ]
  },
  {
   "cell_type": "code",
   "execution_count": 11,
   "id": "556c7fc1",
   "metadata": {
    "scrolled": true
   },
   "outputs": [
    {
     "data": {
      "text/html": [
       "<div>\n",
       "<style scoped>\n",
       "    .dataframe tbody tr th:only-of-type {\n",
       "        vertical-align: middle;\n",
       "    }\n",
       "\n",
       "    .dataframe tbody tr th {\n",
       "        vertical-align: top;\n",
       "    }\n",
       "\n",
       "    .dataframe thead th {\n",
       "        text-align: right;\n",
       "    }\n",
       "</style>\n",
       "<table border=\"1\" class=\"dataframe\">\n",
       "  <thead>\n",
       "    <tr style=\"text-align: right;\">\n",
       "      <th></th>\n",
       "      <th>id</th>\n",
       "      <th>slug</th>\n",
       "      <th>title</th>\n",
       "      <th>difficulty</th>\n",
       "      <th>content</th>\n",
       "      <th>solution</th>\n",
       "      <th>language</th>\n",
       "      <th>english</th>\n",
       "      <th>malay</th>\n",
       "    </tr>\n",
       "  </thead>\n",
       "  <tbody>\n",
       "    <tr>\n",
       "      <th>0</th>\n",
       "      <td>1568</td>\n",
       "      <td>minimum-number-of-days-to-disconnect-island</td>\n",
       "      <td>Minimum Number of Days to Disconnect Island</td>\n",
       "      <td>Hard</td>\n",
       "      <td>You are given an `m x n` binary grid `grid` wh...</td>\n",
       "      <td>```python\\ndef pseudoPalindromicPaths(root, cn...</td>\n",
       "      <td>python</td>\n",
       "      <td>Alright, so I've got this problem here about a...</td>\n",
       "      <td>Baiklah, jadi saya mempunyai masalah ini di si...</td>\n",
       "    </tr>\n",
       "    <tr>\n",
       "      <th>1</th>\n",
       "      <td>1714</td>\n",
       "      <td>sum-of-special-evenly-spaced-elements-in-array</td>\n",
       "      <td>Sum Of Special Evenly-Spaced Elements In Array</td>\n",
       "      <td>Hard</td>\n",
       "      <td>You are given a **0-indexed** integer array `n...</td>\n",
       "      <td>```javascript\\nfunction reorderSpaces(text) {\\...</td>\n",
       "      <td>javascript</td>\n",
       "      <td>Alright, I've got this problem here. So, I hav...</td>\n",
       "      <td>Baiklah, saya ada masalah ini di sini. Jadi, s...</td>\n",
       "    </tr>\n",
       "    <tr>\n",
       "      <th>2</th>\n",
       "      <td>1326</td>\n",
       "      <td>minimum-number-of-taps-to-open-to-water-a-garden</td>\n",
       "      <td>Minimum Number of Taps to Open to Water a Garden</td>\n",
       "      <td>Hard</td>\n",
       "      <td>There is a one-dimensional garden on the x-axi...</td>\n",
       "      <td>```javascript\\nfunction sumOfFlooredPairs(nums...</td>\n",
       "      <td>javascript</td>\n",
       "      <td>Alright, I've got this problem about watering ...</td>\n",
       "      <td>Baiklah, saya mempunyai masalah ini tentang me...</td>\n",
       "    </tr>\n",
       "    <tr>\n",
       "      <th>3</th>\n",
       "      <td>656</td>\n",
       "      <td>coin-path</td>\n",
       "      <td>Coin Path</td>\n",
       "      <td>Hard</td>\n",
       "      <td>You are given an integer array `coins` (**1-in...</td>\n",
       "      <td>```cpp\\n#include &lt;vector&gt;\\n#include &lt;queue&gt;\\n#...</td>\n",
       "      <td>c++</td>\n",
       "      <td>Alright, I've got this problem here. Let's see...</td>\n",
       "      <td>Baiklah, saya mempunyai masalah ini di sini. M...</td>\n",
       "    </tr>\n",
       "    <tr>\n",
       "      <th>4</th>\n",
       "      <td>410</td>\n",
       "      <td>split-array-largest-sum</td>\n",
       "      <td>Split Array Largest Sum</td>\n",
       "      <td>Hard</td>\n",
       "      <td>Given an integer array `nums` and an integer `...</td>\n",
       "      <td>```python\\ndef splitArray(nums, m):\\n    left,...</td>\n",
       "      <td>python</td>\n",
       "      <td>Alright, so I've got this problem here. I need...</td>\n",
       "      <td>Baiklah, jadi saya mempunyai masalah ini di si...</td>\n",
       "    </tr>\n",
       "  </tbody>\n",
       "</table>\n",
       "</div>"
      ],
      "text/plain": [
       "     id                                              slug  \\\n",
       "0  1568       minimum-number-of-days-to-disconnect-island   \n",
       "1  1714    sum-of-special-evenly-spaced-elements-in-array   \n",
       "2  1326  minimum-number-of-taps-to-open-to-water-a-garden   \n",
       "3   656                                         coin-path   \n",
       "4   410                           split-array-largest-sum   \n",
       "\n",
       "                                              title difficulty  \\\n",
       "0       Minimum Number of Days to Disconnect Island       Hard   \n",
       "1    Sum Of Special Evenly-Spaced Elements In Array       Hard   \n",
       "2  Minimum Number of Taps to Open to Water a Garden       Hard   \n",
       "3                                         Coin Path       Hard   \n",
       "4                           Split Array Largest Sum       Hard   \n",
       "\n",
       "                                             content  \\\n",
       "0  You are given an `m x n` binary grid `grid` wh...   \n",
       "1  You are given a **0-indexed** integer array `n...   \n",
       "2  There is a one-dimensional garden on the x-axi...   \n",
       "3  You are given an integer array `coins` (**1-in...   \n",
       "4  Given an integer array `nums` and an integer `...   \n",
       "\n",
       "                                            solution    language  \\\n",
       "0  ```python\\ndef pseudoPalindromicPaths(root, cn...      python   \n",
       "1  ```javascript\\nfunction reorderSpaces(text) {\\...  javascript   \n",
       "2  ```javascript\\nfunction sumOfFlooredPairs(nums...  javascript   \n",
       "3  ```cpp\\n#include <vector>\\n#include <queue>\\n#...         c++   \n",
       "4  ```python\\ndef splitArray(nums, m):\\n    left,...      python   \n",
       "\n",
       "                                             english  \\\n",
       "0  Alright, so I've got this problem here about a...   \n",
       "1  Alright, I've got this problem here. So, I hav...   \n",
       "2  Alright, I've got this problem about watering ...   \n",
       "3  Alright, I've got this problem here. Let's see...   \n",
       "4  Alright, so I've got this problem here. I need...   \n",
       "\n",
       "                                               malay  \n",
       "0  Baiklah, jadi saya mempunyai masalah ini di si...  \n",
       "1  Baiklah, saya ada masalah ini di sini. Jadi, s...  \n",
       "2  Baiklah, saya mempunyai masalah ini tentang me...  \n",
       "3  Baiklah, saya mempunyai masalah ini di sini. M...  \n",
       "4  Baiklah, jadi saya mempunyai masalah ini di si...  "
      ]
     },
     "execution_count": 11,
     "metadata": {},
     "output_type": "execute_result"
    }
   ],
   "source": [
    "df = pd.read_parquet('reasoning/data/leetcode_hard-00000-of-00001.parquet')\n",
    "df.head()"
   ]
  },
  {
   "cell_type": "code",
   "execution_count": 12,
   "id": "5ebb5986",
   "metadata": {},
   "outputs": [
    {
     "data": {
      "text/plain": [
       "45275"
      ]
     },
     "execution_count": 12,
     "metadata": {},
     "output_type": "execute_result"
    }
   ],
   "source": [
    "for i in range(len(df)):\n",
    "    instructions.append([\n",
    "        {'role': 'system', 'content': reasoning_en},\n",
    "        {'role': 'user', 'content': df.iloc[i]['content'] + f\"\\n\\nsolve the problem using {df.iloc[i]['language']}\"},\n",
    "        {'role': 'assistant', 'content': df.iloc[i]['english']}\n",
    "    ])\n",
    "    \n",
    "    instructions.append([\n",
    "        {'role': 'system', 'content': reasoning_ms},\n",
    "        {'role': 'user', 'content': df.iloc[i]['content'] + f\"\\n\\nsolve the problem using {df.iloc[i]['language']}\"},\n",
    "        {'role': 'assistant', 'content': df.iloc[i]['malay']}\n",
    "    ])\n",
    "    \n",
    "len(instructions)"
   ]
  },
  {
   "cell_type": "code",
   "execution_count": 13,
   "id": "50c8cdab",
   "metadata": {},
   "outputs": [
    {
     "data": {
      "text/html": [
       "<div>\n",
       "<style scoped>\n",
       "    .dataframe tbody tr th:only-of-type {\n",
       "        vertical-align: middle;\n",
       "    }\n",
       "\n",
       "    .dataframe tbody tr th {\n",
       "        vertical-align: top;\n",
       "    }\n",
       "\n",
       "    .dataframe thead th {\n",
       "        text-align: right;\n",
       "    }\n",
       "</style>\n",
       "<table border=\"1\" class=\"dataframe\">\n",
       "  <thead>\n",
       "    <tr style=\"text-align: right;\">\n",
       "      <th></th>\n",
       "      <th>content</th>\n",
       "      <th>solution</th>\n",
       "      <th>malay</th>\n",
       "    </tr>\n",
       "  </thead>\n",
       "  <tbody>\n",
       "    <tr>\n",
       "      <th>0</th>\n",
       "      <td>subject: chemistry\\nPernyataan yang manakah me...</td>\n",
       "      <td>B</td>\n",
       "      <td>Saya ada soalan tentang asid kuat dalam kimia....</td>\n",
       "    </tr>\n",
       "    <tr>\n",
       "      <th>1</th>\n",
       "      <td>subject: chemistry\\nApakah yang dimaksudkan de...</td>\n",
       "      <td>A</td>\n",
       "      <td>Saya perlu menjawab soalan ini tentang elektro...</td>\n",
       "    </tr>\n",
       "    <tr>\n",
       "      <th>2</th>\n",
       "      <td>subject: islamic_study\\nHikmah perkahwinan ial...</td>\n",
       "      <td>B</td>\n",
       "      <td>Saya sedang cuba menjawab soalan ini tentang h...</td>\n",
       "    </tr>\n",
       "    <tr>\n",
       "      <th>3</th>\n",
       "      <td>subject: business_study\\nEncik Azri dan Encik ...</td>\n",
       "      <td>C</td>\n",
       "      <td>Encik Azri dan Wahid ingin menubuhkan syarikat...</td>\n",
       "    </tr>\n",
       "    <tr>\n",
       "      <th>4</th>\n",
       "      <td>subject: malay_language\\nPilih penjodoh bilang...</td>\n",
       "      <td>C</td>\n",
       "      <td>Saya perlu memilih penjodoh bilangan yang pali...</td>\n",
       "    </tr>\n",
       "  </tbody>\n",
       "</table>\n",
       "</div>"
      ],
      "text/plain": [
       "                                             content solution  \\\n",
       "0  subject: chemistry\\nPernyataan yang manakah me...        B   \n",
       "1  subject: chemistry\\nApakah yang dimaksudkan de...        A   \n",
       "2  subject: islamic_study\\nHikmah perkahwinan ial...        B   \n",
       "3  subject: business_study\\nEncik Azri dan Encik ...        C   \n",
       "4  subject: malay_language\\nPilih penjodoh bilang...        C   \n",
       "\n",
       "                                               malay  \n",
       "0  Saya ada soalan tentang asid kuat dalam kimia....  \n",
       "1  Saya perlu menjawab soalan ini tentang elektro...  \n",
       "2  Saya sedang cuba menjawab soalan ini tentang h...  \n",
       "3  Encik Azri dan Wahid ingin menubuhkan syarikat...  \n",
       "4  Saya perlu memilih penjodoh bilangan yang pali...  "
      ]
     },
     "execution_count": 13,
     "metadata": {},
     "output_type": "execute_result"
    }
   ],
   "source": [
    "df = pd.read_parquet('reasoning/data/mallm-00000-of-00001.parquet')\n",
    "df.head()"
   ]
  },
  {
   "cell_type": "code",
   "execution_count": 14,
   "id": "c07ad364",
   "metadata": {},
   "outputs": [
    {
     "data": {
      "text/plain": [
       "50818"
      ]
     },
     "execution_count": 14,
     "metadata": {},
     "output_type": "execute_result"
    }
   ],
   "source": [
    "for i in range(len(df)):\n",
    "    if 'subject: islamic_study' in df.iloc[i]['content']:\n",
    "        continue\n",
    "    q = df.iloc[i]['content'].split('\\n')\n",
    "    q = '\\n'.join(q[1:])\n",
    "    \n",
    "    instructions.append([\n",
    "        {'role': 'system', 'content': reasoning_ms},\n",
    "        {'role': 'user', 'content': q},\n",
    "        {'role': 'assistant', 'content': df.iloc[i]['malay']}\n",
    "    ])\n",
    "    \n",
    "len(instructions)"
   ]
  },
  {
   "cell_type": "code",
   "execution_count": 15,
   "id": "845572c5",
   "metadata": {},
   "outputs": [
    {
     "data": {
      "text/html": [
       "<div>\n",
       "<style scoped>\n",
       "    .dataframe tbody tr th:only-of-type {\n",
       "        vertical-align: middle;\n",
       "    }\n",
       "\n",
       "    .dataframe tbody tr th {\n",
       "        vertical-align: top;\n",
       "    }\n",
       "\n",
       "    .dataframe thead th {\n",
       "        text-align: right;\n",
       "    }\n",
       "</style>\n",
       "<table border=\"1\" class=\"dataframe\">\n",
       "  <thead>\n",
       "    <tr style=\"text-align: right;\">\n",
       "      <th></th>\n",
       "      <th>content</th>\n",
       "      <th>solution</th>\n",
       "      <th>malay</th>\n",
       "    </tr>\n",
       "  </thead>\n",
       "  <tbody>\n",
       "    <tr>\n",
       "      <th>0</th>\n",
       "      <td>Isikan tempat kosong dengan kata bantu yang se...</td>\n",
       "      <td>A</td>\n",
       "      <td>Saya perlu mengisi tempat kosong dalam ayat in...</td>\n",
       "    </tr>\n",
       "    <tr>\n",
       "      <th>1</th>\n",
       "      <td>Pilih penggunaan kata penguat yang betul.\\nPud...</td>\n",
       "      <td>B</td>\n",
       "      <td>Saya perlu memilih kata penguat yang paling se...</td>\n",
       "    </tr>\n",
       "    <tr>\n",
       "      <th>2</th>\n",
       "      <td>Isikan tempat kosong dengan kata bantu yang se...</td>\n",
       "      <td>A</td>\n",
       "      <td>Saya ada soalan tentang pilihan perkataan yang...</td>\n",
       "    </tr>\n",
       "    <tr>\n",
       "      <th>3</th>\n",
       "      <td>Isi tempat kosong dengan jawapan yang paling s...</td>\n",
       "      <td>D</td>\n",
       "      <td>Saya perlu memilih jawapan yang paling sesuai ...</td>\n",
       "    </tr>\n",
       "    <tr>\n",
       "      <th>4</th>\n",
       "      <td>Isi tempat kosong dalam ayat-ayat di bawah den...</td>\n",
       "      <td>A</td>\n",
       "      <td>Saya perlu mengisi tempat kosong dalam ayat in...</td>\n",
       "    </tr>\n",
       "  </tbody>\n",
       "</table>\n",
       "</div>"
      ],
      "text/plain": [
       "                                             content solution  \\\n",
       "0  Isikan tempat kosong dengan kata bantu yang se...        A   \n",
       "1  Pilih penggunaan kata penguat yang betul.\\nPud...        B   \n",
       "2  Isikan tempat kosong dengan kata bantu yang se...        A   \n",
       "3  Isi tempat kosong dengan jawapan yang paling s...        D   \n",
       "4  Isi tempat kosong dalam ayat-ayat di bawah den...        A   \n",
       "\n",
       "                                               malay  \n",
       "0  Saya perlu mengisi tempat kosong dalam ayat in...  \n",
       "1  Saya perlu memilih kata penguat yang paling se...  \n",
       "2  Saya ada soalan tentang pilihan perkataan yang...  \n",
       "3  Saya perlu memilih jawapan yang paling sesuai ...  \n",
       "4  Saya perlu mengisi tempat kosong dalam ayat in...  "
      ]
     },
     "execution_count": 15,
     "metadata": {},
     "output_type": "execute_result"
    }
   ],
   "source": [
    "df = pd.read_parquet('reasoning/data/tatabahasa-00000-of-00001.parquet')\n",
    "df.head()"
   ]
  },
  {
   "cell_type": "code",
   "execution_count": 16,
   "id": "8897c9f8",
   "metadata": {},
   "outputs": [
    {
     "data": {
      "text/plain": [
       "52081"
      ]
     },
     "execution_count": 16,
     "metadata": {},
     "output_type": "execute_result"
    }
   ],
   "source": [
    "for i in range(len(df)):\n",
    "    \n",
    "    instructions.append([\n",
    "        {'role': 'system', 'content': reasoning_ms},\n",
    "        {'role': 'user', 'content': df.iloc[i]['content']},\n",
    "        {'role': 'assistant', 'content': df.iloc[i]['malay']}\n",
    "    ])\n",
    "    \n",
    "len(instructions)"
   ]
  },
  {
   "cell_type": "code",
   "execution_count": 17,
   "id": "f0f82fb7",
   "metadata": {},
   "outputs": [
    {
     "data": {
      "text/html": [
       "<div>\n",
       "<style scoped>\n",
       "    .dataframe tbody tr th:only-of-type {\n",
       "        vertical-align: middle;\n",
       "    }\n",
       "\n",
       "    .dataframe tbody tr th {\n",
       "        vertical-align: top;\n",
       "    }\n",
       "\n",
       "    .dataframe thead th {\n",
       "        text-align: right;\n",
       "    }\n",
       "</style>\n",
       "<table border=\"1\" class=\"dataframe\">\n",
       "  <thead>\n",
       "    <tr style=\"text-align: right;\">\n",
       "      <th></th>\n",
       "      <th>content</th>\n",
       "      <th>malay</th>\n",
       "    </tr>\n",
       "  </thead>\n",
       "  <tbody>\n",
       "    <tr>\n",
       "      <th>0</th>\n",
       "      <td>Adakah benar syair “Tola’al Baru ‘Alaina” disy...</td>\n",
       "      <td>Alhamdulillah, puji dan syukur kepada Ilahi at...</td>\n",
       "    </tr>\n",
       "    <tr>\n",
       "      <th>1</th>\n",
       "      <td>Asslamualaikum Ustaz, Recently, my employer in...</td>\n",
       "      <td>If you know for certain that it is money, for ...</td>\n",
       "    </tr>\n",
       "    <tr>\n",
       "      <th>2</th>\n",
       "      <td>Assalamualaikum Dato’ Seri. Apa yang perlu say...</td>\n",
       "      <td>Waalaikumusslam  wbt.\\n\\nAlhamdulillah, segala...</td>\n",
       "    </tr>\n",
       "    <tr>\n",
       "      <th>3</th>\n",
       "      <td>Apakah hukum menggunakan duit biasasiswa pelaj...</td>\n",
       "      <td>Alhamdulillah, puji dan syukur kepada Ilahi at...</td>\n",
       "    </tr>\n",
       "    <tr>\n",
       "      <th>4</th>\n",
       "      <td>What is the ruling of using one’s scholarship ...</td>\n",
       "      <td>Alhamdulillah, praise and gratitude to Allah S...</td>\n",
       "    </tr>\n",
       "  </tbody>\n",
       "</table>\n",
       "</div>"
      ],
      "text/plain": [
       "                                             content  \\\n",
       "0  Adakah benar syair “Tola’al Baru ‘Alaina” disy...   \n",
       "1  Asslamualaikum Ustaz, Recently, my employer in...   \n",
       "2  Assalamualaikum Dato’ Seri. Apa yang perlu say...   \n",
       "3  Apakah hukum menggunakan duit biasasiswa pelaj...   \n",
       "4  What is the ruling of using one’s scholarship ...   \n",
       "\n",
       "                                               malay  \n",
       "0  Alhamdulillah, puji dan syukur kepada Ilahi at...  \n",
       "1  If you know for certain that it is money, for ...  \n",
       "2  Waalaikumusslam  wbt.\\n\\nAlhamdulillah, segala...  \n",
       "3  Alhamdulillah, puji dan syukur kepada Ilahi at...  \n",
       "4  Alhamdulillah, praise and gratitude to Allah S...  "
      ]
     },
     "execution_count": 17,
     "metadata": {},
     "output_type": "execute_result"
    }
   ],
   "source": [
    "df = pd.read_parquet('reasoning/data/maktabalbahri-00000-of-00001.parquet')\n",
    "df.head()"
   ]
  },
  {
   "cell_type": "code",
   "execution_count": 18,
   "id": "87b20e12",
   "metadata": {},
   "outputs": [],
   "source": [
    "from huggingface_hub import hf_hub_download\n",
    "import fasttext\n",
    "\n",
    "filename = hf_hub_download(\n",
    "    repo_id=\"mesolitica/fasttext-language-detection-bahasa-en\", \n",
    "    filename=\"fasttext.ftz\"\n",
    ")\n",
    "lang_model = fasttext.load_model(filename)"
   ]
  },
  {
   "cell_type": "code",
   "execution_count": 19,
   "id": "5c57d2cb",
   "metadata": {},
   "outputs": [
    {
     "data": {
      "text/plain": [
       "59560"
      ]
     },
     "execution_count": 19,
     "metadata": {},
     "output_type": "execute_result"
    }
   ],
   "source": [
    "for i in range(len(df)):\n",
    "    if lang_model.predict(df.iloc[i]['content'].replace('\\n', ' '))[0][0] == '__label__english':\n",
    "        system = reasoning_en\n",
    "    else:\n",
    "        system = reasoning_ms\n",
    "    \n",
    "    instructions.append([\n",
    "        {'role': 'system', 'content': system},\n",
    "        {'role': 'user', 'content': df.iloc[i]['content'].replace('\\xa0', ' ')},\n",
    "        {'role': 'assistant', 'content': df.iloc[i]['malay'].replace('\\xa0', ' ')}\n",
    "    ])\n",
    "    \n",
    "len(instructions)"
   ]
  },
  {
   "cell_type": "code",
   "execution_count": 20,
   "id": "6ed0513a",
   "metadata": {},
   "outputs": [
    {
     "data": {
      "text/plain": [
       "[{'role': 'system',\n",
       "  'content': 'You are going to enter reasoning mode, first you try to think step-by-step after that give the final answer.'},\n",
       " {'role': 'user',\n",
       "  'content': 'Design a highly available and scalable web application architecture on AWS that incorporates auto-scaling, load balancing, and data replication across multiple regions to ensure low latency and high durability. Additionally, implement a DDoS protection mechanism and a backup strategy that allows for rapid recovery in case of a service disruption.'},\n",
       " {'role': 'assistant',\n",
       "  'content': \"Designing a highly available and scalable web application architecture on AWS involves several key components and considerations. I'll walk through the process step by step, incorporating auto-scaling, load balancing, data replication, DDoS protection, and a backup strategy.\\n\\n### 1. **Choosing the Right Services**\\n\\nFirst, I need to select the appropriate AWS services that will help me achieve high availability, scalability, and durability.\\n\\n- **Compute:** Amazon EC2 for compute instances.\\n- **Load Balancing:** Elastic Load Balancing (ELB) for distributing traffic.\\n- **Auto-Scaling:** Auto Scaling groups to manage EC2 instances.\\n- **Data Storage:** Amazon RDS with Multi-AZ deployment for relational databases, and Amazon S3 for object storage.\\n- **Content Delivery:** Amazon CloudFront for caching and delivering content closer to users.\\n- **DDoS Protection:** AWS Shield for DDoS protection.\\n- **Backup and Recovery:** AWS Backup for automated backups and Amazon S3 cross-region replication.\\n\\n### 2. **Architecture Overview**\\n\\nThe architecture will be designed to span multiple AWS regions to ensure low latency and high durability. Here’s a high-level overview:\\n\\n- **Frontend:** ELB distributed across multiple regions.\\n- **Compute Layer:** Auto-scaling groups in each region.\\n- **Data Layer:** RDS with Multi-AZ in one primary region, replicated to a secondary region.\\n- **Content Delivery:** CloudFront with origins in multiple regions.\\n- **DDoS Protection:** AWS Shield Standard for all resources, with AWS Shield Advanced for enhanced protection.\\n- **Backup:** Regular backups of RDS and S3 data, with cross-region replication.\\n\\n### 3. **Detailed Architecture Components**\\n\\n#### 3.1 **Compute and Auto-Scaling**\\n\\n- **EC2 Instances:** Set up EC2 instances in Auto Scaling groups within each region.\\n- **Launch Configurations:** Define launch configurations for the Auto Scaling groups.\\n- **Scaling Policies:** Implement scaling policies based on CPU utilization, network I/O, or custom metrics.\\n\\n#### 3.2 **Load Balancing**\\n\\n- **Application Load Balancer (ALB):** Use ALBs in each region to distribute traffic to EC2 instances.\\n- **Cross-Region Load Balancing:** Use AWS Global Accelerator to route traffic to the nearest healthy region.\\n\\n#### 3.3 **Data Storage and Replication**\\n\\n- **RDS Multi-AZ:** Deploy RDS with Multi-AZ in the primary region for high availability.\\n- **Cross-Region Replication:** Set up read replicas in the secondary region for data replication.\\n- **S3 Cross-Region Replication:** Configure S3 buckets with cross-region replication for object storage.\\n\\n#### 3.4 **Content Delivery**\\n\\n- **CloudFront:** Create CloudFront distributions with origins pointing to S3 buckets or EC2 instances in multiple regions.\\n- **Edge Locations:** Leverage CloudFront’s edge locations to cache content and reduce latency.\\n\\n#### 3.5 **DDoS Protection**\\n\\n- **AWS Shield Standard:** Automatically enabled for all AWS customers to protect against common DDoS attacks.\\n- **AWS Shield Advanced:** For enhanced protection, enable Shield Advanced, which includes customizations and access to AWS DDoS Response Team (DRT).\\n\\n#### 3.6 **Backup and Recovery**\\n\\n- **AWS Backup:** Set up automated backups for RDS instances and S3 buckets.\\n- **Cross-Region Snapshots:** Take periodic snapshots of RDS instances and copy them to a secondary region.\\n- **Versioning in S3:** Enable versioning in S3 buckets to protect against accidental deletions and overwrites.\\n\\n### 4. **Implementation Steps**\\n\\n#### 4.1 **Set Up Compute and Auto-Scaling**\\n\\n1. **Create EC2 Instances:**\\n   - Choose appropriate instance types based on application requirements.\\n   - Configure security groups and IAM roles.\\n\\n2. **Create Auto Scaling Groups:**\\n   - Define launch configurations or launch templates.\\n   - Set desired, minimum, and maximum instance counts.\\n   - Configure scaling policies based on metrics.\\n\\n#### 4.2 **Configure Load Balancing**\\n\\n1. **Create Application Load Balancers:**\\n   - Set up ALBs in each region.\\n   - Configure target groups pointing to EC2 instances in the Auto Scaling groups.\\n\\n2. **Set Up AWS Global Accelerator:**\\n   - Create accelerator and endpoints for each region’s ALB.\\n   - Map DNS name to the accelerator.\\n\\n#### 4.3 **Deploy Data Storage with Replication**\\n\\n1. **Set Up RDS with Multi-AZ:**\\n   - Launch RDS instance with Multi-AZ in the primary region.\\n   - Configure backup settings and enable encryption.\\n\\n2. **Create Read Replicas:**\\n   - Set up read replicas in the secondary region.\\n   - Ensure replication is synchronous or asynchronous based on requirements.\\n\\n3. **Configure S3 Buckets:**\\n   - Create S3 buckets in both regions.\\n   - Enable cross-region replication between buckets.\\n\\n#### 4.4 **Implement Content Delivery**\\n\\n1. **Create CloudFront Distributions:**\\n   - Define origins pointing to S3 buckets or EC2 instances.\\n   - Set up cache behaviors and configure SSL.\\n\\n2. **Configure Edge Locations:**\\n   - Ensure CloudFront is set up to use edge locations globally.\\n\\n#### 4.5 **Enable DDoS Protection**\\n\\n1. **AWS Shield Standard:**\\n   - This is automatically enabled for all AWS customers.\\n\\n2. **AWS Shield Advanced:**\\n   - Opt-in for Shield Advanced.\\n   - Configure protection for specific resources like ALBs and CloudFront distributions.\\n\\n#### 4.6 **Set Up Backup and Recovery**\\n\\n1. **AWS Backup:**\\n   - Create backup plans for RDS instances and S3 buckets.\\n   - Schedule backups according to retention policies.\\n\\n2. **Cross-Region Snapshots:**\\n   - Take periodic RDS snapshots and copy them to the secondary region.\\n\\n3. **S3 Versioning and Lifecycle Policies:**\\n   - Enable versioning on S3 buckets.\\n   - Set up lifecycle policies for managing older versions and expired objects.\\n\\n### 5. **Testing and Validation**\\n\\n- **Load Testing:** Use tools like Amazon CloudWatch, AWS X-Ray, and third-party load testing tools to simulate traffic and ensure the system scales appropriately.\\n- **Failover Testing:** Test failover scenarios for RDS Multi-AZ and cross-region replication to verify data consistency and application availability.\\n- **DDoS Simulation:** Work with AWS DRT to simulate DDoS attacks and validate the effectiveness of AWS Shield.\\n\\n### 6. **Monitoring and Logging**\\n\\n- **CloudWatch:** Set up CloudWatch alarms for critical metrics such as CPU usage, disk space, and network traffic.\\n- **VPC Flow Logs:** Enable VPC flow logs to monitor traffic patterns.\\n- **AWS CloudTrail:** Enable CloudTrail to log API calls and security events.\\n- **ELB Access Logs:** Configure access logs for ALBs to analyze request patterns and identify issues.\\n\\n### 7. **Cost Optimization**\\n\\n- **Reserved Instances:** Purchase Reserved Instances for steady-state workloads to save costs.\\n- **Spot Instances:** Use Spot Instances for non-critical components to reduce expenses.\\n- **Auto Scaling:** Ensure Auto Scaling is configured to scale down during off-peak hours to avoid unnecessary costs.\\n- **S3 Storage Classes:** Use appropriate S3 storage classes like Glacier for less frequently accessed data.\\n\\n### 8. **Security Considerations**\\n\\n- **Network Security:** Use VPCs with private and public subnets, and implement network ACLs and security groups.\\n- **Data Encryption:** Enable encryption for RDS instances and S3 buckets.\\n- **IAM Roles and Policies:** Define least privilege IAM roles and policies for EC2 instances and other services.\\n- **Regular Audits:** Conduct regular security audits and vulnerability assessments.\\n\\n### 9. **Disaster Recovery Plan**\\n\\n- **Failover Procedures:** Document procedures for manually triggering failover from primary to secondary regions if needed.\\n- **Testing DR Plans:** Regularly test disaster recovery plans to ensure they work as expected.\\n- **RPO and RTO:** Define Recovery Point Objective (RPO) and Recovery Time Objective (RTO) and align the architecture accordingly.\\n\\n### 10. **Documentation and Training**\\n\\n- **Architecture Diagrams:** Maintain up-to-date architecture diagrams and documentation.\\n- **Training:** Train operations and development teams on the new architecture, including deployment, monitoring, and troubleshooting procedures.\\n\\nBy following these steps and considerations, you can design a robust, scalable, and highly available web application architecture on AWS that incorporates auto-scaling, load balancing, data replication, DDoS protection, and a solid backup strategy.\"}]"
      ]
     },
     "execution_count": 20,
     "metadata": {},
     "output_type": "execute_result"
    }
   ],
   "source": [
    "instructions[0]"
   ]
  },
  {
   "cell_type": "code",
   "execution_count": 21,
   "id": "b68bdcd3",
   "metadata": {},
   "outputs": [],
   "source": [
    "with open('combined-malaysian-reasoning.jsonl', 'w') as fopen:\n",
    "    for i in instructions:\n",
    "        fopen.write(f'{json.dumps(i)}\\n')"
   ]
  },
  {
   "cell_type": "code",
   "execution_count": 22,
   "id": "4fe1643b",
   "metadata": {},
   "outputs": [
    {
     "name": "stdout",
     "output_type": "stream",
     "text": [
      "-rw-rw-r-- 1 husein husein 1.1G Jan   6 13:01 combined-malaysian-reasoning.jsonl\r\n"
     ]
    }
   ],
   "source": [
    "!ls -lh combined-malaysian-reasoning.jsonl"
   ]
  },
  {
   "cell_type": "code",
   "execution_count": null,
   "id": "bf9be121",
   "metadata": {},
   "outputs": [
    {
     "data": {
      "application/vnd.jupyter.widget-view+json": {
       "model_id": "8a894f9db3a14156be171d6d4853e290",
       "version_major": 2,
       "version_minor": 0
      },
      "text/plain": [
       "combined-malaysian-reasoning.jsonl:   0%|          | 0.00/1.15G [00:00<?, ?B/s]"
      ]
     },
     "metadata": {},
     "output_type": "display_data"
    }
   ],
   "source": [
    "from huggingface_hub import HfApi\n",
    "api = HfApi()\n",
    "api.upload_file(\n",
    "    path_or_fileobj=\"combined-malaysian-reasoning.jsonl\",\n",
    "    path_in_repo=\"combine/combined-malaysian-reasoning.jsonl\",\n",
    "    repo_id=\"mesolitica/Malaysian-SFT\",\n",
    "    repo_type=\"dataset\",\n",
    ")"
   ]
  }
 ],
 "metadata": {
  "kernelspec": {
   "display_name": "python3.10",
   "language": "python",
   "name": "python3.10"
  },
  "language_info": {
   "codemirror_mode": {
    "name": "ipython",
    "version": 3
   },
   "file_extension": ".py",
   "mimetype": "text/x-python",
   "name": "python",
   "nbconvert_exporter": "python",
   "pygments_lexer": "ipython3",
   "version": "3.10.15"
  }
 },
 "nbformat": 4,
 "nbformat_minor": 5
}
