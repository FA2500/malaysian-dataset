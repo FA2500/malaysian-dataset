{
 "cells": [
  {
   "cell_type": "code",
   "execution_count": 1,
   "id": "744a7c3e",
   "metadata": {},
   "outputs": [],
   "source": [
    "from malaysian_sft import accept\n",
    "from collections import defaultdict\n",
    "import pandas as pd\n",
    "import os\n",
    "import json\n",
    "import random\n",
    "import re"
   ]
  },
  {
   "cell_type": "code",
   "execution_count": 2,
   "id": "ea1c73f0",
   "metadata": {
    "scrolled": true
   },
   "outputs": [],
   "source": [
    "from huggingface_hub import hf_hub_download\n",
    "import fasttext\n",
    "\n",
    "filename = hf_hub_download(\n",
    "    repo_id=\"mesolitica/fasttext-language-detection-bahasa-en\", \n",
    "    filename=\"fasttext.ftz\"\n",
    ")\n",
    "lang_model = fasttext.load_model(filename)"
   ]
  },
  {
   "cell_type": "code",
   "execution_count": 3,
   "id": "e43671a2",
   "metadata": {},
   "outputs": [],
   "source": [
    "from tqdm import tqdm\n",
    "\n",
    "def generate_and_tokenize_prompt(row, validate = True):\n",
    "    if '<bot>:' in row['input'] and row['output'] is None:\n",
    "        inputs, outputs = [], []\n",
    "        splitted = row['input'].split('<bot>:')\n",
    "        for i in range(len(splitted) - 1):\n",
    "            if i == 0:\n",
    "                human = splitted[i].replace('<manusia>:', '')\n",
    "            else:\n",
    "                try:\n",
    "                    human = splitted[i].split('<manusia>:')[1]\n",
    "                except BaseException:\n",
    "                    continue\n",
    "            bot = splitted[i + 1].split('<manusia>:')[0]\n",
    "            inputs.append(human)\n",
    "            outputs.append(bot)\n",
    "    else:\n",
    "        inputs = [row['input']]\n",
    "        outputs = [row['output']]\n",
    "\n",
    "    chat = []\n",
    "    if row['prompt_input'] is not None and len(row['prompt_input']):\n",
    "        chat.append({'role': 'system', 'content': row['prompt_input'].strip()})\n",
    "    for input, output in zip(inputs, outputs):\n",
    "        chat.extend([\n",
    "            {'role': 'user', 'content': input.strip()},\n",
    "            {'role': 'assistant', 'content': output.strip()},\n",
    "        ])\n",
    "    if validate:\n",
    "        for c in chat:\n",
    "            if not accept(c['content']):\n",
    "                return\n",
    "    return chat"
   ]
  },
  {
   "cell_type": "code",
   "execution_count": 4,
   "id": "7ad7c996",
   "metadata": {},
   "outputs": [
    {
     "data": {
      "text/html": [
       "<div>\n",
       "<style scoped>\n",
       "    .dataframe tbody tr th:only-of-type {\n",
       "        vertical-align: middle;\n",
       "    }\n",
       "\n",
       "    .dataframe tbody tr th {\n",
       "        vertical-align: top;\n",
       "    }\n",
       "\n",
       "    .dataframe thead th {\n",
       "        text-align: right;\n",
       "    }\n",
       "</style>\n",
       "<table border=\"1\" class=\"dataframe\">\n",
       "  <thead>\n",
       "    <tr style=\"text-align: right;\">\n",
       "      <th></th>\n",
       "      <th>prompt_input</th>\n",
       "      <th>input</th>\n",
       "      <th>output</th>\n",
       "    </tr>\n",
       "  </thead>\n",
       "  <tbody>\n",
       "    <tr>\n",
       "      <th>0</th>\n",
       "      <td>None</td>\n",
       "      <td>Cari bucu bagi fungsi nilai mutlak f(x) = |2x ...</td>\n",
       "      <td>Untuk mencari bucu bagi fungsi nilai mutlak f(...</td>\n",
       "    </tr>\n",
       "    <tr>\n",
       "      <th>1</th>\n",
       "      <td>None</td>\n",
       "      <td>Biarkan $f:\\mathbb{R}^2 \\to \\mathbb{R}$ ditakr...</td>\n",
       "      <td>Untuk mencari titik genting bagi fungsi $f(x, ...</td>\n",
       "    </tr>\n",
       "    <tr>\n",
       "      <th>2</th>\n",
       "      <td>None</td>\n",
       "      <td>Sudah tentu, berikut ialah masalah berangka un...</td>\n",
       "      <td>Untuk mencari kecerunan garis tangen kepada le...</td>\n",
       "    </tr>\n",
       "    <tr>\n",
       "      <th>3</th>\n",
       "      <td>None</td>\n",
       "      <td>Katakan kita mempunyai dua set A dan B di mana...</td>\n",
       "      <td>Untuk mencari persilangan set A dan B, kita me...</td>\n",
       "    </tr>\n",
       "    <tr>\n",
       "      <th>4</th>\n",
       "      <td>None</td>\n",
       "      <td>Terdapat 10 bola merah yang sama dan 5 bola bi...</td>\n",
       "      <td>Untuk menyelesaikan masalah ini, kita boleh me...</td>\n",
       "    </tr>\n",
       "  </tbody>\n",
       "</table>\n",
       "</div>"
      ],
      "text/plain": [
       "  prompt_input                                              input  \\\n",
       "0         None  Cari bucu bagi fungsi nilai mutlak f(x) = |2x ...   \n",
       "1         None  Biarkan $f:\\mathbb{R}^2 \\to \\mathbb{R}$ ditakr...   \n",
       "2         None  Sudah tentu, berikut ialah masalah berangka un...   \n",
       "3         None  Katakan kita mempunyai dua set A dan B di mana...   \n",
       "4         None  Terdapat 10 bola merah yang sama dan 5 bola bi...   \n",
       "\n",
       "                                              output  \n",
       "0  Untuk mencari bucu bagi fungsi nilai mutlak f(...  \n",
       "1  Untuk mencari titik genting bagi fungsi $f(x, ...  \n",
       "2  Untuk mencari kecerunan garis tangen kepada le...  \n",
       "3  Untuk mencari persilangan set A dan B, kita me...  \n",
       "4  Untuk menyelesaikan masalah ini, kita boleh me...  "
      ]
     },
     "execution_count": 4,
     "metadata": {},
     "output_type": "execute_result"
    }
   ],
   "source": [
    "df = pd.read_parquet('google_translate_camel_ai-00000-of-00001.parquet')\n",
    "df.head()"
   ]
  },
  {
   "cell_type": "code",
   "execution_count": 5,
   "id": "e1db1df2",
   "metadata": {},
   "outputs": [],
   "source": [
    "camel_instruct = []\n",
    "for i in range(len(df)):\n",
    "    camel_instruct.append([\n",
    "        {'role': 'user', 'content': df.iloc[i]['input']},\n",
    "        {'role': 'assistant', 'content': df.iloc[i]['output']}\n",
    "    ])"
   ]
  },
  {
   "cell_type": "code",
   "execution_count": 6,
   "id": "ef4963bd",
   "metadata": {
    "scrolled": false
   },
   "outputs": [
    {
     "data": {
      "text/plain": [
       "[{'role': 'user',\n",
       "  'content': 'Cari bucu bagi fungsi nilai mutlak f(x) = |2x - 5|.'},\n",
       " {'role': 'assistant',\n",
       "  'content': 'Untuk mencari bucu bagi fungsi nilai mutlak f(x) = |2x - 5|, kita perlu mencari koordinat-x bagi puncak tersebut. Puncak berlaku pada titik di mana ungkapan di dalam nilai mutlak adalah sama dengan sifar.\\n\\n2x - 5 = 0\\n\\nSekarang, selesaikan untuk x:\\n\\n2x = 5\\nx = 5/2\\n\\nKoordinat-x bagi bucu ialah 5/2. Sekarang, kita perlu mencari koordinat-y yang sepadan dengan memasukkan semula koordinat-x ke dalam fungsi:\\n\\nf(5/2) = |2(5/2) - 5|\\n\\nf(5/2) = |5 - 5|\\n\\nf(5/2) = 0\\n\\nJadi, koordinat y bagi bucu ialah 0. Oleh itu, bucu bagi fungsi nilai mutlak f(x) = |2x - 5| ialah (5/2, 0).'}]"
      ]
     },
     "execution_count": 6,
     "metadata": {},
     "output_type": "execute_result"
    }
   ],
   "source": [
    "camel_instruct[0]"
   ]
  },
  {
   "cell_type": "code",
   "execution_count": 7,
   "id": "83ca58a2",
   "metadata": {},
   "outputs": [
    {
     "data": {
      "text/html": [
       "<div>\n",
       "<style scoped>\n",
       "    .dataframe tbody tr th:only-of-type {\n",
       "        vertical-align: middle;\n",
       "    }\n",
       "\n",
       "    .dataframe tbody tr th {\n",
       "        vertical-align: top;\n",
       "    }\n",
       "\n",
       "    .dataframe thead th {\n",
       "        text-align: right;\n",
       "    }\n",
       "</style>\n",
       "<table border=\"1\" class=\"dataframe\">\n",
       "  <thead>\n",
       "    <tr style=\"text-align: right;\">\n",
       "      <th></th>\n",
       "      <th>prompt_input</th>\n",
       "      <th>input</th>\n",
       "      <th>output</th>\n",
       "    </tr>\n",
       "  </thead>\n",
       "  <tbody>\n",
       "    <tr>\n",
       "      <th>0</th>\n",
       "      <td>None</td>\n",
       "      <td>apa mksud peribahasa, ada aku dipandang hadap,...</td>\n",
       "      <td>Kasih sayang hanya waktu berhadapan saja, sete...</td>\n",
       "    </tr>\n",
       "    <tr>\n",
       "      <th>1</th>\n",
       "      <td>None</td>\n",
       "      <td>apa mksud peribahasa, ada angin</td>\n",
       "      <td>Orang yang berperangai luar biasa pada masa te...</td>\n",
       "    </tr>\n",
       "    <tr>\n",
       "      <th>2</th>\n",
       "      <td>None</td>\n",
       "      <td>apa mksud peribahasa, ada angin, ada pohonnya</td>\n",
       "      <td>Setiap kejadian pasti ada sebab-sebabnya (asal...</td>\n",
       "    </tr>\n",
       "    <tr>\n",
       "      <th>3</th>\n",
       "      <td>None</td>\n",
       "      <td>ada angin, ada pokoknya, mksud peribahasa</td>\n",
       "      <td>Setiap kejadian pasti ada mulanya.</td>\n",
       "    </tr>\n",
       "    <tr>\n",
       "      <th>4</th>\n",
       "      <td>None</td>\n",
       "      <td>ada bakat, mksud peribahasa</td>\n",
       "      <td>Berkebolehan dalam sesuatu lapangan seperti me...</td>\n",
       "    </tr>\n",
       "    <tr>\n",
       "      <th>...</th>\n",
       "      <td>...</td>\n",
       "      <td>...</td>\n",
       "      <td>...</td>\n",
       "    </tr>\n",
       "    <tr>\n",
       "      <th>8316</th>\n",
       "      <td>None</td>\n",
       "      <td>apa mksud peribahasa, zaman meleset</td>\n",
       "      <td>Zaman serba susah</td>\n",
       "    </tr>\n",
       "    <tr>\n",
       "      <th>8317</th>\n",
       "      <td>None</td>\n",
       "      <td>zaman Tok Naduk, mksud peribahasa</td>\n",
       "      <td>Zaman awal bagi Pulau Pinang diterokai oleh Pi...</td>\n",
       "    </tr>\n",
       "    <tr>\n",
       "      <th>8318</th>\n",
       "      <td>None</td>\n",
       "      <td>zaman tuk nadur berkajang kain, mksud peribahasa</td>\n",
       "      <td>Zaman yang lampau; sudah lama sekali</td>\n",
       "    </tr>\n",
       "    <tr>\n",
       "      <th>8319</th>\n",
       "      <td>None</td>\n",
       "      <td>apa mksud peribahasa, zat makanan</td>\n",
       "      <td>Zat-zat yang diperoleh dari makanan manusia</td>\n",
       "    </tr>\n",
       "    <tr>\n",
       "      <th>8320</th>\n",
       "      <td>None</td>\n",
       "      <td>apakah maksud peribahasa \"zuriat keturunan\"</td>\n",
       "      <td>Cucu cicit.</td>\n",
       "    </tr>\n",
       "  </tbody>\n",
       "</table>\n",
       "<p>8321 rows × 3 columns</p>\n",
       "</div>"
      ],
      "text/plain": [
       "     prompt_input                                              input  \\\n",
       "0            None  apa mksud peribahasa, ada aku dipandang hadap,...   \n",
       "1            None                    apa mksud peribahasa, ada angin   \n",
       "2            None      apa mksud peribahasa, ada angin, ada pohonnya   \n",
       "3            None          ada angin, ada pokoknya, mksud peribahasa   \n",
       "4            None                        ada bakat, mksud peribahasa   \n",
       "...           ...                                                ...   \n",
       "8316         None                apa mksud peribahasa, zaman meleset   \n",
       "8317         None                  zaman Tok Naduk, mksud peribahasa   \n",
       "8318         None   zaman tuk nadur berkajang kain, mksud peribahasa   \n",
       "8319         None                  apa mksud peribahasa, zat makanan   \n",
       "8320         None        apakah maksud peribahasa \"zuriat keturunan\"   \n",
       "\n",
       "                                                 output  \n",
       "0     Kasih sayang hanya waktu berhadapan saja, sete...  \n",
       "1     Orang yang berperangai luar biasa pada masa te...  \n",
       "2     Setiap kejadian pasti ada sebab-sebabnya (asal...  \n",
       "3                    Setiap kejadian pasti ada mulanya.  \n",
       "4     Berkebolehan dalam sesuatu lapangan seperti me...  \n",
       "...                                                 ...  \n",
       "8316                                  Zaman serba susah  \n",
       "8317  Zaman awal bagi Pulau Pinang diterokai oleh Pi...  \n",
       "8318               Zaman yang lampau; sudah lama sekali  \n",
       "8319        Zat-zat yang diperoleh dari makanan manusia  \n",
       "8320                                        Cucu cicit.  \n",
       "\n",
       "[8321 rows x 3 columns]"
      ]
     },
     "execution_count": 7,
     "metadata": {},
     "output_type": "execute_result"
    }
   ],
   "source": [
    "df = pd.read_parquet('peribahasa_instructions-00000-of-00001.parquet')\n",
    "df"
   ]
  },
  {
   "cell_type": "code",
   "execution_count": 8,
   "id": "178ba499",
   "metadata": {},
   "outputs": [
    {
     "data": {
      "text/plain": [
       "8321"
      ]
     },
     "execution_count": 8,
     "metadata": {},
     "output_type": "execute_result"
    }
   ],
   "source": [
    "peribahasa_instruct = []\n",
    "\n",
    "for i in range(len(df)):\n",
    "    if len(df.iloc[i]['output']) > 4 and len(df.iloc[i]['input']) > 4:\n",
    "        peribahasa_instruct.append([\n",
    "            {'role': 'user', 'content': df.iloc[i]['input']}, \n",
    "            {'role': 'assistant', 'content': df.iloc[i]['output']}\n",
    "        ])\n",
    "        \n",
    "len(peribahasa_instruct)"
   ]
  },
  {
   "cell_type": "code",
   "execution_count": 9,
   "id": "e0989960",
   "metadata": {},
   "outputs": [],
   "source": [
    "jawi_translation_instruct = []\n",
    "files = ['en-jawi.parquet', 'ms-jawi.parquet', 'jawi-ms.parquet', 'jawi-en.parquet']\n",
    "for f in files:\n",
    "    df = pd.read_parquet(f).sample(5000)\n",
    "    for i in range(len(df)):\n",
    "        if len(df.iloc[i]['output']) > 4 and len(df.iloc[i]['input']) > 4:\n",
    "            jawi_translation_instruct.append([\n",
    "                {'role': 'user', 'content': df.iloc[i]['input']}, \n",
    "                {'role': 'assistant', 'content': df.iloc[i]['output']}\n",
    "            ])\n",
    "    "
   ]
  },
  {
   "cell_type": "code",
   "execution_count": 10,
   "id": "5255facd",
   "metadata": {
    "scrolled": true
   },
   "outputs": [
    {
     "data": {
      "text/plain": [
       "20000"
      ]
     },
     "execution_count": 10,
     "metadata": {},
     "output_type": "execute_result"
    }
   ],
   "source": [
    "len(jawi_translation_instruct)"
   ]
  },
  {
   "cell_type": "code",
   "execution_count": 11,
   "id": "1b1e04fc",
   "metadata": {
    "scrolled": false
   },
   "outputs": [
    {
     "name": "stdout",
     "output_type": "stream",
     "text": [
      "prepared-force-english.parquet\t    prepared-force-malay.parquet\r\n",
      "prepared-force-indonesian.parquet   prepared-force-mandarin.parquet\r\n",
      "prepared-force-jawi.parquet\t    prepared-force-tamil.parquet\r\n",
      "prepared-force-json-format.parquet\r\n"
     ]
    }
   ],
   "source": [
    "!ls *force*.parquet"
   ]
  },
  {
   "cell_type": "code",
   "execution_count": 12,
   "id": "c570163a",
   "metadata": {
    "scrolled": false
   },
   "outputs": [
    {
     "data": {
      "text/html": [
       "<div>\n",
       "<style scoped>\n",
       "    .dataframe tbody tr th:only-of-type {\n",
       "        vertical-align: middle;\n",
       "    }\n",
       "\n",
       "    .dataframe tbody tr th {\n",
       "        vertical-align: top;\n",
       "    }\n",
       "\n",
       "    .dataframe thead th {\n",
       "        text-align: right;\n",
       "    }\n",
       "</style>\n",
       "<table border=\"1\" class=\"dataframe\">\n",
       "  <thead>\n",
       "    <tr style=\"text-align: right;\">\n",
       "      <th></th>\n",
       "      <th>prompt_input</th>\n",
       "      <th>input</th>\n",
       "      <th>output</th>\n",
       "    </tr>\n",
       "  </thead>\n",
       "  <tbody>\n",
       "    <tr>\n",
       "      <th>0</th>\n",
       "      <td>None</td>\n",
       "      <td>sentiasa respond dalam bahasa melayu\\n\\nIn a g...</td>\n",
       "      <td>Pertama, mari kita mulakan dengan melaksanakan...</td>\n",
       "    </tr>\n",
       "    <tr>\n",
       "      <th>1</th>\n",
       "      <td>None</td>\n",
       "      <td>u always reply in malay\\n\\nThere is a mysterio...</td>\n",
       "      <td>1. Apabila `i` sama dengan 0, terdapat 3 kedai...</td>\n",
       "    </tr>\n",
       "    <tr>\n",
       "      <th>2</th>\n",
       "      <td>None</td>\n",
       "      <td>always reply in malay\\n\\nYou are given a direc...</td>\n",
       "      <td>Berikut adalah penyelesaian yang mungkin dalam...</td>\n",
       "    </tr>\n",
       "    <tr>\n",
       "      <th>3</th>\n",
       "      <td>None</td>\n",
       "      <td>awak sentiasa reply in malay\\n\\nIn a blockchai...</td>\n",
       "      <td>Berikut adalah penyelesaian C++ untuk masalah ...</td>\n",
       "    </tr>\n",
       "    <tr>\n",
       "      <th>4</th>\n",
       "      <td>None</td>\n",
       "      <td>sentiasa respond dalam bahasa melayu\\n\\nThere ...</td>\n",
       "      <td>Pertama, ubah struktur `cli_args` untuk memasu...</td>\n",
       "    </tr>\n",
       "    <tr>\n",
       "      <th>...</th>\n",
       "      <td>...</td>\n",
       "      <td>...</td>\n",
       "      <td>...</td>\n",
       "    </tr>\n",
       "    <tr>\n",
       "      <th>625075</th>\n",
       "      <td>None</td>\n",
       "      <td>&lt;manusia&gt;: sentiasa respond dalam bahasa melay...</td>\n",
       "      <td>None</td>\n",
       "    </tr>\n",
       "    <tr>\n",
       "      <th>625076</th>\n",
       "      <td>None</td>\n",
       "      <td>&lt;manusia&gt;: awak sentiasa reply in malay\\n\\nWhy...</td>\n",
       "      <td>None</td>\n",
       "    </tr>\n",
       "    <tr>\n",
       "      <th>625077</th>\n",
       "      <td>None</td>\n",
       "      <td>&lt;manusia&gt;: awak sentiasa reply in malay\\n\\nWhy...</td>\n",
       "      <td>None</td>\n",
       "    </tr>\n",
       "    <tr>\n",
       "      <th>625078</th>\n",
       "      <td>None</td>\n",
       "      <td>&lt;manusia&gt;: sentiasa respond dalam bahasa melay...</td>\n",
       "      <td>None</td>\n",
       "    </tr>\n",
       "    <tr>\n",
       "      <th>625079</th>\n",
       "      <td>None</td>\n",
       "      <td>&lt;manusia&gt;: you are a chatbot that always respo...</td>\n",
       "      <td>None</td>\n",
       "    </tr>\n",
       "  </tbody>\n",
       "</table>\n",
       "<p>625080 rows × 3 columns</p>\n",
       "</div>"
      ],
      "text/plain": [
       "       prompt_input                                              input  \\\n",
       "0              None  sentiasa respond dalam bahasa melayu\\n\\nIn a g...   \n",
       "1              None  u always reply in malay\\n\\nThere is a mysterio...   \n",
       "2              None  always reply in malay\\n\\nYou are given a direc...   \n",
       "3              None  awak sentiasa reply in malay\\n\\nIn a blockchai...   \n",
       "4              None  sentiasa respond dalam bahasa melayu\\n\\nThere ...   \n",
       "...             ...                                                ...   \n",
       "625075         None  <manusia>: sentiasa respond dalam bahasa melay...   \n",
       "625076         None  <manusia>: awak sentiasa reply in malay\\n\\nWhy...   \n",
       "625077         None  <manusia>: awak sentiasa reply in malay\\n\\nWhy...   \n",
       "625078         None  <manusia>: sentiasa respond dalam bahasa melay...   \n",
       "625079         None  <manusia>: you are a chatbot that always respo...   \n",
       "\n",
       "                                                   output  \n",
       "0       Pertama, mari kita mulakan dengan melaksanakan...  \n",
       "1       1. Apabila `i` sama dengan 0, terdapat 3 kedai...  \n",
       "2       Berikut adalah penyelesaian yang mungkin dalam...  \n",
       "3       Berikut adalah penyelesaian C++ untuk masalah ...  \n",
       "4       Pertama, ubah struktur `cli_args` untuk memasu...  \n",
       "...                                                   ...  \n",
       "625075                                               None  \n",
       "625076                                               None  \n",
       "625077                                               None  \n",
       "625078                                               None  \n",
       "625079                                               None  \n",
       "\n",
       "[625080 rows x 3 columns]"
      ]
     },
     "execution_count": 12,
     "metadata": {},
     "output_type": "execute_result"
    }
   ],
   "source": [
    "df = pd.read_parquet('prepared-force-malay.parquet')\n",
    "df"
   ]
  },
  {
   "cell_type": "code",
   "execution_count": 13,
   "id": "0135d80a",
   "metadata": {},
   "outputs": [],
   "source": [
    "files = {\n",
    "    'prepared-force-malay.parquet': 50000,\n",
    "    'prepared-force-jawi.parquet': 50000, \n",
    "    'prepared-force-tamil.parquet': 10000, \n",
    "    'prepared-force-english.parquet': 5000, \n",
    "    'prepared-force-mandarin.parquet': 10000, \n",
    "    'prepared-force-indonesian.parquet': 10000,\n",
    "}"
   ]
  },
  {
   "cell_type": "code",
   "execution_count": 14,
   "id": "a3d7aa01",
   "metadata": {},
   "outputs": [],
   "source": [
    "for f, v in files.items():\n",
    "    filename = f'{f}.filtered'\n",
    "    if os.path.exists(filename):\n",
    "        continue\n",
    "    \n",
    "    rs, codes = [], []\n",
    "    df = pd.read_parquet(f)\n",
    "    for i in tqdm(range(len(df))):\n",
    "        row = generate_and_tokenize_prompt(df.iloc[i].to_dict(), validate = True)\n",
    "        if row is None:\n",
    "            continue\n",
    "        code = False\n",
    "        for r in row:\n",
    "            if '```' in r['content']:\n",
    "                code = True\n",
    "                break\n",
    "        \n",
    "        if code:\n",
    "            codes.append(row)\n",
    "        else:\n",
    "            rs.append(row)\n",
    "            \n",
    "    with open(filename, 'w') as fopen:\n",
    "        json.dump({'rs': rs, 'codes': codes}, fopen)"
   ]
  },
  {
   "cell_type": "code",
   "execution_count": 15,
   "id": "13b7235d",
   "metadata": {
    "scrolled": false
   },
   "outputs": [
    {
     "data": {
      "text/plain": [
       "6"
      ]
     },
     "execution_count": 15,
     "metadata": {},
     "output_type": "execute_result"
    }
   ],
   "source": [
    "force = defaultdict(list)\n",
    "\n",
    "templates = [\n",
    "    '{system}\\n\\n{text}',\n",
    "    '{text}, {system}',\n",
    "    '{system}, {text}'\n",
    "]\n",
    "\n",
    "for f, v in files.items():\n",
    "    filename = f'{f}.filtered'\n",
    "    if not os.path.exists(filename):\n",
    "        continue\n",
    "    \n",
    "    with open(filename) as fopen:\n",
    "        d = json.load(fopen)\n",
    "    \n",
    "    samples = random.sample(d['rs'], min(v, len(d['rs'])))\n",
    "    s = []\n",
    "    for i in range(len(samples)):\n",
    "        splitted = samples[i][0]['content'].split('\\n\\n')\n",
    "        if len(splitted[0]) < 3:\n",
    "            continue\n",
    "        samples[i][0]['content'] = splitted[1]\n",
    "        if random.random() > 0.3:\n",
    "            samples[i].insert(0, {'role': 'system', 'content': splitted[0]})\n",
    "        else:\n",
    "            samples[i][0]['content'] = random.choice(templates).format(system = splitted[0], text = splitted[1])\n",
    "            samples[i] = samples[i][:2]\n",
    "            \n",
    "        s.append(samples[i])\n",
    "        \n",
    "    force[f].extend(s)\n",
    "    \n",
    "    try:\n",
    "        s = []\n",
    "        samples = random.sample(d['codes'], min(v // 5, len(d['codes'])))\n",
    "        for i in range(len(samples)):\n",
    "            splitted = samples[i][0]['content'].split('\\n\\n')\n",
    "            if len(splitted[0]) < 3:\n",
    "                continue\n",
    "            samples[i][0]['content'] = splitted[1]\n",
    "            if random.random() > 0.3:\n",
    "                samples[i].insert(0, {'role': 'system', 'content': splitted[0]})\n",
    "            else:\n",
    "                samples[i][0]['content'] = random.choice(templates).format(system = splitted[0], text = splitted[1])\n",
    "                samples[i] = samples[i][:2]\n",
    "            \n",
    "            s.append(samples[i])\n",
    "\n",
    "        force[f].extend(s)\n",
    "    except:\n",
    "        pass\n",
    "\n",
    "len(force)"
   ]
  },
  {
   "cell_type": "code",
   "execution_count": 16,
   "id": "a2a70c7b",
   "metadata": {},
   "outputs": [
    {
     "data": {
      "text/plain": [
       "dict_keys(['prepared-force-malay.parquet', 'prepared-force-jawi.parquet', 'prepared-force-tamil.parquet', 'prepared-force-english.parquet', 'prepared-force-mandarin.parquet', 'prepared-force-indonesian.parquet'])"
      ]
     },
     "execution_count": 16,
     "metadata": {},
     "output_type": "execute_result"
    }
   ],
   "source": [
    "force.keys()"
   ]
  },
  {
   "cell_type": "code",
   "execution_count": 17,
   "id": "2290acc3",
   "metadata": {},
   "outputs": [
    {
     "data": {
      "text/plain": [
       "60000"
      ]
     },
     "execution_count": 17,
     "metadata": {},
     "output_type": "execute_result"
    }
   ],
   "source": [
    "len(force['prepared-force-malay.parquet'])"
   ]
  },
  {
   "cell_type": "code",
   "execution_count": 18,
   "id": "971d78bf",
   "metadata": {},
   "outputs": [
    {
     "name": "stderr",
     "output_type": "stream",
     "text": [
      "509375it [06:52, 1235.17it/s] \n"
     ]
    }
   ],
   "source": [
    "jawi = []\n",
    "with open('synthetic-jawi-conversation.jsonl') as fopen:\n",
    "    for l in tqdm(fopen):\n",
    "        l = json.loads(l)\n",
    "\n",
    "        try:\n",
    "            s = l[1]['content_ms'].split()\n",
    "            if len(s) < 250:\n",
    "                continue\n",
    "\n",
    "            if len(s) > 1000:\n",
    "                continue\n",
    "\n",
    "            if not accept(l[1]['content_ms']):\n",
    "                continue      \n",
    "\n",
    "            jawi.append(l[:2])\n",
    "\n",
    "        except Exception as e:\n",
    "            pass\n",
    "\n",
    "system = [\n",
    "    'you are a chatbot that always reply in jawi',\n",
    "    'you are an assistant that always reply in jawi',\n",
    "    'awak adalah chatbot yang sentiasa respond dalam jawi',\n",
    "    'awak adalah pembantu AI yang reply in jawi',\n",
    "]\n",
    "\n",
    "system2 = [\n",
    "    'respond in jawi, {text}',\n",
    "    '{text}, reply in jawi',\n",
    "    'reply in jawi\\n\\n{text}',\n",
    "    '{text}\\n\\nrespond dlm jawi',\n",
    "]\n",
    "\n",
    "j = [j for j in jawi if j[0]['role'] != 'context']\n",
    "\n",
    "j = sorted(j, key = lambda x: len(x[1]['content_ms']), reverse = True)[:50000]\n",
    "\n",
    "jawi_instructions = []\n",
    "for j_ in j:\n",
    "    if random.randint(0, 1):\n",
    "        l = random.choice(system2).format(text = j_[0]['content_ms'])\n",
    "        jawi_instructions.append([\n",
    "            {'role': 'user', 'content': l},\n",
    "            {'role': 'assistant', 'content': j_[1]['content_jawi']}\n",
    "        ])\n",
    "    else:\n",
    "        s = random.choice(system)\n",
    "        jawi_instructions.append([\n",
    "            {'role': 'system', 'content': s},\n",
    "            {'role': 'user', 'content': j_[0]['content_ms']},\n",
    "            {'role': 'assistant', 'content': j_[1]['content_jawi']}\n",
    "        ])"
   ]
  },
  {
   "cell_type": "code",
   "execution_count": 19,
   "id": "e50b0c0c",
   "metadata": {},
   "outputs": [
    {
     "data": {
      "text/plain": [
       "50000"
      ]
     },
     "execution_count": 19,
     "metadata": {},
     "output_type": "execute_result"
    }
   ],
   "source": [
    "len(jawi_instructions)"
   ]
  },
  {
   "cell_type": "code",
   "execution_count": 20,
   "id": "4f5c8264",
   "metadata": {},
   "outputs": [
    {
     "name": "stderr",
     "output_type": "stream",
     "text": [
      "100%|███████████████████████████████████████████████████████████████████████████████████████████████████| 32932/32932 [00:55<00:00, 594.24it/s]\n",
      "100%|█████████████████████████████████████████████████████████████████████████████████████████████████| 87556/87556 [00:02<00:00, 39315.41it/s]\n"
     ]
    },
    {
     "data": {
      "text/plain": [
       "114853"
      ]
     },
     "execution_count": 20,
     "metadata": {},
     "output_type": "execute_result"
    }
   ],
   "source": [
    "code = []\n",
    "\n",
    "df = pd.read_parquet('chatgpt4_code_instruct-00000-of-00001.parquet')\n",
    "for i in tqdm(range(len(df))):\n",
    "    l = str(df.iloc[i].to_dict())\n",
    "    if 'anda berikan' in l.lower():\n",
    "        continue\n",
    "    if not accept(df.iloc[i]['input'], skip_indon = False):\n",
    "        continue\n",
    "    if not accept(df.iloc[i]['output'], min_len = 1):\n",
    "        continue\n",
    "    d = [\n",
    "        {'role': 'user', 'content': df.iloc[i]['input']},\n",
    "        {'role': 'assistant', 'content': df.iloc[i]['output']}\n",
    "    ]\n",
    "    code.append(d)\n",
    "    \n",
    "df = pd.read_parquet('prepared-mixtral-magicoder.parquet')\n",
    "for i in tqdm(range(len(df))):\n",
    "    d = [\n",
    "        {'role': 'user', 'content': df.iloc[i]['input']},\n",
    "        {'role': 'assistant', 'content': df.iloc[i]['output']}\n",
    "    ]\n",
    "    code.append(d)\n",
    "    \n",
    "len(code)"
   ]
  },
  {
   "cell_type": "code",
   "execution_count": 21,
   "id": "5c263bf4",
   "metadata": {
    "scrolled": false
   },
   "outputs": [
    {
     "data": {
      "text/html": [
       "<div>\n",
       "<style scoped>\n",
       "    .dataframe tbody tr th:only-of-type {\n",
       "        vertical-align: middle;\n",
       "    }\n",
       "\n",
       "    .dataframe tbody tr th {\n",
       "        vertical-align: top;\n",
       "    }\n",
       "\n",
       "    .dataframe thead th {\n",
       "        text-align: right;\n",
       "    }\n",
       "</style>\n",
       "<table border=\"1\" class=\"dataframe\">\n",
       "  <thead>\n",
       "    <tr style=\"text-align: right;\">\n",
       "      <th></th>\n",
       "      <th>prompt_input</th>\n",
       "      <th>input</th>\n",
       "      <th>output</th>\n",
       "    </tr>\n",
       "  </thead>\n",
       "  <tbody>\n",
       "    <tr>\n",
       "      <th>0</th>\n",
       "      <td>None</td>\n",
       "      <td>&lt;manusia&gt;:  English \\n\\n\\n\\nconcepts of patria...</td>\n",
       "      <td>None</td>\n",
       "    </tr>\n",
       "    <tr>\n",
       "      <th>1</th>\n",
       "      <td>None</td>\n",
       "      <td>&lt;manusia&gt;: © 2022 Sains Insani  \\n\\n\\n\\n\\n\\n\\n...</td>\n",
       "      <td>None</td>\n",
       "    </tr>\n",
       "    <tr>\n",
       "      <th>2</th>\n",
       "      <td>None</td>\n",
       "      <td>&lt;manusia&gt;: a ini. Sumbang saran dilakukan supa...</td>\n",
       "      <td>None</td>\n",
       "    </tr>\n",
       "    <tr>\n",
       "      <th>3</th>\n",
       "      <td>None</td>\n",
       "      <td>&lt;manusia&gt;: 10: 3-4 (2018) 27–33 | www.sainshum...</td>\n",
       "      <td>None</td>\n",
       "    </tr>\n",
       "    <tr>\n",
       "      <th>4</th>\n",
       "      <td>None</td>\n",
       "      <td>&lt;manusia&gt;:  they lost their freedom and rights...</td>\n",
       "      <td>None</td>\n",
       "    </tr>\n",
       "  </tbody>\n",
       "</table>\n",
       "</div>"
      ],
      "text/plain": [
       "  prompt_input                                              input output\n",
       "0         None  <manusia>:  English \\n\\n\\n\\nconcepts of patria...   None\n",
       "1         None  <manusia>: © 2022 Sains Insani  \\n\\n\\n\\n\\n\\n\\n...   None\n",
       "2         None  <manusia>: a ini. Sumbang saran dilakukan supa...   None\n",
       "3         None  <manusia>: 10: 3-4 (2018) 27–33 | www.sainshum...   None\n",
       "4         None  <manusia>:  they lost their freedom and rights...   None"
      ]
     },
     "execution_count": 21,
     "metadata": {},
     "output_type": "execute_result"
    }
   ],
   "source": [
    "df = pd.read_parquet('malaysian_ultrachat-00000-of-00001.parquet')\n",
    "df.head()"
   ]
  },
  {
   "cell_type": "code",
   "execution_count": 22,
   "id": "2e9c3545",
   "metadata": {},
   "outputs": [
    {
     "name": "stderr",
     "output_type": "stream",
     "text": [
      "100%|███████████████████████████████████████████████████████████████████████████████████████████████| 149054/149054 [00:13<00:00, 10797.81it/s]\n"
     ]
    },
    {
     "data": {
      "text/plain": [
       "140432"
      ]
     },
     "execution_count": 22,
     "metadata": {},
     "output_type": "execute_result"
    }
   ],
   "source": [
    "filter_ultrachat = []\n",
    "for i in tqdm(range(len(df))):\n",
    "    l = generate_and_tokenize_prompt(df.iloc[i].to_dict(), validate = False)\n",
    "    valid = True\n",
    "    for no, l_ in enumerate(l):\n",
    "        left = re.sub('[^a-z ]+', ' ', l_['content'][:20].lower())\n",
    "        left = re.sub(r'[ ]+', ' ', left).strip()\n",
    "        right = re.sub('[^a-z ]+', ' ', l[no - 1]['content'][:20].lower())\n",
    "        right = re.sub(r'[ ]+', ' ', right).strip()\n",
    "        if left[:10] == right[:10]:\n",
    "            valid = False\n",
    "            break\n",
    "    if not valid:\n",
    "        continue\n",
    "    l_ = json.dumps(l).lower()\n",
    "    if 'dalam konteks di' in l_:\n",
    "        continue\n",
    "    if 'terjemah' in l_:\n",
    "        continue\n",
    "    if 'artikel itu' in l_:\n",
    "        continue\n",
    "    filter_ultrachat.append(l)\n",
    "    \n",
    "len(filter_ultrachat)"
   ]
  },
  {
   "cell_type": "code",
   "execution_count": 23,
   "id": "9612dcb4",
   "metadata": {},
   "outputs": [
    {
     "data": {
      "text/plain": [
       "[{'role': 'user',\n",
       "  'content': 'menimbangkan masalah ini dengan mengadakan penggredan sekolah yang wajar mengadakan kelas Tingkatan Enam. Bagi melahirkan seorang doktor yang terlatih, seorang pelajar perubatan harus melalui enam tahun pengajian di universiti, diikuti dengan setahun bekerja sebagai doktor pelatih atau housemanship dengan izin. Dalam tempoh inilah, doktor pelatih didedahkan dengan segala aspek kerja-kerja di hospital dan merawat jenis-jenis penyakit dan pesakit. Malangnya di negara ini, pengurusan sistem housemanship dengan izin, dilaporkan tidaklah menyenangkan. Ramai daripada doktor-doktor pelatih disebabkan dibebani dengan kerja-kerja yang berlebihan sehingga terpaksa bekerja 36 jam terus- menerus tanpa sebarang rehat. Perkara ini berlaku di hospital-hospital di seluruh negara dari dahulu hinggalah ke hari ini. Ini dapat disahkan oleh doktor-doktor senior yang masih ada sekarang. Sistem penderaan yang dikatakan ini bermula di kalangan pelatih baru atau junior dengan izin, dan di peringkat menentukan jadual on call di mana pelatih akan diberikan jadual on call dengan izin yang lebih daripada pelatih senior yang sudah pasti tidak ada jadual on call pada hujung minggu untuk mereka. Begitulah yang seterusnya yang berlaku mengikut hierarki pengurusan. Jurusan perubatan merupakan bidang yang sangat mencabar kerana melibatkan nyawa manusia. Oleh itu, keadaan fizikal dan mental yang cergas amat penting dalam memastikan tiada kesilapan berlaku. Di Republik Ireland, satu undang- undang telah digubal bagi mengelakkan seorang yang telah bekerja on call dengan izin, semalaman daripada bekerja keesokan harinya. Ini berekoran dari satu insiden di mana doktor yang melakukan tugas on call pada malam sebelumnya memberi ubat yang salah kepada pesakit lantaran menyebabkan kematian. Saya percaya pihak pengurusan hospital tidak mahu insiden seperti ini berlaku. Kekurangan doktor tidak boleh dijadikan alasan kerana banyak cara penyelesaian yang dapat dilakukan. Membebani doktor pelatih dengan pelbagai tugas dan jadual kerja bukanlah cara yang bijak untuk melatih tetapi mengundang insiden yang tidak diingini berlaku. Mengapa perlu mengejar Piawaian ISO 9000 apabila kebajikan pekerja terabai?. Melalui sistem yang ada sekarang, kebanyakan doktor pelatih menganggap pengalaman semasa housemanship sebagai satu pengalaman yang pahit dan yang amat menyedihkan. Kebanyakan doktor pelatih juga takut untuk menyuarakan masalah mereka kerana takut tempoh housemanship mereka dilanjutkan. Akibat daripada tekanan kerja yang tinggi, saya diberitahu ramai doktor pelatih yang menyesal memasuki bidang kedoktoran dan hanya meneruskan karier kerana tiada pilihan lain dan bukan lagi kerana cita-cita murni untuk membantu pesakit. Oleh kerana kerajaan kita telah membelanjakan banyak wang dalam mengeluarkan pakar-pakar perubatan bagi keperluan negara sekarang dan masa depan. Tambahan pula, bidang kedoktoran ini memerlukan kecergasan dari segi fizikal dan mental yang baik, maka saya memohon Kementerian Kesihatan untuk menyiasat perkara ini bagi memastikan keadaan ini akan dapat dibaiki di masa terdekat. Saya ingin mencadangkan bagi peringkat awal supaya mereka, doktor-doktor yang digelar sebagai pelatih ini, tidak terkejut dihadkan kepada 24 jam dahulu, berehat sejam, dua jam dan disambung lapan jam kemudiannya, dan selepas 32 jam bekerja, mereka berehat sebelum mula bekerja keesokan harinya. Timbalan Yang di-Pertua [Datuk Lim Si Cheng]: Yang Berhormat, Yang Berhormat... Datin Paduka Hajah Seripah Noli binti Syed Hussin: Ya?. Timbalan Yang di-Pertua [Datuk Lim Si Cheng]: Boleh gulunglah. Datin Paduka Hajah Seripah Noli binti Syed Hussin: Saya hendak gulung ini. Amatlah merugikan negara jika perkara ini menjadi sebab pelajar-pelajar kita memilih bidang lain di masa hadapan. Terakhir ini Tuan Yang di-Pertua. Dakwaan surau dirobohkan oleh Jabatan Agama Islam oleh PAS merupakan satu lagi pembohongan dan tuduhan liar yang tidak berasas berhubung isu ini. Tuan Haji Che Ghani bin Che Ambak: Cukup!.\\n\\nApakah cabaran yang dihadapi oleh pelatih perubatan di hospital mengenai waktu kerja dan beban kerja mereka?'},\n",
       " {'role': 'assistant',\n",
       "  'content': 'Cabaran yang dihadapi oleh jurulatih perubatan di hospital berkaitan dengan waktu kerja dan beban kerja mereka adalah berat. Ramai doktor pelatih terpaksa bekerja tanpa rehat selama 36 jam berturut-turut, yang boleh menyebabkan ketidakcergasan fizikal dan mental. Ini menyebabkan risiko kesilapan dan keselamatan pesakit terancam. Selain itu, doktor-doktor pelatih juga dipilih untuk on call jadual yang lebih kerap daripada jurulatih senior, yang mengganggu keseimbangan kerja dan hayat mereka. Sistem housemanship yang tidak menyenangkan ini perlu dikaji semula untuk memastikan keselamatan dan kebajikan mereka dijaga dengan baik.'},\n",
       " {'role': 'user',\n",
       "  'content': 'Betul tu, kerja doktor pelatih memang penat gila. Boleh mintak assistant cari info tentang langkah-langkah yang boleh diambil untuk memperbaiki keadaan ni?'},\n",
       " {'role': 'assistant',\n",
       "  'content': 'Sudah tentu boleh! Berikut adalah beberapa langkah yang boleh diambil untuk memperbaiki keadaan doktor pelatih:\\n\\n1. Pengurangan masa kerja: Mengurangkan masa kerja menjadi lebih munasabah dan munasabah supaya doktor pelatih dapat berehat dan memulihkan tenaga mereka dengan baik.\\n\\n2. Tawaran cuti yang mencukupi: Memberi cuti yang mencukupi kepada doktor pelatih untuk mengimbangi beban kerja yang tinggi.\\n\\n3. Pelaksanaan garis panduan terhadap beban kerja: Menetapkan garis panduan yang jelas mengenai beban kerja yang dibenarkan untuk mengelakkan beban kerja yang berlebihan kepada doktor pelatih.\\n\\n4. Latihan dan bimbingan yang baik: Menyediakan latihan dan bimbingan yang berkesan kepada doktor pelatih untuk memastikan mereka mempunyai kecekapan dan keyakinan dalam menjalankan tanggungjawab mereka.\\n\\n5. Meningkatkan keupayaan sistem: Mengkaji semula sistem pengurusan hospital untuk meningkatkan keupayaannya dalam menyokong keperluan doktor pelatih dan memastikan mereka bekerja dalam persekitaran yang selamat.\\n\\n6. Pembuatan asas pekerja mampu memberi laluan untuk menjaga kebajikan dan kebajikan doktor pelatih di tempat kerja.\\n\\nSemoga maklumat ini membantu! Jika anda mahukan maklumat yang lebih terperinci atau memerlukan maklumat tambahan, sila beritahu saya.'}]"
      ]
     },
     "execution_count": 23,
     "metadata": {},
     "output_type": "execute_result"
    }
   ],
   "source": [
    "filter_ultrachat[-1]"
   ]
  },
  {
   "cell_type": "code",
   "execution_count": 24,
   "id": "d8d0169d",
   "metadata": {},
   "outputs": [
    {
     "data": {
      "text/html": [
       "<div>\n",
       "<style scoped>\n",
       "    .dataframe tbody tr th:only-of-type {\n",
       "        vertical-align: middle;\n",
       "    }\n",
       "\n",
       "    .dataframe tbody tr th {\n",
       "        vertical-align: top;\n",
       "    }\n",
       "\n",
       "    .dataframe thead th {\n",
       "        text-align: right;\n",
       "    }\n",
       "</style>\n",
       "<table border=\"1\" class=\"dataframe\">\n",
       "  <thead>\n",
       "    <tr style=\"text-align: right;\">\n",
       "      <th></th>\n",
       "      <th>prompt_input</th>\n",
       "      <th>input</th>\n",
       "      <th>output</th>\n",
       "    </tr>\n",
       "  </thead>\n",
       "  <tbody>\n",
       "    <tr>\n",
       "      <th>0</th>\n",
       "      <td>None</td>\n",
       "      <td>Bru 5hb weyy!! Habess dahh gaji knapa bulan ni...</td>\n",
       "      <td>Terima kasih atas perkongsian anda mengenai ke...</td>\n",
       "    </tr>\n",
       "    <tr>\n",
       "      <th>1</th>\n",
       "      <td>None</td>\n",
       "      <td>Inilah penyelesaian masalah Azmin Ali sejak ha...</td>\n",
       "      <td>Terima kasih atas pertanyaan yang dikemukakan....</td>\n",
       "    </tr>\n",
       "    <tr>\n",
       "      <th>2</th>\n",
       "      <td>None</td>\n",
       "      <td>Birthday Aku 22/5 apa Aku nak seharian org ant...</td>\n",
       "      <td>Terima kasih atas perkongsian ini! Hari lahir ...</td>\n",
       "    </tr>\n",
       "    <tr>\n",
       "      <th>3</th>\n",
       "      <td>None</td>\n",
       "      <td>PAS yang bertarung seorang diri, hanya mengend...</td>\n",
       "      <td>Terima kasih atas perkongsian maklumat tentang...</td>\n",
       "    </tr>\n",
       "    <tr>\n",
       "      <th>4</th>\n",
       "      <td>None</td>\n",
       "      <td>Antara tanda2 kejatuhan sesebuah kerajaan apab...</td>\n",
       "      <td>Tanda-tanda kejatuhan sesebuah kerajaan memang...</td>\n",
       "    </tr>\n",
       "  </tbody>\n",
       "</table>\n",
       "</div>"
      ],
      "text/plain": [
       "  prompt_input                                              input  \\\n",
       "0         None  Bru 5hb weyy!! Habess dahh gaji knapa bulan ni...   \n",
       "1         None  Inilah penyelesaian masalah Azmin Ali sejak ha...   \n",
       "2         None  Birthday Aku 22/5 apa Aku nak seharian org ant...   \n",
       "3         None  PAS yang bertarung seorang diri, hanya mengend...   \n",
       "4         None  Antara tanda2 kejatuhan sesebuah kerajaan apab...   \n",
       "\n",
       "                                              output  \n",
       "0  Terima kasih atas perkongsian anda mengenai ke...  \n",
       "1  Terima kasih atas pertanyaan yang dikemukakan....  \n",
       "2  Terima kasih atas perkongsian ini! Hari lahir ...  \n",
       "3  Terima kasih atas perkongsian maklumat tentang...  \n",
       "4  Tanda-tanda kejatuhan sesebuah kerajaan memang...  "
      ]
     },
     "execution_count": 24,
     "metadata": {},
     "output_type": "execute_result"
    }
   ],
   "source": [
    "df = pd.read_parquet('llama3_70b_social_media_qa-00000-of-00001.parquet')\n",
    "df.head()"
   ]
  },
  {
   "cell_type": "code",
   "execution_count": 25,
   "id": "3b412319",
   "metadata": {},
   "outputs": [],
   "source": [
    "social_media = []\n",
    "for i in range(len(df)):\n",
    "    d = [\n",
    "        {'role': 'user', 'content': df.iloc[i]['input']},\n",
    "        {'role': 'assistant', 'content': df.iloc[i]['output']}\n",
    "    ]\n",
    "    social_media.append(d)"
   ]
  },
  {
   "cell_type": "code",
   "execution_count": 26,
   "id": "b7f3b8d0",
   "metadata": {
    "scrolled": true
   },
   "outputs": [
    {
     "data": {
      "text/plain": [
       "[{'role': 'user',\n",
       "  'content': 'cikatilia posted on 22-12-2012 01:35 AM \\r\\ncantik siot\\n\\r\\njgn ada yg menambah pakai inner sbb bertudung sudahh\\nbertudung tu x menawan ke pada ko ?'},\n",
       " {'role': 'assistant',\n",
       "  'content': 'Assalamualaikum cikatilia,\\n\\nTerima kasih atas komen yang ditinggalkan di ruangan ini. Saya berharap agar kita dapat berbicara dengan santai dan bersifat positif.\\n\\nBagaimanapun, saya ingin mengetahui lebih lanjut tentang maksud komen \"cantik siot\" dan \"jgn ada yg menambah pakai inner sbb bertudung sudahh\". Adakah cikatilia hendak mengatakan bahawa bertudung itu sudah cukup sebagai identiti seorang muslimah dan tidak perlu lagi menambahkan elemen lain untuk menampakkan kecantikan?\\n\\nSaya cuba memahami perkara ini daripada perspektif yang positif dan santai. Bertudung memang merupakan salah satu elemen penting dalam beragama, namun saya percaya bahawa setiap individu memiliki hak dan kebebasan untuk menentukan pilihan dan gaya mereka sendiri.\\n\\nJika cikatilia bersetuju, maka kita dapat membincangkan perkara ini dengan lebih lanjut dan mencari jalan untuk meningkatkan keyakinan dan kepercayaan diri dalam beragama. Saya yakin bahawa dengan membincangkan perkara ini, kita dapat saling memahami dan meningkatkan kesedaran kita dalam menjalani kehidupan sebagai seorang muslimah.\\n\\nTerima kasih atas perhatian cikatilia, dan saya berharap agar kita dapat terus berbincang dengan santai dan hormat-menghormati.\\n\\nWassalamualaikum.'}]"
      ]
     },
     "execution_count": 26,
     "metadata": {},
     "output_type": "execute_result"
    }
   ],
   "source": [
    "social_media[-1]"
   ]
  },
  {
   "cell_type": "code",
   "execution_count": 27,
   "id": "5062c5b8",
   "metadata": {},
   "outputs": [
    {
     "data": {
      "text/html": [
       "<div>\n",
       "<style scoped>\n",
       "    .dataframe tbody tr th:only-of-type {\n",
       "        vertical-align: middle;\n",
       "    }\n",
       "\n",
       "    .dataframe tbody tr th {\n",
       "        vertical-align: top;\n",
       "    }\n",
       "\n",
       "    .dataframe thead th {\n",
       "        text-align: right;\n",
       "    }\n",
       "</style>\n",
       "<table border=\"1\" class=\"dataframe\">\n",
       "  <thead>\n",
       "    <tr style=\"text-align: right;\">\n",
       "      <th></th>\n",
       "      <th>prompt_input</th>\n",
       "      <th>input</th>\n",
       "      <th>output</th>\n",
       "    </tr>\n",
       "  </thead>\n",
       "  <tbody>\n",
       "    <tr>\n",
       "      <th>0</th>\n",
       "      <td>None</td>\n",
       "      <td>中国新年期间，马来西亚的城市街道为什么会挂满红灯笼和 Couplets？</td>\n",
       "      <td>在马来西亚，城市街道挂满红灯笼和 Couplets 是因为中国新年（也称春节）是马来西亚华人...</td>\n",
       "    </tr>\n",
       "    <tr>\n",
       "      <th>1</th>\n",
       "      <td>None</td>\n",
       "      <td>在马来西亚，中国新年被视为一个重要的社会交流和互动的机会，为什么？</td>\n",
       "      <td>在马来西亚，中国新年被视为一个重要的社会交流和互动的机会，因为马来西亚是一个多元种族和文化的...</td>\n",
       "    </tr>\n",
       "    <tr>\n",
       "      <th>2</th>\n",
       "      <td>None</td>\n",
       "      <td>马来西亚华人在春节期间通常会举办哪些传统活动，以维护和弘扬中华文化？</td>\n",
       "      <td>在马来西亚，华人在春节期间通常会举办多种传统活动，以维护和弘扬中华文化。以下是一些常见的活动...</td>\n",
       "    </tr>\n",
       "    <tr>\n",
       "      <th>3</th>\n",
       "      <td>None</td>\n",
       "      <td>中国新年在马来西亚的经济影响如何？例如，对旅游业、零售业和餐饮业的影响？</td>\n",
       "      <td>中国新年（亦称春节）是马来西亚一个重要的传统节日，对马来西亚的经济产生了显著的影响。以下是对...</td>\n",
       "    </tr>\n",
       "    <tr>\n",
       "      <th>4</th>\n",
       "      <td>None</td>\n",
       "      <td>在马来西亚，中国新年期间的食物习俗有什么特点？例如，为什么year cake和鱼生是春节期间...</td>\n",
       "      <td>在马来西亚，中国新年期间的食物习俗具有独特的特点。马来西亚的华人社区.BackgroundI...</td>\n",
       "    </tr>\n",
       "  </tbody>\n",
       "</table>\n",
       "</div>"
      ],
      "text/plain": [
       "  prompt_input                                              input  \\\n",
       "0         None               中国新年期间，马来西亚的城市街道为什么会挂满红灯笼和 Couplets？   \n",
       "1         None                  在马来西亚，中国新年被视为一个重要的社会交流和互动的机会，为什么？   \n",
       "2         None                 马来西亚华人在春节期间通常会举办哪些传统活动，以维护和弘扬中华文化？   \n",
       "3         None               中国新年在马来西亚的经济影响如何？例如，对旅游业、零售业和餐饮业的影响？   \n",
       "4         None  在马来西亚，中国新年期间的食物习俗有什么特点？例如，为什么year cake和鱼生是春节期间...   \n",
       "\n",
       "                                              output  \n",
       "0  在马来西亚，城市街道挂满红灯笼和 Couplets 是因为中国新年（也称春节）是马来西亚华人...  \n",
       "1  在马来西亚，中国新年被视为一个重要的社会交流和互动的机会，因为马来西亚是一个多元种族和文化的...  \n",
       "2  在马来西亚，华人在春节期间通常会举办多种传统活动，以维护和弘扬中华文化。以下是一些常见的活动...  \n",
       "3  中国新年（亦称春节）是马来西亚一个重要的传统节日，对马来西亚的经济产生了显著的影响。以下是对...  \n",
       "4  在马来西亚，中国新年期间的食物习俗具有独特的特点。马来西亚的华人社区.BackgroundI...  "
      ]
     },
     "execution_count": 27,
     "metadata": {},
     "output_type": "execute_result"
    }
   ],
   "source": [
    "df = pd.read_parquet('llama3_70b_non_bumi_qa-00000-of-00001.parquet')\n",
    "df.head()"
   ]
  },
  {
   "cell_type": "code",
   "execution_count": 28,
   "id": "edce20c9",
   "metadata": {},
   "outputs": [],
   "source": [
    "nonbumi = []\n",
    "for i in range(len(df)):\n",
    "    d = [\n",
    "        {'role': 'user', 'content': df.iloc[i]['input']},\n",
    "        {'role': 'assistant', 'content': df.iloc[i]['output']}\n",
    "    ]\n",
    "    nonbumi.append(d)"
   ]
  },
  {
   "cell_type": "code",
   "execution_count": 29,
   "id": "d79b1d9e",
   "metadata": {},
   "outputs": [],
   "source": [
    "azril = []\n",
    "df = pd.read_parquet('tatabahasa-00000-of-00001.parquet')\n",
    "for i in range(len(df)):\n",
    "    d = [\n",
    "        {'role': 'user', 'content': df.iloc[i]['input']},\n",
    "        {'role': 'assistant', 'content': df.iloc[i]['output']}\n",
    "    ]\n",
    "    azril.append(d)\n",
    "    \n",
    "df = pd.read_parquet('mallm_bench-00000-of-00001.parquet')\n",
    "for i in range(len(df)):\n",
    "    d = [\n",
    "        {'role': 'user', 'content': df.iloc[i]['input']},\n",
    "        {'role': 'assistant', 'content': df.iloc[i]['output']}\n",
    "    ]\n",
    "    azril.append(d)"
   ]
  },
  {
   "cell_type": "code",
   "execution_count": 30,
   "id": "b024b099",
   "metadata": {},
   "outputs": [
    {
     "data": {
      "text/plain": [
       "[{'role': 'user',\n",
       "  'content': 'tukar ayat aktif ke ayat pasif: Encik Razak mengajar pelajar-pelajar tentang kepentingan menjaga alam sekitar.'},\n",
       " {'role': 'assistant',\n",
       "  'content': 'Pelajar-pelajar diajar tentang kepentingan menjaga alam sekitar oleh Encik Razak.'}]"
      ]
     },
     "execution_count": 30,
     "metadata": {},
     "output_type": "execute_result"
    }
   ],
   "source": [
    "df = pd.read_parquet('ayat_aktif_pasif-00000-of-00001.parquet')\n",
    "ayat_aktif = []\n",
    "for i in range(len(df)):\n",
    "    d = [\n",
    "        {'role': 'user', 'content': df.iloc[i]['input']},\n",
    "        {'role': 'assistant', 'content': df.iloc[i]['output']}\n",
    "    ]\n",
    "    ayat_aktif.append(d)\n",
    "ayat_aktif[0]"
   ]
  },
  {
   "cell_type": "code",
   "execution_count": 31,
   "id": "288db635",
   "metadata": {},
   "outputs": [
    {
     "data": {
      "text/plain": [
       "[{'role': 'user',\n",
       "  'content': 'Budak ni makan taik kali bodo sial babi baling mercun kat kote dia'},\n",
       " {'role': 'assistant',\n",
       "  'content': 'Saya tidak dapat memahami sepenuhnya konteks perbualan ini, tetapi saya boleh mengesyorkan bahawa menggunakan bahasa yang kasar dan menghina adalah tidak sesuai dalam sebarang situasi. Adalah penting untuk berkomunikasi dengan hormat dan menghormati orang lain. Jika anda mengalami masalah atau tekanan, saya menggalakkan anda untuk mendapatkan bantuan daripada sumber yang boleh dipercayai seperti keluarga, rakan atau profesional kesihatan mental.'}]"
      ]
     },
     "execution_count": 31,
     "metadata": {},
     "output_type": "execute_result"
    }
   ],
   "source": [
    "df = pd.read_parquet('malaysian_safe_respond-00000-of-00001.parquet')\n",
    "safe_respond = []\n",
    "for i in range(len(df)):\n",
    "    d = [\n",
    "        {'role': 'user', 'content': df.iloc[i]['input']},\n",
    "        {'role': 'assistant', 'content': df.iloc[i]['output']}\n",
    "    ]\n",
    "    safe_respond.append(d)\n",
    "safe_respond[0]"
   ]
  },
  {
   "cell_type": "code",
   "execution_count": 32,
   "id": "6291cec9",
   "metadata": {},
   "outputs": [],
   "source": [
    "with open('kamus-instructions.json') as fopen:\n",
    "    kamus_instructions = json.load(fopen)"
   ]
  },
  {
   "cell_type": "code",
   "execution_count": 34,
   "id": "1f3be85a",
   "metadata": {},
   "outputs": [],
   "source": [
    "with open('filter-instructions.json') as fopen:\n",
    "    filtered_instructions = json.load(fopen)"
   ]
  },
  {
   "cell_type": "code",
   "execution_count": 66,
   "id": "15e09b9a",
   "metadata": {},
   "outputs": [],
   "source": [
    "with open('dialect-instructions.json') as fopen:\n",
    "    dialect_instructions = json.load(fopen)"
   ]
  },
  {
   "cell_type": "code",
   "execution_count": 67,
   "id": "8ea576ff",
   "metadata": {},
   "outputs": [],
   "source": [
    "with open('jawi-code.json') as fopen:\n",
    "    force_jawi = json.load(fopen)"
   ]
  },
  {
   "cell_type": "code",
   "execution_count": 68,
   "id": "7a7fe42a",
   "metadata": {},
   "outputs": [],
   "source": [
    "with open('manglish-code.json') as fopen:\n",
    "    force_manglish = json.load(fopen)"
   ]
  },
  {
   "cell_type": "code",
   "execution_count": 69,
   "id": "e835848c",
   "metadata": {},
   "outputs": [],
   "source": [
    "gathered = [\n",
    "    camel_instruct,\n",
    "    peribahasa_instruct,\n",
    "    jawi_translation_instruct,\n",
    "    jawi_instructions,\n",
    "    code,\n",
    "    filter_ultrachat,\n",
    "    social_media,\n",
    "    nonbumi,\n",
    "    azril,\n",
    "    ayat_aktif,\n",
    "    safe_respond,\n",
    "]\n",
    "\n",
    "lists = [\n",
    "    kamus_instructions,\n",
    "    dialect_instructions,\n",
    "    filtered_instructions,\n",
    "    force_jawi,\n",
    "    force_manglish,\n",
    "]\n",
    "\n",
    "for i in range(len(lists)):\n",
    "    for v in lists[i].values():\n",
    "        gathered.append(v)\n",
    "        \n",
    "for k in force.keys():\n",
    "    gathered.append(force[k])"
   ]
  },
  {
   "cell_type": "code",
   "execution_count": 70,
   "id": "b1bc9acf",
   "metadata": {
    "scrolled": true
   },
   "outputs": [
    {
     "name": "stdout",
     "output_type": "stream",
     "text": [
      "0 56132\n",
      "1 8321\n",
      "2 20000\n",
      "3 50000\n",
      "4 114853\n",
      "5 140432\n",
      "6 78589\n",
      "7 8258\n",
      "8 8097\n",
      "9 3028\n",
      "10 2599\n",
      "11 13514\n",
      "12 129066\n",
      "13 18115\n",
      "14 6040\n",
      "15 6439\n",
      "16 86426\n",
      "17 10753\n",
      "18 42934\n",
      "19 42726\n",
      "20 44128\n",
      "21 11032\n",
      "22 44128\n",
      "23 44128\n",
      "24 24741\n",
      "25 16494\n",
      "26 16494\n",
      "27 28812\n",
      "28 14406\n",
      "29 14406\n",
      "30 22068\n",
      "31 22068\n",
      "32 60000\n",
      "33 50000\n",
      "34 11405\n",
      "35 6000\n",
      "36 11171\n",
      "37 7348\n"
     ]
    },
    {
     "data": {
      "text/plain": [
       "(1294946, 164)"
      ]
     },
     "execution_count": 70,
     "metadata": {},
     "output_type": "execute_result"
    }
   ],
   "source": [
    "combine = []\n",
    "errors = []\n",
    "for n in range(len(gathered)):\n",
    "    print(n, len(gathered[n]))\n",
    "    for k in range(len(gathered[n])):\n",
    "        c = gathered[n][k]\n",
    "        try:\n",
    "            success = 0\n",
    "            for i in range(len(c)):\n",
    "                if len(c[i]['content']) < 1:\n",
    "                    break\n",
    "                c[i]['content'] = c[i]['content'].replace(' Anda ', ' anda ')\n",
    "                success += 1\n",
    "\n",
    "            if success == len(c):\n",
    "                combine.append(c)\n",
    "        except Exception as e:\n",
    "            errors.append(c)\n",
    "            continue\n",
    "            \n",
    "len(combine), len(errors)"
   ]
  },
  {
   "cell_type": "code",
   "execution_count": 71,
   "id": "7ac8ad49",
   "metadata": {},
   "outputs": [],
   "source": [
    "with open('combined-malaysian-sft.jsonl', 'w') as fopen:\n",
    "    for c in combine:\n",
    "        fopen.write(f'{json.dumps(c)}\\n')\n",
    "        fopen.flush()"
   ]
  },
  {
   "cell_type": "code",
   "execution_count": 72,
   "id": "4f59c075",
   "metadata": {},
   "outputs": [],
   "source": [
    "from huggingface_hub import HfApi\n",
    "api = HfApi()"
   ]
  },
  {
   "cell_type": "code",
   "execution_count": 73,
   "id": "2c85c0aa",
   "metadata": {
    "scrolled": true
   },
   "outputs": [
    {
     "data": {
      "application/vnd.jupyter.widget-view+json": {
       "model_id": "3d39c8b07c7143f88b2f8b3ed9da0f3f",
       "version_major": 2,
       "version_minor": 0
      },
      "text/plain": [
       "combined-malaysian-sft.jsonl:   0%|          | 0.00/5.05G [00:00<?, ?B/s]"
      ]
     },
     "metadata": {},
     "output_type": "display_data"
    },
    {
     "data": {
      "text/plain": [
       "CommitInfo(commit_url='https://huggingface.co/datasets/mesolitica/Malaysian-SFT/commit/504767c02d4ecc12b2fa8266d121b3ec7d6f3c8f', commit_message='Upload combine/combined-malaysian-sft.jsonl with huggingface_hub', commit_description='', oid='504767c02d4ecc12b2fa8266d121b3ec7d6f3c8f', pr_url=None, repo_url=RepoUrl('https://huggingface.co/datasets/mesolitica/Malaysian-SFT', endpoint='https://huggingface.co', repo_type='dataset', repo_id='mesolitica/Malaysian-SFT'), pr_revision=None, pr_num=None)"
      ]
     },
     "execution_count": 73,
     "metadata": {},
     "output_type": "execute_result"
    }
   ],
   "source": [
    "api.upload_file(\n",
    "    path_or_fileobj=\"combined-malaysian-sft.jsonl\",\n",
    "    path_in_repo=\"combine/combined-malaysian-sft.jsonl\",\n",
    "    repo_id=\"mesolitica/Malaysian-SFT\",\n",
    "    repo_type=\"dataset\",\n",
    ")"
   ]
  },
  {
   "cell_type": "code",
   "execution_count": 74,
   "id": "27ae3e80",
   "metadata": {
    "scrolled": true
   },
   "outputs": [
    {
     "name": "stdout",
     "output_type": "stream",
     "text": [
      "0 56132\n",
      "1 8321\n",
      "2 20000\n",
      "3 50000\n",
      "4 114853\n",
      "5 140432\n",
      "6 78589\n",
      "7 8258\n",
      "8 8097\n",
      "9 3028\n",
      "10 2599\n",
      "11 60000\n",
      "12 50000\n",
      "13 11405\n",
      "14 6000\n",
      "15 11171\n",
      "16 7348\n"
     ]
    },
    {
     "data": {
      "text/plain": [
       "(739348, 164)"
      ]
     },
     "execution_count": 74,
     "metadata": {},
     "output_type": "execute_result"
    }
   ],
   "source": [
    "import copy\n",
    "\n",
    "gathered = [\n",
    "    camel_instruct,\n",
    "    peribahasa_instruct,\n",
    "    jawi_translation_instruct,\n",
    "    jawi_instructions,\n",
    "    code,\n",
    "    filter_ultrachat,\n",
    "    social_media,\n",
    "    nonbumi,\n",
    "    azril,\n",
    "    ayat_aktif,\n",
    "    safe_respond,\n",
    "]\n",
    "\n",
    "lists = [\n",
    "    kamus_instructions,\n",
    "    dialect_instructions,\n",
    "    filtered_instructions,\n",
    "    force_jawi,\n",
    "    force_manglish,\n",
    "]\n",
    "        \n",
    "for k in force.keys():\n",
    "    gathered.append(force[k])\n",
    "\n",
    "combine = []\n",
    "errors = []\n",
    "for n in range(len(gathered)):\n",
    "    print(n, len(gathered[n]))\n",
    "    g = copy.deepcopy(gathered[n])\n",
    "    if len(g) > 5000:\n",
    "        g = random.sample(g, 5000)\n",
    "    for k in range(len(g)):\n",
    "        c = g[k]\n",
    "        try:\n",
    "            success = 0\n",
    "            for i in range(len(c)):\n",
    "                if len(c[i]['content']) < 1:\n",
    "                    break\n",
    "                c[i]['content'] = c[i]['content'].replace(' Anda ', ' anda ')\n",
    "                for r in remove:\n",
    "                    c[i]['content'] = c[i]['content'].replace(r, '').strip()\n",
    "                success += 1\n",
    "\n",
    "            if success == len(c):\n",
    "                combine.append(c)\n",
    "        except Exception as e:\n",
    "            errors.append(c)\n",
    "            continue\n",
    "            \n",
    "for i in range(len(lists)):\n",
    "    for g in lists[i].values():\n",
    "        for k in range(len(g)):\n",
    "            c = g[k]\n",
    "            try:\n",
    "                success = 0\n",
    "                for i in range(len(c)):\n",
    "                    if len(c[i]['content']) < 1:\n",
    "                        break\n",
    "                    c[i]['content'] = c[i]['content'].replace(' Anda ', ' anda ')\n",
    "                    for r in remove:\n",
    "                        c[i]['content'] = c[i]['content'].replace(r, '').strip()\n",
    "                    success += 1\n",
    "\n",
    "                if success == len(c):\n",
    "                    combine.append(c)\n",
    "            except Exception as e:\n",
    "                errors.append(c)\n",
    "                continue\n",
    "            \n",
    "len(combine), len(errors)"
   ]
  },
  {
   "cell_type": "code",
   "execution_count": 75,
   "id": "74f651f4",
   "metadata": {},
   "outputs": [
    {
     "data": {
      "text/plain": [
       "[{'role': 'user',\n",
       "  'content': 'convert,\\n```\\nHello! The answer to your question is four. Two plus two is a basic arithmetic operation that always equals four. Is there anything else you would like to know about mathematics?\\n```\\n\\nto manglish'},\n",
       " {'role': 'assistant',\n",
       "  'content': 'Wah lao eh! Answer to your question is four lah. Two plus two very simple one, always get four one. You want know anything else about math or not? Can ask me, I tell you.'}]"
      ]
     },
     "execution_count": 75,
     "metadata": {},
     "output_type": "execute_result"
    }
   ],
   "source": [
    "combine[-10000]"
   ]
  },
  {
   "cell_type": "code",
   "execution_count": 76,
   "id": "2c2ed38e",
   "metadata": {},
   "outputs": [],
   "source": [
    "with open('combined-malaysian-sft-5k-sample.jsonl', 'w') as fopen:\n",
    "    for c in combine:\n",
    "        fopen.write(f'{json.dumps(c)}\\n')\n",
    "        fopen.flush()"
   ]
  },
  {
   "cell_type": "code",
   "execution_count": 77,
   "id": "57af518c",
   "metadata": {},
   "outputs": [
    {
     "data": {
      "application/vnd.jupyter.widget-view+json": {
       "model_id": "18ee124cc3f740d88c6a6fe3bf8bdaf2",
       "version_major": 2,
       "version_minor": 0
      },
      "text/plain": [
       "combined-malaysian-sft-5k-sample.jsonl:   0%|          | 0.00/2.02G [00:00<?, ?B/s]"
      ]
     },
     "metadata": {},
     "output_type": "display_data"
    },
    {
     "data": {
      "text/plain": [
       "CommitInfo(commit_url='https://huggingface.co/datasets/mesolitica/Malaysian-SFT/commit/c02461ad08bcda1c54e243f34d3cd6ad90e32a00', commit_message='Upload combine/combined-malaysian-sft-5k-sample.jsonl with huggingface_hub', commit_description='', oid='c02461ad08bcda1c54e243f34d3cd6ad90e32a00', pr_url=None, repo_url=RepoUrl('https://huggingface.co/datasets/mesolitica/Malaysian-SFT', endpoint='https://huggingface.co', repo_type='dataset', repo_id='mesolitica/Malaysian-SFT'), pr_revision=None, pr_num=None)"
      ]
     },
     "execution_count": 77,
     "metadata": {},
     "output_type": "execute_result"
    }
   ],
   "source": [
    "api.upload_file(\n",
    "    path_or_fileobj=\"combined-malaysian-sft-5k-sample.jsonl\",\n",
    "    path_in_repo=\"combine/combined-malaysian-sft-5k-sample.jsonl\",\n",
    "    repo_id=\"mesolitica/Malaysian-SFT\",\n",
    "    repo_type=\"dataset\",\n",
    ")"
   ]
  },
  {
   "cell_type": "code",
   "execution_count": 78,
   "id": "4723fdc3",
   "metadata": {},
   "outputs": [
    {
     "name": "stdout",
     "output_type": "stream",
     "text": [
      "0 56132\n",
      "1 8321\n",
      "2 20000\n",
      "3 50000\n",
      "4 114853\n",
      "5 140432\n",
      "6 78589\n",
      "7 8258\n",
      "8 8097\n",
      "9 3028\n",
      "10 2599\n",
      "11 60000\n",
      "12 50000\n",
      "13 11405\n",
      "14 6000\n",
      "15 11171\n",
      "16 7348\n"
     ]
    },
    {
     "data": {
      "text/plain": [
       "(802373, 164)"
      ]
     },
     "execution_count": 78,
     "metadata": {},
     "output_type": "execute_result"
    }
   ],
   "source": [
    "import copy\n",
    "\n",
    "gathered = [\n",
    "    camel_instruct,\n",
    "    peribahasa_instruct,\n",
    "    jawi_translation_instruct,\n",
    "    jawi_instructions,\n",
    "    code,\n",
    "    filter_ultrachat,\n",
    "    social_media,\n",
    "    nonbumi,\n",
    "    azril,\n",
    "    ayat_aktif,\n",
    "    safe_respond,\n",
    "]\n",
    "\n",
    "lists = [\n",
    "    kamus_instructions,\n",
    "    dialect_instructions,\n",
    "    filtered_instructions,\n",
    "    force_jawi,\n",
    "    force_manglish,\n",
    "]\n",
    "        \n",
    "for k in force.keys():\n",
    "    gathered.append(force[k])\n",
    "\n",
    "combine = []\n",
    "errors = []\n",
    "for n in range(len(gathered)):\n",
    "    print(n, len(gathered[n]))\n",
    "    g = copy.deepcopy(gathered[n])\n",
    "    if len(g) > 10000:\n",
    "        g = random.sample(g, 10000)\n",
    "    for k in range(len(g)):\n",
    "        c = g[k]\n",
    "        try:\n",
    "            success = 0\n",
    "            for i in range(len(c)):\n",
    "                if len(c[i]['content']) < 1:\n",
    "                    break\n",
    "                c[i]['content'] = c[i]['content'].replace(' Anda ', ' anda ')\n",
    "                for r in remove:\n",
    "                    c[i]['content'] = c[i]['content'].replace(r, '').strip()\n",
    "                success += 1\n",
    "\n",
    "            if success == len(c):\n",
    "                combine.append(c)\n",
    "        except Exception as e:\n",
    "            errors.append(c)\n",
    "            continue\n",
    "            \n",
    "for i in range(len(lists)):\n",
    "    for g in lists[i].values():\n",
    "        for k in range(len(g)):\n",
    "            c = g[k]\n",
    "            try:\n",
    "                success = 0\n",
    "                for i in range(len(c)):\n",
    "                    if len(c[i]['content']) < 1:\n",
    "                        break\n",
    "                    c[i]['content'] = c[i]['content'].replace(' Anda ', ' anda ')\n",
    "                    for r in remove:\n",
    "                        c[i]['content'] = c[i]['content'].replace(r, '').strip()\n",
    "                    success += 1\n",
    "\n",
    "                if success == len(c):\n",
    "                    combine.append(c)\n",
    "            except Exception as e:\n",
    "                errors.append(c)\n",
    "                continue\n",
    "            \n",
    "len(combine), len(errors)"
   ]
  },
  {
   "cell_type": "code",
   "execution_count": 79,
   "id": "2d904502",
   "metadata": {},
   "outputs": [],
   "source": [
    "with open('combined-malaysian-sft-10k-sample.jsonl', 'w') as fopen:\n",
    "    for c in combine:\n",
    "        fopen.write(f'{json.dumps(c)}\\n')\n",
    "        fopen.flush()"
   ]
  },
  {
   "cell_type": "code",
   "execution_count": 80,
   "id": "915d6135",
   "metadata": {},
   "outputs": [
    {
     "data": {
      "application/vnd.jupyter.widget-view+json": {
       "model_id": "cf6534b67cab47198b134a4afed45350",
       "version_major": 2,
       "version_minor": 0
      },
      "text/plain": [
       "combined-malaysian-sft-10k-sample.jsonl:   0%|          | 0.00/2.34G [00:00<?, ?B/s]"
      ]
     },
     "metadata": {},
     "output_type": "display_data"
    },
    {
     "data": {
      "text/plain": [
       "CommitInfo(commit_url='https://huggingface.co/datasets/mesolitica/Malaysian-SFT/commit/0be17c134a98ef17ad7bcad7969411edc89705c5', commit_message='Upload combine/combined-malaysian-sft-10k-sample.jsonl with huggingface_hub', commit_description='', oid='0be17c134a98ef17ad7bcad7969411edc89705c5', pr_url=None, repo_url=RepoUrl('https://huggingface.co/datasets/mesolitica/Malaysian-SFT', endpoint='https://huggingface.co', repo_type='dataset', repo_id='mesolitica/Malaysian-SFT'), pr_revision=None, pr_num=None)"
      ]
     },
     "execution_count": 80,
     "metadata": {},
     "output_type": "execute_result"
    }
   ],
   "source": [
    "api.upload_file(\n",
    "    path_or_fileobj=\"combined-malaysian-sft-10k-sample.jsonl\",\n",
    "    path_in_repo=\"combine/combined-malaysian-sft-10k-sample.jsonl\",\n",
    "    repo_id=\"mesolitica/Malaysian-SFT\",\n",
    "    repo_type=\"dataset\",\n",
    ")"
   ]
  },
  {
   "cell_type": "code",
   "execution_count": 87,
   "id": "58cb389b",
   "metadata": {},
   "outputs": [
    {
     "name": "stdout",
     "output_type": "stream",
     "text": [
      "0 56132\n",
      "1 8321\n",
      "2 20000\n",
      "3 50000\n",
      "4 114853\n",
      "5 140432\n",
      "6 78589\n",
      "7 8258\n",
      "8 8097\n",
      "9 3028\n",
      "10 2599\n",
      "11 60000\n",
      "12 50000\n",
      "13 11405\n",
      "14 6000\n",
      "15 11171\n",
      "16 7348\n"
     ]
    },
    {
     "data": {
      "text/plain": [
       "(884949, 164)"
      ]
     },
     "execution_count": 87,
     "metadata": {},
     "output_type": "execute_result"
    }
   ],
   "source": [
    "import copy\n",
    "\n",
    "gathered = [\n",
    "    camel_instruct,\n",
    "    peribahasa_instruct,\n",
    "    jawi_translation_instruct,\n",
    "    jawi_instructions,\n",
    "    code,\n",
    "    filter_ultrachat,\n",
    "    social_media,\n",
    "    nonbumi,\n",
    "    azril,\n",
    "    ayat_aktif,\n",
    "    safe_respond,\n",
    "]\n",
    "\n",
    "lists = [\n",
    "    kamus_instructions,\n",
    "    dialect_instructions,\n",
    "    filtered_instructions,\n",
    "    force_jawi,\n",
    "    force_manglish,\n",
    "]\n",
    "        \n",
    "for k in force.keys():\n",
    "    gathered.append(force[k])\n",
    "\n",
    "combine = []\n",
    "errors = []\n",
    "for n in range(len(gathered)):\n",
    "    print(n, len(gathered[n]))\n",
    "    g = copy.deepcopy(gathered[n])\n",
    "    if len(g) > 20000:\n",
    "        g = random.sample(g, 20000)\n",
    "    for k in range(len(g)):\n",
    "        c = g[k]\n",
    "        try:\n",
    "            success = 0\n",
    "            for i in range(len(c)):\n",
    "                if len(c[i]['content']) < 1:\n",
    "                    break\n",
    "                c[i]['content'] = c[i]['content'].replace(' Anda ', ' anda ')\n",
    "                for r in remove:\n",
    "                    c[i]['content'] = c[i]['content'].replace(r, '').strip()\n",
    "                success += 1\n",
    "\n",
    "            if success == len(c):\n",
    "                combine.append(c)\n",
    "        except Exception as e:\n",
    "            errors.append(c)\n",
    "            continue\n",
    "            \n",
    "for i in range(len(lists)):\n",
    "    for g in lists[i].values():\n",
    "        for k in range(len(g)):\n",
    "            c = g[k]\n",
    "            try:\n",
    "                success = 0\n",
    "                for i in range(len(c)):\n",
    "                    if len(c[i]['content']) < 1:\n",
    "                        break\n",
    "                    c[i]['content'] = c[i]['content'].replace(' Anda ', ' anda ')\n",
    "                    for r in remove:\n",
    "                        c[i]['content'] = c[i]['content'].replace(r, '').strip()\n",
    "                    success += 1\n",
    "\n",
    "                if success == len(c):\n",
    "                    combine.append(c)\n",
    "            except Exception as e:\n",
    "                errors.append(c)\n",
    "                continue\n",
    "            \n",
    "len(combine), len(errors)"
   ]
  },
  {
   "cell_type": "code",
   "execution_count": 88,
   "id": "06850273",
   "metadata": {},
   "outputs": [],
   "source": [
    "with open('combined-malaysian-sft-20k-sample.jsonl', 'w') as fopen:\n",
    "    for c in combine:\n",
    "        fopen.write(f'{json.dumps(c)}\\n')\n",
    "        fopen.flush()"
   ]
  },
  {
   "cell_type": "code",
   "execution_count": null,
   "id": "6359a3ba",
   "metadata": {},
   "outputs": [
    {
     "data": {
      "application/vnd.jupyter.widget-view+json": {
       "model_id": "ae065d05f839421488e3111986c563bc",
       "version_major": 2,
       "version_minor": 0
      },
      "text/plain": [
       "combined-malaysian-sft-20k-sample.jsonl:   0%|          | 0.00/2.85G [00:00<?, ?B/s]"
      ]
     },
     "metadata": {},
     "output_type": "display_data"
    }
   ],
   "source": [
    "api.upload_file(\n",
    "    path_or_fileobj=\"combined-malaysian-sft-20k-sample.jsonl\",\n",
    "    path_in_repo=\"combine/combined-malaysian-sft-20k-sample.jsonl\",\n",
    "    repo_id=\"mesolitica/Malaysian-SFT\",\n",
    "    repo_type=\"dataset\",\n",
    ")"
   ]
  },
  {
   "cell_type": "code",
   "execution_count": 84,
   "id": "399f3e1d",
   "metadata": {},
   "outputs": [
    {
     "name": "stdout",
     "output_type": "stream",
     "text": [
      "0 56132\n",
      "1 8321\n",
      "2 20000\n",
      "3 50000\n",
      "4 114853\n",
      "5 140432\n",
      "6 78589\n",
      "7 8258\n",
      "8 8097\n",
      "9 3028\n",
      "10 2599\n",
      "11 13514\n",
      "12 129066\n",
      "13 18115\n",
      "14 6040\n",
      "15 6439\n",
      "16 86426\n",
      "17 10753\n",
      "18 42934\n",
      "19 42726\n",
      "20 44128\n",
      "21 11032\n",
      "22 44128\n",
      "23 44128\n",
      "24 24741\n",
      "25 16494\n",
      "26 16494\n",
      "27 28812\n",
      "28 14406\n",
      "29 14406\n",
      "30 22068\n",
      "31 22068\n",
      "32 60000\n",
      "33 50000\n",
      "34 11405\n",
      "35 6000\n",
      "36 11171\n",
      "37 7348\n"
     ]
    },
    {
     "data": {
      "text/plain": [
       "(1900, 0)"
      ]
     },
     "execution_count": 84,
     "metadata": {},
     "output_type": "execute_result"
    }
   ],
   "source": [
    "import copy\n",
    "\n",
    "gathered = [\n",
    "    camel_instruct,\n",
    "    peribahasa_instruct,\n",
    "    jawi_translation_instruct,\n",
    "    jawi_instructions,\n",
    "    code,\n",
    "    filter_ultrachat,\n",
    "    social_media,\n",
    "    nonbumi,\n",
    "    azril,\n",
    "    ayat_aktif,\n",
    "    safe_respond,\n",
    "]\n",
    "\n",
    "lists = [\n",
    "    kamus_instructions,\n",
    "    dialect_instructions,\n",
    "    filtered_instructions,\n",
    "    force_jawi,\n",
    "    force_manglish,\n",
    "]\n",
    "\n",
    "for i in range(len(lists)):\n",
    "    for v in lists[i].values():\n",
    "        gathered.append(v)\n",
    "        \n",
    "for k in force.keys():\n",
    "    gathered.append(force[k])\n",
    "\n",
    "combine = []\n",
    "errors = []\n",
    "for n in range(len(gathered)):\n",
    "    print(n, len(gathered[n]))\n",
    "    g = copy.deepcopy(gathered[n])\n",
    "    if len(g) > 50:\n",
    "        g = random.sample(g, 50)\n",
    "    for k in range(len(g)):\n",
    "        c = g[k]\n",
    "        try:\n",
    "            success = 0\n",
    "            for i in range(len(c)):\n",
    "                if len(c[i]['content']) < 1:\n",
    "                    break\n",
    "                c[i]['content'] = c[i]['content'].replace(' Anda ', ' anda ')\n",
    "                success += 1\n",
    "\n",
    "            if success == len(c):\n",
    "                combine.append(c)\n",
    "        except Exception as e:\n",
    "            errors.append(c)\n",
    "            continue\n",
    "            \n",
    "len(combine), len(errors)"
   ]
  },
  {
   "cell_type": "code",
   "execution_count": 85,
   "id": "7fad5415",
   "metadata": {},
   "outputs": [],
   "source": [
    "with open('combined-malaysian-sft-50-sample-all.jsonl', 'w') as fopen:\n",
    "    for c in combine:\n",
    "        fopen.write(f'{json.dumps(c)}\\n')\n",
    "        fopen.flush()"
   ]
  },
  {
   "cell_type": "code",
   "execution_count": 86,
   "id": "fde09366",
   "metadata": {},
   "outputs": [
    {
     "data": {
      "text/plain": [
       "CommitInfo(commit_url='https://huggingface.co/datasets/mesolitica/Malaysian-SFT/commit/c70f2c5409924cc2dc311126280b3ab87c14f84e', commit_message='Upload combine/combined-malaysian-sft-50-sample-all.jsonl with huggingface_hub', commit_description='', oid='c70f2c5409924cc2dc311126280b3ab87c14f84e', pr_url=None, repo_url=RepoUrl('https://huggingface.co/datasets/mesolitica/Malaysian-SFT', endpoint='https://huggingface.co', repo_type='dataset', repo_id='mesolitica/Malaysian-SFT'), pr_revision=None, pr_num=None)"
      ]
     },
     "execution_count": 86,
     "metadata": {},
     "output_type": "execute_result"
    }
   ],
   "source": [
    "api.upload_file(\n",
    "    path_or_fileobj=\"combined-malaysian-sft-50-sample-all.jsonl\",\n",
    "    path_in_repo=\"combine/combined-malaysian-sft-50-sample-all.jsonl\",\n",
    "    repo_id=\"mesolitica/Malaysian-SFT\",\n",
    "    repo_type=\"dataset\",\n",
    ")"
   ]
  },
  {
   "cell_type": "code",
   "execution_count": null,
   "id": "f40d91f9",
   "metadata": {},
   "outputs": [],
   "source": []
  }
 ],
 "metadata": {
  "kernelspec": {
   "display_name": "python3.10",
   "language": "python",
   "name": "python3.10"
  },
  "language_info": {
   "codemirror_mode": {
    "name": "ipython",
    "version": 3
   },
   "file_extension": ".py",
   "mimetype": "text/x-python",
   "name": "python",
   "nbconvert_exporter": "python",
   "pygments_lexer": "ipython3",
   "version": "3.10.15"
  }
 },
 "nbformat": 4,
 "nbformat_minor": 5
}
