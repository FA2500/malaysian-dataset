{
 "cells": [
  {
   "cell_type": "code",
   "execution_count": 1,
   "id": "6428e81f",
   "metadata": {},
   "outputs": [],
   "source": [
    "import json\n",
    "import os\n",
    "import mp\n",
    "import numpy as np\n",
    "from collections import defaultdict\n",
    "from glob import glob\n",
    "from tqdm import tqdm\n",
    "import soundfile as sf\n",
    "import re\n",
    "\n",
    "timestamps = [i * 0.02 for i in range(1500 + 1)]"
   ]
  },
  {
   "cell_type": "code",
   "execution_count": 2,
   "id": "de0da29a",
   "metadata": {},
   "outputs": [],
   "source": [
    "from huggingface_hub import hf_hub_download\n",
    "import fasttext\n",
    "\n",
    "filename = hf_hub_download(\n",
    "    repo_id=\"mesolitica/fasttext-language-detection-bahasa-en\", \n",
    "    filename=\"fasttext.ftz\"\n",
    ")\n",
    "lang_model = fasttext.load_model(filename)"
   ]
  },
  {
   "cell_type": "code",
   "execution_count": 3,
   "id": "68fa4d07",
   "metadata": {},
   "outputs": [],
   "source": [
    "def chunk(alignment, reject = -8, minimum_length = 1.0):\n",
    "    alls, temp = [], []\n",
    "    for a in alignment:\n",
    "        if a['score'] <= reject:\n",
    "            if len(temp):\n",
    "                temp[-1]['end'] = a['start']\n",
    "                if (temp[-1]['end'] - temp[0]['start']) >= minimum_length:\n",
    "                    alls.append(temp)\n",
    "                temp = []\n",
    "        else:\n",
    "            temp.append(a)\n",
    "            \n",
    "    if len(temp):\n",
    "        if (temp[-1]['end'] - temp[0]['start']) >= minimum_length:\n",
    "            alls.append(temp)\n",
    "    return alls"
   ]
  },
  {
   "cell_type": "code",
   "execution_count": 4,
   "id": "5ca8d308",
   "metadata": {},
   "outputs": [
    {
     "name": "stderr",
     "output_type": "stream",
     "text": [
      "1089630it [00:03, 309539.74it/s]\n"
     ]
    },
    {
     "data": {
      "text/plain": [
       "882371"
      ]
     },
     "execution_count": 4,
     "metadata": {},
     "output_type": "execute_result"
    }
   ],
   "source": [
    "data = defaultdict(list)\n",
    "with open('prepared-pseudolabel-malaya.jsonl') as fopen:\n",
    "    for no, l in tqdm(enumerate(fopen)):\n",
    "        l = json.loads(l)\n",
    "        data[l['audio_filename']].append((no, l))\n",
    "        \n",
    "len(data)"
   ]
  },
  {
   "cell_type": "code",
   "execution_count": 5,
   "id": "22ff0b94",
   "metadata": {},
   "outputs": [
    {
     "data": {
      "text/plain": [
       "882371"
      ]
     },
     "execution_count": 5,
     "metadata": {},
     "output_type": "execute_result"
    }
   ],
   "source": [
    "rows = list(data.values())\n",
    "len(rows)"
   ]
  },
  {
   "cell_type": "code",
   "execution_count": 7,
   "id": "d3633b01",
   "metadata": {},
   "outputs": [
    {
     "name": "stdout",
     "output_type": "stream",
     "text": [
      "mkdir: cannot create directory ‘prepared-pseudolabel-malaya-chunks’: File exists\r\n"
     ]
    }
   ],
   "source": [
    "# !rm -rf prepared-pseudolabel-malaya-chunks\n",
    "!mkdir prepared-pseudolabel-malaya-chunks"
   ]
  },
  {
   "cell_type": "code",
   "execution_count": 8,
   "id": "8b6107ec",
   "metadata": {},
   "outputs": [],
   "source": [
    "def loop(data):\n",
    "    data, _ = data\n",
    "    new_data = []\n",
    "    for d in tqdm(data):\n",
    "        \n",
    "        aligns, scores = [], []\n",
    "        for i in d:\n",
    "            f = f'prepared-pseudolabel-malaya_alignment/{i[0]}.alignment'\n",
    "            try:\n",
    "                with open(f) as fopen:\n",
    "                    align = json.load(fopen)\n",
    "                    score = np.sum([s['score'] for s in align])\n",
    "                    aligns.append(align)\n",
    "                    scores.append(score)\n",
    "            except:\n",
    "                aligns.append([])\n",
    "                scores.append(-9999)\n",
    "\n",
    "        argmax = np.argmax(scores)\n",
    "        no = d[argmax][0]\n",
    "        text = d[argmax][1]['new_text']\n",
    "        lang = text.split('<|startoftranscript|><|')[1].split('|')[0]\n",
    "        cleaned_text = re.sub(r\"<\\|.*?\\|>\", \"\", text).strip()\n",
    "        if lang_model.predict(cleaned_text)[0][0] == '__label__english':\n",
    "            predict_lang = 'en'\n",
    "        else:\n",
    "            predict_lang = 'ms'\n",
    "        \n",
    "        chunks = chunk(aligns[argmax])\n",
    "        audio_filename = d[argmax][1]['audio_filename']\n",
    "        if len(chunks):\n",
    "            y, sr = sf.read(audio_filename)\n",
    "            for k, c in enumerate(chunks):\n",
    "                \n",
    "                skip = False\n",
    "                for c_ in c:\n",
    "                    if (c_['end'] - c_['start']) > 2:\n",
    "                        skip = True\n",
    "                        break\n",
    "                if skip:\n",
    "                    continue\n",
    "                    \n",
    "                new_f = os.path.join('prepared-pseudolabel-malaya-chunks', f'{no}-{k}.mp3')\n",
    "                if not os.path.exists(new_f):\n",
    "                    sf.write(new_f, y[int(sr * c[0]['start']): int(sr * c[-1]['end'])], sr)\n",
    "                ts = []\n",
    "                \n",
    "                min_t = min([c_['start'] for c_ in c])\n",
    "                \n",
    "                for c_ in c:\n",
    "                    start = min(timestamps, key=lambda t: abs(t - (c_['start'] - min_t)))\n",
    "                    end = min(timestamps, key=lambda t: abs(t - (c_['end'] - min_t)))\n",
    "                    w = c_['text']\n",
    "                    t = f\"<|{start:.2f}|> {w}<|{end:.2f}|>\"\n",
    "                    ts.append(t)\n",
    "                ts = ''.join(ts)\n",
    "                new_text = text = f\"<|startoftranscript|><|{predict_lang}|><|transcribeprecise|>{ts}<|endoftext|>\"\n",
    "                new_data.append({\n",
    "                    'audio_filename': new_f,\n",
    "                    'new_text': new_text,\n",
    "                })\n",
    "                \n",
    "    return new_data"
   ]
  },
  {
   "cell_type": "code",
   "execution_count": 9,
   "id": "5e92c2e7",
   "metadata": {},
   "outputs": [],
   "source": [
    "# r = loop((rows[:100], 0))\n",
    "# len(r)"
   ]
  },
  {
   "cell_type": "code",
   "execution_count": 10,
   "id": "4c85b5f0",
   "metadata": {},
   "outputs": [
    {
     "name": "stderr",
     "output_type": "stream",
     "text": [
      "100%|██████████████████████████████████████████████████████████████████████████████████| 88237/88237 [12:32<00:00, 117.32it/s]\n",
      "100%|██████████████████████████████████████████████████████████████████████████████████| 88237/88237 [12:28<00:00, 117.90it/s]\n",
      "100%|█████████████████████████████████████████████████████████████████████████████████████████| 1/1 [00:00<00:00, 3927.25it/s]\n",
      "100%|██████████████████████████████████████████████████████████████████████████████████| 88237/88237 [12:32<00:00, 117.23it/s]\n",
      "100%|██████████████████████████████████████████████████████████████████████████████████| 88237/88237 [12:27<00:00, 117.98it/s]\n",
      "100%|██████████████████████████████████████████████████████████████████████████████████| 88237/88237 [12:32<00:00, 117.27it/s]\n",
      "100%|██████████████████████████████████████████████████████████████████████████████████| 88237/88237 [12:36<00:00, 116.65it/s]\n",
      "100%|██████████████████████████████████████████████████████████████████████████████████| 88237/88237 [12:32<00:00, 117.20it/s]\n",
      "100%|██████████████████████████████████████████████████████████████████████████████████| 88237/88237 [12:28<00:00, 117.82it/s]\n",
      "100%|██████████████████████████████████████████████████████████████████████████████████| 88237/88237 [12:33<00:00, 117.14it/s]\n",
      "100%|██████████████████████████████████████████████████████████████████████████████████| 88237/88237 [12:29<00:00, 117.75it/s]\n"
     ]
    }
   ],
   "source": [
    "r = mp.multiprocessing(rows, loop, cores = 10)"
   ]
  },
  {
   "cell_type": "code",
   "execution_count": 11,
   "id": "cc70e5ba",
   "metadata": {},
   "outputs": [
    {
     "data": {
      "text/plain": [
       "782959"
      ]
     },
     "execution_count": 11,
     "metadata": {},
     "output_type": "execute_result"
    }
   ],
   "source": [
    "len(r)"
   ]
  },
  {
   "cell_type": "code",
   "execution_count": 15,
   "id": "c2fb575d",
   "metadata": {
    "scrolled": true
   },
   "outputs": [
    {
     "data": {
      "text/plain": [
       "{'audio_filename': 'prepared-pseudolabel-malaya-chunks/1089612-0.mp3',\n",
       " 'new_text': '<|startoftranscript|><|ms|><|transcribeprecise|><|0.00|> Apa<|0.14|><|0.24|> kata<|0.42|><|0.54|> Said<|0.72|><|0.84|> Qutub<|1.10|><|1.20|> dalam<|1.40|><|1.48|> mukaddimahnya?<|2.30|><|2.80|> Al-hayatu<|3.54|><|3.68|> fi<|3.76|><|3.92|> zilalil<|4.50|><|endoftext|>'}"
      ]
     },
     "execution_count": 15,
     "metadata": {},
     "output_type": "execute_result"
    }
   ],
   "source": [
    "r[-12]"
   ]
  },
  {
   "cell_type": "code",
   "execution_count": 16,
   "id": "29657a14",
   "metadata": {},
   "outputs": [
    {
     "data": {
      "text/html": [
       "\n",
       "                <audio  controls=\"controls\" >\n",
       "                    <source src=\"data:audio/mpeg;base64,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\" type=\"audio/mpeg\" />\n",
       "                    Your browser does not support the audio element.\n",
       "                </audio>\n",
       "              "
      ],
      "text/plain": [
       "<IPython.lib.display.Audio object>"
      ]
     },
     "execution_count": 16,
     "metadata": {},
     "output_type": "execute_result"
    }
   ],
   "source": [
    "import IPython.display as ipd\n",
    "ipd.Audio(r[-12]['audio_filename'])"
   ]
  },
  {
   "cell_type": "code",
   "execution_count": 17,
   "id": "c4987fd4",
   "metadata": {},
   "outputs": [],
   "source": [
    "with open('pseudolabel-malaya-whisper-word-timestamp.jsonl', 'w') as fopen:\n",
    "    for r_ in r:\n",
    "        fopen.write(f'{json.dumps(r_)}\\n')\n",
    "        fopen.flush()"
   ]
  },
  {
   "cell_type": "code",
   "execution_count": 18,
   "id": "649ea52f",
   "metadata": {},
   "outputs": [
    {
     "name": "stdout",
     "output_type": "stream",
     "text": [
      "-rw-rw-r-- 1 husein husein 225M Jan   7 19:42 pseudolabel-malaya-whisper-word-timestamp.jsonl\r\n"
     ]
    }
   ],
   "source": [
    "!ls -lh pseudolabel-malaya-whisper-word-timestamp.jsonl"
   ]
  },
  {
   "cell_type": "code",
   "execution_count": 19,
   "id": "2c72b3ad",
   "metadata": {},
   "outputs": [
    {
     "data": {
      "application/vnd.jupyter.widget-view+json": {
       "model_id": "687b716892554d07872b7d045b4338fa",
       "version_major": 2,
       "version_minor": 0
      },
      "text/plain": [
       "pseudolabel-malaya-whisper-word-timestamp.jsonl:   0%|          | 0.00/236M [00:00<?, ?B/s]"
      ]
     },
     "metadata": {},
     "output_type": "display_data"
    },
    {
     "data": {
      "text/plain": [
       "CommitInfo(commit_url='https://huggingface.co/datasets/mesolitica/Malaysian-STT-Whisper/commit/57493cdf69fad13ea9515824246dddb9c700eef7', commit_message='Upload pseudolabel-malaya-whisper-word-timestamp.jsonl with huggingface_hub', commit_description='', oid='57493cdf69fad13ea9515824246dddb9c700eef7', pr_url=None, repo_url=RepoUrl('https://huggingface.co/datasets/mesolitica/Malaysian-STT-Whisper', endpoint='https://huggingface.co', repo_type='dataset', repo_id='mesolitica/Malaysian-STT-Whisper'), pr_revision=None, pr_num=None)"
      ]
     },
     "execution_count": 19,
     "metadata": {},
     "output_type": "execute_result"
    }
   ],
   "source": [
    "from huggingface_hub import HfApi\n",
    "api = HfApi()\n",
    "api.upload_file(\n",
    "    path_or_fileobj=\"pseudolabel-malaya-whisper-word-timestamp.jsonl\",\n",
    "    path_in_repo=\"pseudolabel-malaya-whisper-word-timestamp.jsonl\",\n",
    "    repo_id=\"mesolitica/Malaysian-STT-Whisper\",\n",
    "    repo_type=\"dataset\",\n",
    ")"
   ]
  },
  {
   "cell_type": "code",
   "execution_count": 20,
   "id": "25a9da4c",
   "metadata": {},
   "outputs": [
    {
     "name": "stdout",
     "output_type": "stream",
     "text": [
      "14G\tprepared-pseudolabel-malaya-chunks\r\n"
     ]
    }
   ],
   "source": [
    "!du -hs prepared-pseudolabel-malaya-chunks"
   ]
  },
  {
   "cell_type": "code",
   "execution_count": 22,
   "id": "db3b9c3e",
   "metadata": {},
   "outputs": [],
   "source": [
    "!zip -q -r -s 10000m prepared-pseudolabel-malaya-chunks.zip prepared-pseudolabel-malaya-chunks"
   ]
  },
  {
   "cell_type": "code",
   "execution_count": 27,
   "id": "4ed230e8",
   "metadata": {},
   "outputs": [
    {
     "name": "stdout",
     "output_type": "stream",
     "text": [
      "prepared-pseudolabel-malaya-chunks.zip\n"
     ]
    },
    {
     "data": {
      "application/vnd.jupyter.widget-view+json": {
       "model_id": "72ffa9cffc44424a82401b00e624cbba",
       "version_major": 2,
       "version_minor": 0
      },
      "text/plain": [
       "prepared-pseudolabel-malaya-chunks.zip:   0%|          | 0.00/2.19G [00:00<?, ?B/s]"
      ]
     },
     "metadata": {},
     "output_type": "display_data"
    },
    {
     "name": "stdout",
     "output_type": "stream",
     "text": [
      "prepared-pseudolabel-malaya-chunks.z01\n"
     ]
    },
    {
     "data": {
      "application/vnd.jupyter.widget-view+json": {
       "model_id": "f5f891bbe1c543789bfc7fa754ec4c72",
       "version_major": 2,
       "version_minor": 0
      },
      "text/plain": [
       "prepared-pseudolabel-malaya-chunks.z01:   0%|          | 0.00/10.5G [00:00<?, ?B/s]"
      ]
     },
     "metadata": {},
     "output_type": "display_data"
    }
   ],
   "source": [
    "from huggingface_hub import HfApi\n",
    "api = HfApi()\n",
    "\n",
    "for f in glob('prepared-pseudolabel-malaya-chunks.z*'):\n",
    "    print(f)\n",
    "    api.upload_file(\n",
    "        path_or_fileobj=f,\n",
    "        path_in_repo=f,\n",
    "        repo_id=\"mesolitica/Malaysian-STT-Whisper\",\n",
    "        repo_type=\"dataset\",\n",
    "    )"
   ]
  },
  {
   "cell_type": "code",
   "execution_count": 28,
   "id": "797c4ec3",
   "metadata": {},
   "outputs": [],
   "source": [
    "!rm prepared-pseudolabel-malaya-chunks.z*"
   ]
  }
 ],
 "metadata": {
  "kernelspec": {
   "display_name": "python3.10",
   "language": "python",
   "name": "python3.10"
  },
  "language_info": {
   "codemirror_mode": {
    "name": "ipython",
    "version": 3
   },
   "file_extension": ".py",
   "mimetype": "text/x-python",
   "name": "python",
   "nbconvert_exporter": "python",
   "pygments_lexer": "ipython3",
   "version": "3.10.15"
  }
 },
 "nbformat": 4,
 "nbformat_minor": 5
}
