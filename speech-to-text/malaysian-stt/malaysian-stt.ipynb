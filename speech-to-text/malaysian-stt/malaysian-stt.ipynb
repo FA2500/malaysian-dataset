{
 "cells": [
  {
   "cell_type": "code",
   "execution_count": 13,
   "id": "6d7c33c1",
   "metadata": {},
   "outputs": [],
   "source": [
    "from huggingface_hub import snapshot_download\n",
    "from glob import glob\n",
    "from streaming import MDSWriter, LocalDataset\n",
    "import json\n",
    "import os"
   ]
  },
  {
   "cell_type": "code",
   "execution_count": 2,
   "id": "e3e471ec",
   "metadata": {},
   "outputs": [
    {
     "data": {
      "application/vnd.jupyter.widget-view+json": {
       "model_id": "da546250718249efbd64478095069c9f",
       "version_major": 2,
       "version_minor": 0
      },
      "text/plain": [
       "Fetching 7 files:   0%|          | 0/7 [00:00<?, ?it/s]"
      ]
     },
     "metadata": {},
     "output_type": "display_data"
    },
    {
     "data": {
      "application/vnd.jupyter.widget-view+json": {
       "model_id": "9aad781286e84908991ac0435201e95f",
       "version_major": 2,
       "version_minor": 0
      },
      "text/plain": [
       ".gitattributes:   0%|          | 0.00/2.70k [00:00<?, ?B/s]"
      ]
     },
     "metadata": {},
     "output_type": "display_data"
    },
    {
     "data": {
      "application/vnd.jupyter.widget-view+json": {
       "model_id": "0664746a2bcf4560ab8cf6126a84d05c",
       "version_major": 2,
       "version_minor": 0
      },
      "text/plain": [
       "tamil-stt.jsonl:   0%|          | 0.00/701M [00:00<?, ?B/s]"
      ]
     },
     "metadata": {},
     "output_type": "display_data"
    },
    {
     "data": {
      "application/vnd.jupyter.widget-view+json": {
       "model_id": "f8ed775170384961a8c1d4fc8dc31393",
       "version_major": 2,
       "version_minor": 0
      },
      "text/plain": [
       "science-en-stt.jsonl:   0%|          | 0.00/581M [00:00<?, ?B/s]"
      ]
     },
     "metadata": {},
     "output_type": "display_data"
    },
    {
     "data": {
      "application/vnd.jupyter.widget-view+json": {
       "model_id": "580f0fc4a04842f0bc055df76f660598",
       "version_major": 2,
       "version_minor": 0
      },
      "text/plain": [
       "mandarin-stt.jsonl:   0%|          | 0.00/287M [00:00<?, ?B/s]"
      ]
     },
     "metadata": {},
     "output_type": "display_data"
    },
    {
     "data": {
      "application/vnd.jupyter.widget-view+json": {
       "model_id": "49cf8929cf6b48919b5f384e2d3519b2",
       "version_major": 2,
       "version_minor": 0
      },
      "text/plain": [
       "science-ms-stt.jsonl:   0%|          | 0.00/514M [00:00<?, ?B/s]"
      ]
     },
     "metadata": {},
     "output_type": "display_data"
    },
    {
     "data": {
      "application/vnd.jupyter.widget-view+json": {
       "model_id": "3297c5271e3442f2a688eebd6b590812",
       "version_major": 2,
       "version_minor": 0
      },
      "text/plain": [
       "malaysian-stt.jsonl:   0%|          | 0.00/3.48G [00:00<?, ?B/s]"
      ]
     },
     "metadata": {},
     "output_type": "display_data"
    },
    {
     "data": {
      "application/vnd.jupyter.widget-view+json": {
       "model_id": "5f8810d669294b14906bcea127ae34ac",
       "version_major": 2,
       "version_minor": 0
      },
      "text/plain": [
       "README.md:   0%|          | 0.00/1.25k [00:00<?, ?B/s]"
      ]
     },
     "metadata": {},
     "output_type": "display_data"
    }
   ],
   "source": [
    "while True:\n",
    "    try:\n",
    "        folder = snapshot_download(\n",
    "            repo_id=\"mesolitica/malaysian-stt\", \n",
    "            local_dir = './malaysian-stt',\n",
    "            repo_type = 'dataset',\n",
    "                 max_workers = 10)\n",
    "        break\n",
    "    except Exception as e:\n",
    "        print(e)\n",
    "        pass"
   ]
  },
  {
   "cell_type": "code",
   "execution_count": 4,
   "id": "d2c6120c",
   "metadata": {},
   "outputs": [],
   "source": [
    "# !wget https://huggingface.co/datasets/mesolitica/pseudolabel-imda-large-v3-timestamp/resolve/main/prepared-imda-ms.jsonl\n",
    "# !wget https://huggingface.co/datasets/mesolitica/pseudolabel-imda-large-v3-timestamp/resolve/main/prepared-imda.jsonl"
   ]
  },
  {
   "cell_type": "code",
   "execution_count": 12,
   "id": "b41dd027",
   "metadata": {},
   "outputs": [],
   "source": [
    "# !wget https://huggingface.co/datasets/malaysia-ai/malay-conversational-speech-corpus-whisper-format/resolve/main/malay-conversational-speech-corpus-whisper-format.zip\n",
    "# !wget https://huggingface.co/datasets/malaysia-ai/malay-conversational-speech-corpus-whisper-format/resolve/main/malay-conversational-speech-corpus-whisper-format.json\n",
    "# !unzip malay-conversational-speech-corpus-whisper-format.zip"
   ]
  },
  {
   "cell_type": "code",
   "execution_count": 11,
   "id": "3e979caf",
   "metadata": {},
   "outputs": [
    {
     "data": {
      "text/plain": [
       "{'filename': 'malay-conversational-speech-corpus-whisper-format/0.wav',\n",
       " 'Y': '<|startoftranscript|><|ms|><|transcribe|><|0.00|> hai weh<|1.24|><|endoftext|>'}"
      ]
     },
     "execution_count": 11,
     "metadata": {},
     "output_type": "execute_result"
    }
   ],
   "source": [
    "with open('malay-conversational-speech-corpus-whisper-format.json') as fopen:\n",
    "    malay_conversational = json.load(fopen)\n",
    "    \n",
    "malay_conversational[0]"
   ]
  },
  {
   "cell_type": "code",
   "execution_count": 16,
   "id": "4be2dc41",
   "metadata": {},
   "outputs": [],
   "source": [
    "# !wget https://huggingface.co/datasets/malaysia-ai/iban-whisper-format/resolve/main/iban-wav.zip\n",
    "# !wget https://huggingface.co/datasets/malaysia-ai/iban-whisper-format/resolve/main/iban-dataset.json\n",
    "# !unzip iban-wav.zip"
   ]
  },
  {
   "cell_type": "code",
   "execution_count": 17,
   "id": "97d2446b",
   "metadata": {},
   "outputs": [
    {
     "data": {
      "text/plain": [
       "{'filename': 'iban-wav/ibf_002_001.wav',\n",
       " 'Y': '<|startoftranscript|><|ms|><|transcribe|><|0.00|> Masjid Al-Takwa di Miri udah nerima agih belanja seratus ribu ringgit ari opis Menteri Anegi Teknologi Hijau Enggau Ai kena ngitu pemanah masjid-nya.<|10.58|><|endoftext|>'}"
      ]
     },
     "execution_count": 17,
     "metadata": {},
     "output_type": "execute_result"
    }
   ],
   "source": [
    "with open('iban-dataset.json') as fopen:\n",
    "    iban = json.load(fopen)\n",
    "    \n",
    "iban[0]"
   ]
  },
  {
   "cell_type": "code",
   "execution_count": 19,
   "id": "2cba6389",
   "metadata": {},
   "outputs": [],
   "source": [
    "# !wget https://huggingface.co/datasets/malaysia-ai/scripted-malay-daily-use-speech-corpus-whisper-format/resolve/main/scripted-malay-daily-use-speech-corpus-whisper-format.zip\n",
    "# !wget https://huggingface.co/datasets/malaysia-ai/scripted-malay-daily-use-speech-corpus-whisper-format/resolve/main/scripted-malay-daily-use-speech-corpus-whisper-format.json\n",
    "# !unzip scripted-malay-daily-use-speech-corpus-whisper-format.zip"
   ]
  },
  {
   "cell_type": "code",
   "execution_count": 20,
   "id": "26091dbc",
   "metadata": {},
   "outputs": [
    {
     "data": {
      "text/plain": [
       "{'filename': 'audio-whisper/0.wav',\n",
       " 'Y': '<|startoftranscript|><|ms|><|transcribe|><|0.00|> Dia tidak tahu apa-apa .<|3.56|><|endoftext|>'}"
      ]
     },
     "execution_count": 20,
     "metadata": {},
     "output_type": "execute_result"
    }
   ],
   "source": [
    "with open('scripted-malay-daily-use-speech-corpus-whisper-format.json') as fopen:\n",
    "    scripted_malay = json.load(fopen)\n",
    "scripted_malay[0]"
   ]
  },
  {
   "cell_type": "code",
   "execution_count": 22,
   "id": "3b5997d3",
   "metadata": {},
   "outputs": [],
   "source": [
    "# !wget https://huggingface.co/datasets/malaysia-ai/sarawakmalay-whisper-format/resolve/main/sarawakmalay.zip\n",
    "# !wget https://huggingface.co/datasets/malaysia-ai/sarawakmalay-whisper-format/resolve/main/dataset.json -O sarawakmalay.json\n",
    "# !unzip sarawakmalay.zip"
   ]
  },
  {
   "cell_type": "code",
   "execution_count": 23,
   "id": "d4bc1a87",
   "metadata": {},
   "outputs": [
    {
     "data": {
      "text/plain": [
       "{'audio_filename': 'audio/SM_FF_MOBILELEGENDS_002-0.mp3',\n",
       " 'text': '<|startoftranscript|><|ms|><|transcribe|><|0.54|> : Hi, nama kamek Sofia. Kamek mok temuduga kitak untuk menceritakan permainan yang kitak suka main — sama ada permainan traditional ataupun moden. Boleh sik perkenalkan dirik kitak.<|10.44|><|endoftext|>'}"
      ]
     },
     "execution_count": 23,
     "metadata": {},
     "output_type": "execute_result"
    }
   ],
   "source": [
    "with open('sarawakmalay.json') as fopen:\n",
    "    sarawak = json.load(fopen)\n",
    "sarawak[0]"
   ]
  },
  {
   "cell_type": "code",
   "execution_count": 29,
   "id": "f97e6455",
   "metadata": {},
   "outputs": [],
   "source": [
    "extra = [\n",
    "    malay_conversational,\n",
    "    iban,\n",
    "    scripted_malay,\n",
    "    sarawak,\n",
    "]"
   ]
  },
  {
   "cell_type": "code",
   "execution_count": 25,
   "id": "8137cd28",
   "metadata": {},
   "outputs": [],
   "source": [
    "filenames = glob('malaysian-stt/*.jsonl') + [\n",
    "    'prepared-imda-ms.jsonl', \n",
    "    'prepared-imda.jsonl',\n",
    "    'indonesian-stt.jsonl'\n",
    "]"
   ]
  },
  {
   "cell_type": "code",
   "execution_count": 26,
   "id": "f4516022",
   "metadata": {
    "scrolled": false
   },
   "outputs": [
    {
     "name": "stderr",
     "output_type": "stream",
     "text": [
      "7664734it [00:44, 171846.04it/s]\n",
      "1455087it [00:05, 251480.02it/s]\n",
      "709423it [00:03, 186478.11it/s]\n",
      "1347342it [00:05, 266147.73it/s]\n",
      "850638it [00:04, 190591.47it/s]\n",
      "1217190it [00:04, 249723.56it/s]\n",
      "1861125it [00:07, 251767.86it/s]\n",
      "943282it [00:03, 278630.34it/s]\n"
     ]
    }
   ],
   "source": [
    "import os\n",
    "import json\n",
    "from tqdm import tqdm\n",
    "\n",
    "not_in = []\n",
    "\n",
    "for f in filenames:\n",
    "    with open(f) as fopen:\n",
    "        for l in tqdm(fopen):\n",
    "            l = json.loads(l)\n",
    "            if '/ubuntu/' in l['audio_filename']:\n",
    "                l['audio_filename'] = l['audio_filename'].split('/ubuntu/')[1]\n",
    "            if 'imda' in f:\n",
    "                l['audio_filename'] = l['audio_filename'].replace('IMDA-STT/', '')\n",
    "            if 'science' in f:\n",
    "                l['audio_filename'] = os.path.join('pseudolabel-science-large-v3-timestamp', l['audio_filename'])\n",
    "            \n",
    "            if not os.path.exists(l['audio_filename']):\n",
    "                not_in.append(l['audio_filename'])"
   ]
  },
  {
   "cell_type": "code",
   "execution_count": 37,
   "id": "cda01933",
   "metadata": {},
   "outputs": [
    {
     "data": {
      "text/plain": [
       "0"
      ]
     },
     "execution_count": 37,
     "metadata": {},
     "output_type": "execute_result"
    }
   ],
   "source": [
    "len(not_in)"
   ]
  },
  {
   "cell_type": "code",
   "execution_count": 53,
   "id": "60f786bb",
   "metadata": {},
   "outputs": [],
   "source": [
    "!rm -rf mosaic-stt"
   ]
  },
  {
   "cell_type": "code",
   "execution_count": 54,
   "id": "2e19e552",
   "metadata": {
    "scrolled": true
   },
   "outputs": [
    {
     "name": "stderr",
     "output_type": "stream",
     "text": [
      "7664734it [01:00, 126997.63it/s]\n",
      "1455087it [00:11, 130649.14it/s]\n",
      "709423it [00:07, 96981.72it/s] \n",
      "1347342it [00:08, 166589.94it/s]\n",
      "850638it [00:08, 98647.26it/s] \n",
      "1217190it [00:08, 141937.91it/s]\n",
      "1861125it [00:13, 136714.88it/s]\n",
      "943282it [00:07, 127295.11it/s]\n"
     ]
    }
   ],
   "source": [
    "columns = {\n",
    "    'audio_filename': 'str',\n",
    "    'text': 'str',\n",
    "}\n",
    "hashes = 'sha1', 'xxh64'\n",
    "\n",
    "not_in = []\n",
    "\n",
    "with MDSWriter(out='mosaic-stt', columns=columns, compression=None, hashes=hashes) as out:\n",
    "    for i in range(len(extra)):\n",
    "        for d in extra[i]:\n",
    "            if 'audio_filename' in d:\n",
    "                audio_filename = d['audio_filename']\n",
    "            else:\n",
    "                audio_filename = d['filename']\n",
    "            if 'text' in d:\n",
    "                text = d['text']\n",
    "            else:\n",
    "                text = d['Y']\n",
    "            l = {\n",
    "                'audio_filename': audio_filename,\n",
    "                'text': text,\n",
    "            }\n",
    "            if not os.path.exists(l['audio_filename']):\n",
    "                continue\n",
    "            \n",
    "            out.write(l)\n",
    "            \n",
    "    for f in filenames:\n",
    "        with open(f) as fopen:\n",
    "            for l in tqdm(fopen):\n",
    "                l = json.loads(l)\n",
    "                if '/ubuntu/' in l['audio_filename']:\n",
    "                    l['audio_filename'] = l['audio_filename'].split('/ubuntu/')[1]\n",
    "                if 'imda' in f:\n",
    "                    l['audio_filename'] = l['audio_filename'].replace('IMDA-STT/', '')\n",
    "                if 'science' in f:\n",
    "                    l['audio_filename'] = os.path.join('pseudolabel-science-large-v3-timestamp', l['audio_filename'])\n",
    "                if 'new_text' in l:\n",
    "                    l['text'] = l.pop('new_text')\n",
    "                    \n",
    "                if not os.path.exists(l['audio_filename']):\n",
    "                    not_in.append(l['audio_filename'])\n",
    "                    continue\n",
    "                \n",
    "                l.pop('index', None)\n",
    "                if len(l.keys()) > 2:\n",
    "                    print(l)\n",
    "#                 if len(l.keys()) == 2:\n",
    "#                     print(l)\n",
    "                out.write(l)"
   ]
  },
  {
   "cell_type": "code",
   "execution_count": 55,
   "id": "22ea4803",
   "metadata": {
    "scrolled": true
   },
   "outputs": [
    {
     "data": {
      "text/plain": [
       "16056567"
      ]
     },
     "execution_count": 55,
     "metadata": {},
     "output_type": "execute_result"
    }
   ],
   "source": [
    "dataset = LocalDataset('mosaic-stt')\n",
    "len(dataset)"
   ]
  },
  {
   "cell_type": "code",
   "execution_count": 56,
   "id": "ef92cf92",
   "metadata": {},
   "outputs": [
    {
     "data": {
      "text/html": [
       "\n",
       "                <audio  controls=\"controls\" >\n",
       "                    <source src=\"data:audio/x-wav;base64,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\" type=\"audio/x-wav\" />\n",
       "                    Your browser does not support the audio element.\n",
       "                </audio>\n",
       "              "
      ],
      "text/plain": [
       "<IPython.lib.display.Audio object>"
      ]
     },
     "execution_count": 56,
     "metadata": {},
     "output_type": "execute_result"
    }
   ],
   "source": [
    "import IPython.display as ipd\n",
    "ipd.Audio(dataset[0]['audio_filename'])"
   ]
  },
  {
   "cell_type": "code",
   "execution_count": 57,
   "id": "d53f6b3c",
   "metadata": {},
   "outputs": [
    {
     "data": {
      "text/plain": [
       "{'audio_filename': 'malay-conversational-speech-corpus-whisper-format/0.wav',\n",
       " 'text': '<|startoftranscript|><|ms|><|transcribe|><|0.00|> hai weh<|1.24|><|endoftext|>'}"
      ]
     },
     "execution_count": 57,
     "metadata": {},
     "output_type": "execute_result"
    }
   ],
   "source": [
    "dataset[0]"
   ]
  }
 ],
 "metadata": {
  "kernelspec": {
   "display_name": "python3.10",
   "language": "python",
   "name": "python3.10"
  },
  "language_info": {
   "codemirror_mode": {
    "name": "ipython",
    "version": 3
   },
   "file_extension": ".py",
   "mimetype": "text/x-python",
   "name": "python",
   "nbconvert_exporter": "python",
   "pygments_lexer": "ipython3",
   "version": "3.10.15"
  }
 },
 "nbformat": 4,
 "nbformat_minor": 5
}
